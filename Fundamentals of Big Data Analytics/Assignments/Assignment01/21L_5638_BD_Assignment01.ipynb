{
  "nbformat": 4,
  "nbformat_minor": 0,
  "metadata": {
    "colab": {
      "provenance": []
    },
    "kernelspec": {
      "name": "python3",
      "display_name": "Python 3"
    },
    "language_info": {
      "name": "python"
    }
  },
  "cells": [
    {
      "cell_type": "code",
      "source": [
        "!pip install mrjob"
      ],
      "metadata": {
        "colab": {
          "base_uri": "https://localhost:8080/"
        },
        "id": "hf8E0p8Kf0wp",
        "outputId": "68cfc846-d402-4d1e-bd74-58e6058d2d6a"
      },
      "execution_count": 1,
      "outputs": [
        {
          "output_type": "stream",
          "name": "stdout",
          "text": [
            "Collecting mrjob\n",
            "  Downloading mrjob-0.7.4-py2.py3-none-any.whl.metadata (7.3 kB)\n",
            "Requirement already satisfied: PyYAML>=3.10 in /usr/local/lib/python3.10/dist-packages (from mrjob) (6.0.2)\n",
            "Downloading mrjob-0.7.4-py2.py3-none-any.whl (439 kB)\n",
            "\u001b[2K   \u001b[90m━━━━━━━━━━━━━━━━━━━━━━━━━━━━━━━━━━━━━━━━\u001b[0m \u001b[32m439.6/439.6 kB\u001b[0m \u001b[31m2.3 MB/s\u001b[0m eta \u001b[36m0:00:00\u001b[0m\n",
            "\u001b[?25hInstalling collected packages: mrjob\n",
            "Successfully installed mrjob-0.7.4\n"
          ]
        }
      ]
    },
    {
      "cell_type": "code",
      "execution_count": 2,
      "metadata": {
        "colab": {
          "base_uri": "https://localhost:8080/"
        },
        "id": "lIv2FgULe9a3",
        "outputId": "efbfbf18-10e3-4d31-e03d-3be5c2085a43"
      },
      "outputs": [
        {
          "output_type": "stream",
          "name": "stdout",
          "text": [
            "Writing matrix_multiplication.py\n"
          ]
        }
      ],
      "source": [
        "%%writefile matrix_multiplication.py\n",
        "from mrjob.job import MRJob\n",
        "class MatrixMultiplication(MRJob):\n",
        "  def mapper(self, _, line):\n",
        "    matrix, i, j, value = line.split()\n",
        "    i, j, value = int(i), int(j), int(value)\n",
        "\n",
        "    if matrix == 'A':\n",
        "      for col in range(4):\n",
        "        yield ((i, col), (matrix, j, value))\n",
        "\n",
        "    elif matrix == 'B':\n",
        "      for row in range(5):\n",
        "        yield ((row, j), (matrix, i, value))\n",
        "\n",
        "  def reducer(self, key, values):\n",
        "    matrixA_values = {}\n",
        "    matrixB_values = {}\n",
        "\n",
        "    for matrix, index, value in values:\n",
        "      if matrix == 'A':\n",
        "        matrixA_values[index] = value\n",
        "      elif matrix == 'B':\n",
        "        matrixB_values[index] = value\n",
        "\n",
        "    result = 0\n",
        "    for k in matrixA_values:\n",
        "      if k in matrixB_values:\n",
        "        result += matrixA_values[k] * matrixB_values[k]\n",
        "\n",
        "    yield key, result\n",
        "\n",
        "if __name__ == '__main__':\n",
        "  MatrixMultiplication.run()"
      ]
    },
    {
      "cell_type": "code",
      "source": [
        "%%writefile matrixA.txt\n",
        "A 0 0 1\n",
        "A 0 1 2\n",
        "A 0 2 0\n",
        "A 1 0 3\n",
        "A 1 1 0\n",
        "A 1 2 5\n",
        "A 2 0 0\n",
        "A 2 1 7\n",
        "A 2 2 0\n",
        "A 3 0 4\n",
        "A 3 1 0\n",
        "A 3 2 0\n",
        "A 4 0 1\n",
        "A 4 1 8\n",
        "A 4 2 2"
      ],
      "metadata": {
        "colab": {
          "base_uri": "https://localhost:8080/"
        },
        "id": "M8sVxsok23Go",
        "outputId": "f25fdc05-62b6-4c71-d53e-34f7640e57cb"
      },
      "execution_count": 3,
      "outputs": [
        {
          "output_type": "stream",
          "name": "stdout",
          "text": [
            "Writing matrixA.txt\n"
          ]
        }
      ]
    },
    {
      "cell_type": "code",
      "source": [
        "%%writefile matrixB.txt\n",
        "B 0 0 1\n",
        "B 0 1 4\n",
        "B 0 2 5\n",
        "B 0 3 0\n",
        "B 1 0 0\n",
        "B 1 1 4\n",
        "B 1 2 0\n",
        "B 1 3 1\n",
        "B 2 0 6\n",
        "B 2 1 3\n",
        "B 2 2 9\n",
        "B 2 3 1"
      ],
      "metadata": {
        "colab": {
          "base_uri": "https://localhost:8080/"
        },
        "id": "WRbkX5CA3GX_",
        "outputId": "232db30b-0b7a-4335-8bec-ee9b5f6d4702"
      },
      "execution_count": 4,
      "outputs": [
        {
          "output_type": "stream",
          "name": "stdout",
          "text": [
            "Writing matrixB.txt\n"
          ]
        }
      ]
    },
    {
      "cell_type": "code",
      "source": [
        "!python matrix_multiplication.py matrixA.txt matrixB.txt"
      ],
      "metadata": {
        "colab": {
          "base_uri": "https://localhost:8080/"
        },
        "id": "Y03sHZLI3RRC",
        "outputId": "9338ae85-ee65-4457-c806-6907d4bf72fa"
      },
      "execution_count": 5,
      "outputs": [
        {
          "output_type": "stream",
          "name": "stdout",
          "text": [
            "No configs found; falling back on auto-configuration\n",
            "No configs specified for inline runner\n",
            "Creating temp directory /tmp/matrix_multiplication.root.20240925.171851.260459\n",
            "Running step 1 of 1...\n",
            "job output is in /tmp/matrix_multiplication.root.20240925.171851.260459/output\n",
            "Streaming final output from /tmp/matrix_multiplication.root.20240925.171851.260459/output...\n",
            "[1, 1]\t27\n",
            "[1, 2]\t60\n",
            "[1, 3]\t5\n",
            "[2, 0]\t0\n",
            "[2, 1]\t28\n",
            "[3, 3]\t0\n",
            "[4, 0]\t13\n",
            "[4, 1]\t42\n",
            "[4, 2]\t23\n",
            "[4, 3]\t10\n",
            "[0, 0]\t1\n",
            "[0, 1]\t12\n",
            "[0, 2]\t5\n",
            "[0, 3]\t2\n",
            "[1, 0]\t33\n",
            "[2, 2]\t0\n",
            "[2, 3]\t7\n",
            "[3, 0]\t4\n",
            "[3, 1]\t16\n",
            "[3, 2]\t20\n",
            "Removing temp directory /tmp/matrix_multiplication.root.20240925.171851.260459...\n"
          ]
        }
      ]
    }
  ]
}