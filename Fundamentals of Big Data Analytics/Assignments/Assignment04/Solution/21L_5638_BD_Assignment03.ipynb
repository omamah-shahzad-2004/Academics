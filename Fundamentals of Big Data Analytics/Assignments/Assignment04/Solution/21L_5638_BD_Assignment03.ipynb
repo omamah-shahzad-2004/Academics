{
  "nbformat": 4,
  "nbformat_minor": 0,
  "metadata": {
    "colab": {
      "provenance": []
    },
    "kernelspec": {
      "name": "python3",
      "display_name": "Python 3"
    },
    "language_info": {
      "name": "python"
    }
  },
  "cells": [
    {
      "cell_type": "code",
      "source": [
        "import pyspark\n",
        "from pyspark import SparkContext, SparkConf"
      ],
      "metadata": {
        "id": "c3tm_S1pew3u"
      },
      "execution_count": 1,
      "outputs": []
    },
    {
      "cell_type": "markdown",
      "source": [
        "# **Q:01**"
      ],
      "metadata": {
        "id": "2YgLJizTbXn_"
      }
    },
    {
      "cell_type": "code",
      "source": [
        "conf = SparkConf().setAppName(\"Question 1\").setMaster(\"local\")\n",
        "sc = SparkContext(conf = conf)"
      ],
      "metadata": {
        "id": "z550fT9YfLz3"
      },
      "execution_count": 2,
      "outputs": []
    },
    {
      "cell_type": "code",
      "execution_count": 3,
      "metadata": {
        "colab": {
          "base_uri": "https://localhost:8080/"
        },
        "id": "cTXqJHpwaihb",
        "outputId": "68dbcf46-3ed4-4b17-f0bc-6a4164a2474d"
      },
      "outputs": [
        {
          "output_type": "stream",
          "name": "stdout",
          "text": [
            "Writing input.txt\n"
          ]
        }
      ],
      "source": [
        "%%writefile input.txt\n",
        "Horrid Henry’s hound hunts in the massive Murree mountains. While silly stupid Samuel’s dark dreadful dragon likes to hunt in skies.\n",
        "Horrid Henry’s hound and Samuel’s dreadful dragon Dany are fast friends and like to hunt and play together. They call themselves fantastic fanciful foursome."
      ]
    },
    {
      "cell_type": "code",
      "source": [
        "Data = sc.textFile(\"input.txt\")"
      ],
      "metadata": {
        "id": "QclSmsqudLKs"
      },
      "execution_count": 4,
      "outputs": []
    },
    {
      "cell_type": "code",
      "source": [
        "rdd = Data.flatMap(lambda line: line.split(' '))"
      ],
      "metadata": {
        "id": "jLreabeaiuHs"
      },
      "execution_count": 5,
      "outputs": []
    },
    {
      "cell_type": "markdown",
      "source": [
        "**(A)**"
      ],
      "metadata": {
        "id": "F7OFbmsmtZ0_"
      }
    },
    {
      "cell_type": "code",
      "source": [
        "def consecutive_words(lst, n):\n",
        "    lst = list(lst)\n",
        "    for i in range(len(lst) - n + 1):\n",
        "        yield tuple(lst[i : i+n])"
      ],
      "metadata": {
        "id": "ZLghBf0m4InA"
      },
      "execution_count": 6,
      "outputs": []
    },
    {
      "cell_type": "code",
      "source": [
        "rddA = rdd.glom().flatMap(lambda x: consecutive_words(x, 2)).filter(lambda words: (len(words[0]) > 4) & ((len(words[1]) > 4))).filter(lambda x: x[0][0].lower() == x[1][0].lower()).map(lambda x: (x, 1)).count()\n",
        "\n",
        "print(rddA)"
      ],
      "metadata": {
        "colab": {
          "base_uri": "https://localhost:8080/"
        },
        "id": "GGW_ZB17mY1R",
        "outputId": "cb61d502-3a0e-431a-d7e0-c112207ab000"
      },
      "execution_count": 7,
      "outputs": [
        {
          "output_type": "stream",
          "name": "stdout",
          "text": [
            "13\n"
          ]
        }
      ]
    },
    {
      "cell_type": "markdown",
      "source": [
        "**(B)**"
      ],
      "metadata": {
        "id": "BSrQdfwNtg_Y"
      }
    },
    {
      "cell_type": "code",
      "source": [
        "rddB = rdd.glom().flatMap(lambda x: consecutive_words(x, 3)).filter(lambda words: (len(words[0]) > 4) & ((len(words[1]) > 4))).map(lambda x: (x[0][0].upper(), 1)).reduceByKey(lambda x, y: x + y).collect()\n",
        "\n",
        "for letter, count in rddB:\n",
        "  print(f\"{letter} => {count}\")"
      ],
      "metadata": {
        "colab": {
          "base_uri": "https://localhost:8080/"
        },
        "id": "4AICvB6TsFro",
        "outputId": "769ba581-2690-4329-81b9-2962813f9232"
      },
      "execution_count": 8,
      "outputs": [
        {
          "output_type": "stream",
          "name": "stdout",
          "text": [
            "H => 5\n",
            "M => 3\n",
            "W => 1\n",
            "S => 4\n",
            "D => 3\n",
            "T => 1\n",
            "F => 1\n"
          ]
        }
      ]
    },
    {
      "cell_type": "markdown",
      "source": [
        "**(C)**"
      ],
      "metadata": {
        "id": "wiqXToSGvKGX"
      }
    },
    {
      "cell_type": "code",
      "source": [
        "rddC = rdd.glom().flatMap(lambda x: consecutive_words(x, 3)).filter(lambda words: (len(words[0]) > 4) & ((len(words[1]) > 4))).map(lambda x: (x, 1)).reduceByKey(lambda x, y: x + y).collect()\n",
        "\n",
        "print(rddC)"
      ],
      "metadata": {
        "colab": {
          "base_uri": "https://localhost:8080/"
        },
        "id": "wvYfwfmhvQC7",
        "outputId": "b20a4c0a-125c-43e0-cec8-8c9597d69d67"
      },
      "execution_count": 9,
      "outputs": [
        {
          "output_type": "stream",
          "name": "stdout",
          "text": [
            "[(('Horrid', 'Henry’s', 'hound'), 2), (('Henry’s', 'hound', 'hunts'), 1), (('hound', 'hunts', 'in'), 1), (('massive', 'Murree', 'mountains.'), 1), (('Murree', 'mountains.', 'While'), 1), (('mountains.', 'While', 'silly'), 1), (('While', 'silly', 'stupid'), 1), (('silly', 'stupid', 'Samuel’s'), 1), (('stupid', 'Samuel’s', 'dark'), 1), (('dreadful', 'dragon', 'likes'), 1), (('dragon', 'likes', 'to'), 1), (('skies.', 'Horrid', 'Henry’s'), 1), (('Henry’s', 'hound', 'and'), 1), (('Samuel’s', 'dreadful', 'dragon'), 1), (('dreadful', 'dragon', 'Dany'), 1), (('themselves', 'fantastic', 'fanciful'), 1), (('fantastic', 'fanciful', 'foursome.'), 1)]\n"
          ]
        }
      ]
    },
    {
      "cell_type": "code",
      "source": [
        "sc.stop()"
      ],
      "metadata": {
        "id": "J1mZGzTq0VSp"
      },
      "execution_count": 10,
      "outputs": []
    },
    {
      "cell_type": "markdown",
      "source": [
        "# **Q: 02**"
      ],
      "metadata": {
        "id": "83Ik4KcDMgxs"
      }
    },
    {
      "cell_type": "code",
      "source": [
        "conf = SparkConf().setAppName(\"Question 2\").setMaster(\"local\")\n",
        "sc = SparkContext(conf = conf)"
      ],
      "metadata": {
        "id": "aL86IhjDSjmM"
      },
      "execution_count": 11,
      "outputs": []
    },
    {
      "cell_type": "code",
      "source": [
        "%%writefile input1.txt\n",
        "1:1 0 1 0 1 1 1 1 0 1 0\n",
        "2:1 0 1 0 1 1 1 1 0 0 0\n",
        "3:1 0 0 0 0 1 1 1 0 1 0\n",
        "4:1 1 1 1 1 1 1 1 0 1 1"
      ],
      "metadata": {
        "colab": {
          "base_uri": "https://localhost:8080/"
        },
        "id": "Fv3QvnafwzFz",
        "outputId": "ec371b4d-6192-4f09-87a8-4a30eb44a7d9"
      },
      "execution_count": 12,
      "outputs": [
        {
          "output_type": "stream",
          "name": "stdout",
          "text": [
            "Writing input1.txt\n"
          ]
        }
      ]
    },
    {
      "cell_type": "code",
      "source": [
        "%%writefile Reference.txt\n",
        "R1:1 0 0 0 1 1 1 1 0 0 0\n",
        "R2:1 1 1 1 1 1 1 1 1 1 1"
      ],
      "metadata": {
        "colab": {
          "base_uri": "https://localhost:8080/"
        },
        "id": "8TDTCjBvxCGU",
        "outputId": "4ecdd3dd-abde-49bb-c15f-cae8d8fb8170"
      },
      "execution_count": 13,
      "outputs": [
        {
          "output_type": "stream",
          "name": "stdout",
          "text": [
            "Writing Reference.txt\n"
          ]
        }
      ]
    },
    {
      "cell_type": "code",
      "source": [
        "Data = sc.textFile(\"input1.txt\")\n",
        "\n",
        "Data1 = sc.textFile(\"Reference.txt\")"
      ],
      "metadata": {
        "id": "5hruX1pgxLP0"
      },
      "execution_count": 14,
      "outputs": []
    },
    {
      "cell_type": "code",
      "source": [
        "rdd = Data.map(lambda line: line.split(\":\")).map(lambda x: (x[0], list(map(int, x[1].split()))))\n",
        "\n",
        "rdd1 = Data1.map(lambda line: line.split(\":\")).map(lambda x: (x[0], list(map(int, x[1].split()))))"
      ],
      "metadata": {
        "id": "bUQ4MmqZyHWO"
      },
      "execution_count": 15,
      "outputs": []
    },
    {
      "cell_type": "code",
      "source": [
        "def jaccard_similarity(input, reference):\n",
        "  intersection = sum([1 for i, r in zip(input, reference) if i == 1 and r == 1])\n",
        "  union = sum([1 for i, r in zip(input, reference) if i == 1 or r == 1])\n",
        "  return intersection / union if union != 0 else 0"
      ],
      "metadata": {
        "id": "CmmRfbMeznyF"
      },
      "execution_count": 16,
      "outputs": []
    },
    {
      "cell_type": "code",
      "source": [
        "rdd2 = rdd.cartesian(rdd1).map(lambda x : (x[0][0], (x[1][0], jaccard_similarity(x[0][1], x[1][1])))).groupByKey().mapValues(lambda ref: max(ref, key = lambda x: x[1])[0]).collect()\n",
        "\n",
        "for patient, reference in rdd2:\n",
        "  print(f\"{patient} => {reference}\")"
      ],
      "metadata": {
        "colab": {
          "base_uri": "https://localhost:8080/"
        },
        "id": "KFsBzhsu4NG6",
        "outputId": "d8cf628c-50c9-4442-99cb-a368c3a032bb"
      },
      "execution_count": 17,
      "outputs": [
        {
          "output_type": "stream",
          "name": "stdout",
          "text": [
            "1 => R1\n",
            "2 => R1\n",
            "3 => R1\n",
            "4 => R2\n"
          ]
        }
      ]
    },
    {
      "cell_type": "code",
      "source": [
        "sc.stop()"
      ],
      "metadata": {
        "id": "8Ov9V6Sa-EIW"
      },
      "execution_count": 18,
      "outputs": []
    },
    {
      "cell_type": "markdown",
      "source": [
        "# **Q: 03**"
      ],
      "metadata": {
        "id": "O3uXYaeBSeal"
      }
    },
    {
      "cell_type": "code",
      "source": [
        "conf = SparkConf().setAppName(\"Question 3\").setMaster(\"local\")\n",
        "sc = SparkContext(conf = conf)"
      ],
      "metadata": {
        "id": "M8FmSDxlTenm"
      },
      "execution_count": 19,
      "outputs": []
    },
    {
      "cell_type": "code",
      "source": [
        "%%writefile input2.txt\n",
        "Y. Lu -> B. Cao, C. Rego, F. Glover, K. Kiani\n",
        "B. Cao -> C. Rego, F. Glover, K. Kiani, Y. Lu\n",
        "C. Rego -> B. Cao, Y. Lu\n",
        "F. Glover -> B. Cao, Y. Lu\n",
        "B. Hosseini -> K. Kiani\n",
        "K. Kiani -> B. Hosseini, B. Cao, Y. Lu"
      ],
      "metadata": {
        "colab": {
          "base_uri": "https://localhost:8080/"
        },
        "id": "Dt1QFriGTrEk",
        "outputId": "14611650-0459-40c6-b775-57fe3f89cc8a"
      },
      "execution_count": 20,
      "outputs": [
        {
          "output_type": "stream",
          "name": "stdout",
          "text": [
            "Writing input2.txt\n"
          ]
        }
      ]
    },
    {
      "cell_type": "code",
      "source": [
        "Data = sc.textFile(\"input2.txt\")"
      ],
      "metadata": {
        "id": "iwsOMNTZXhFQ"
      },
      "execution_count": 21,
      "outputs": []
    },
    {
      "cell_type": "code",
      "source": [
        "rdd = Data.map(lambda line: (line.split(\"->\")[0].strip(), line.split(\"->\")[1].split(\", \")))"
      ],
      "metadata": {
        "id": "XCiS-6qhXql1"
      },
      "execution_count": 22,
      "outputs": []
    },
    {
      "cell_type": "code",
      "source": [
        "rdd1 = rdd.flatMapValues(lambda x: x)\n",
        "rdd2 = rdd1.join(rdd1).map(lambda x: (x[1], x[0])).filter(lambda x: x[0][0] != x[0][1]).map(lambda x: (tuple(sorted(x[0])), x[1])).groupByKey().mapValues(lambda x: list(set(x))).map(lambda x: ((x[0], len(x[1]), x[1]))).collect()\n",
        "\n",
        "for i in rdd2:\n",
        "  authors, count, coAuthors = i\n",
        "  print(f\"{authors[0]}, {authors[1]} -> ({count}) {', '. join(coAuthors)}\")"
      ],
      "metadata": {
        "colab": {
          "base_uri": "https://localhost:8080/"
        },
        "id": "CCj35EJ7cThC",
        "outputId": "91949a66-2761-49bc-ff40-bf598d0de77f"
      },
      "execution_count": 23,
      "outputs": [
        {
          "output_type": "stream",
          "name": "stdout",
          "text": [
            " B. Cao, C. Rego -> (1) Y. Lu\n",
            " B. Cao, K. Kiani -> (1) Y. Lu\n",
            "C. Rego, K. Kiani -> (1) Y. Lu\n",
            " C. Rego, F. Glover -> (1) B. Cao\n",
            " C. Rego, Y. Lu -> (1) B. Cao\n",
            "F. Glover, Y. Lu -> (1) B. Cao\n",
            " B. Hosseini, B. Cao -> (1) K. Kiani\n",
            " B. Cao, F. Glover -> (1) Y. Lu\n",
            "C. Rego, F. Glover -> (1) Y. Lu\n",
            "F. Glover, K. Kiani -> (2) B. Cao, Y. Lu\n",
            " B. Cao, Y. Lu -> (2) F. Glover, C. Rego\n",
            " C. Rego, K. Kiani -> (1) B. Cao\n",
            "K. Kiani, Y. Lu -> (1) B. Cao\n",
            " B. Hosseini, Y. Lu -> (1) K. Kiani\n",
            "B. Cao, Y. Lu -> (1) K. Kiani\n"
          ]
        }
      ]
    },
    {
      "cell_type": "code",
      "source": [
        "sc.stop()"
      ],
      "metadata": {
        "id": "wktC79gawiBR"
      },
      "execution_count": 24,
      "outputs": []
    }
  ]
}