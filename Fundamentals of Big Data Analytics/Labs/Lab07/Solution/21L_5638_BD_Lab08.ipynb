{
  "nbformat": 4,
  "nbformat_minor": 0,
  "metadata": {
    "colab": {
      "provenance": []
    },
    "kernelspec": {
      "name": "python3",
      "display_name": "Python 3"
    },
    "language_info": {
      "name": "python"
    }
  },
  "cells": [
    {
      "cell_type": "code",
      "source": [
        "!pip install tabula-py"
      ],
      "metadata": {
        "colab": {
          "base_uri": "https://localhost:8080/"
        },
        "id": "YEfTpDoraeeE",
        "outputId": "36d88a06-9de9-4180-a352-0ac14f7d9700"
      },
      "execution_count": 1,
      "outputs": [
        {
          "output_type": "stream",
          "name": "stdout",
          "text": [
            "Collecting tabula-py\n",
            "  Downloading tabula_py-2.10.0-py3-none-any.whl.metadata (7.6 kB)\n",
            "Requirement already satisfied: pandas>=0.25.3 in /usr/local/lib/python3.10/dist-packages (from tabula-py) (2.2.2)\n",
            "Requirement already satisfied: numpy>1.24.4 in /usr/local/lib/python3.10/dist-packages (from tabula-py) (1.26.4)\n",
            "Requirement already satisfied: distro in /usr/local/lib/python3.10/dist-packages (from tabula-py) (1.9.0)\n",
            "Requirement already satisfied: python-dateutil>=2.8.2 in /usr/local/lib/python3.10/dist-packages (from pandas>=0.25.3->tabula-py) (2.8.2)\n",
            "Requirement already satisfied: pytz>=2020.1 in /usr/local/lib/python3.10/dist-packages (from pandas>=0.25.3->tabula-py) (2024.2)\n",
            "Requirement already satisfied: tzdata>=2022.7 in /usr/local/lib/python3.10/dist-packages (from pandas>=0.25.3->tabula-py) (2024.2)\n",
            "Requirement already satisfied: six>=1.5 in /usr/local/lib/python3.10/dist-packages (from python-dateutil>=2.8.2->pandas>=0.25.3->tabula-py) (1.16.0)\n",
            "Downloading tabula_py-2.10.0-py3-none-any.whl (12.0 MB)\n",
            "\u001b[2K   \u001b[90m━━━━━━━━━━━━━━━━━━━━━━━━━━━━━━━━━━━━━━━━\u001b[0m \u001b[32m12.0/12.0 MB\u001b[0m \u001b[31m70.2 MB/s\u001b[0m eta \u001b[36m0:00:00\u001b[0m\n",
            "\u001b[?25hInstalling collected packages: tabula-py\n",
            "Successfully installed tabula-py-2.10.0\n"
          ]
        }
      ]
    },
    {
      "cell_type": "code",
      "execution_count": 2,
      "metadata": {
        "id": "sRMFlx-LUBE3"
      },
      "outputs": [],
      "source": [
        "from pyspark.sql import SparkSession\n",
        "import tabula\n",
        "from pyspark.sql.functions import collect_list, avg, col, max, min, length"
      ]
    },
    {
      "cell_type": "code",
      "source": [
        "spark = SparkSession.builder.master('local[*]').appName(\"Lab 08\").getOrCreate()"
      ],
      "metadata": {
        "id": "K5irdJRuaAgR"
      },
      "execution_count": 3,
      "outputs": []
    },
    {
      "cell_type": "code",
      "source": [
        "tabula.convert_into(\"Movies.csv.pdf\", \"Movies.csv\", output_format=\"csv\", pages=\"all\")"
      ],
      "metadata": {
        "colab": {
          "base_uri": "https://localhost:8080/"
        },
        "id": "YZW9e0GPatf4",
        "outputId": "5e327e7c-e35c-4726-c605-3e0b3a712d67"
      },
      "execution_count": 4,
      "outputs": [
        {
          "output_type": "stream",
          "name": "stderr",
          "text": [
            "WARNING:tabula.backend:Failed to import jpype dependencies. Fallback to subprocess.\n",
            "WARNING:tabula.backend:No module named 'jpype'\n"
          ]
        }
      ]
    },
    {
      "cell_type": "code",
      "source": [
        "df = spark.read.csv(\"Movies.csv\", inferSchema=True, header=True)\n",
        "\n",
        "df.show()"
      ],
      "metadata": {
        "colab": {
          "base_uri": "https://localhost:8080/"
        },
        "id": "pdMoYaD9b252",
        "outputId": "d670d860-e065-46e3-bd32-428cb856f5e8"
      },
      "execution_count": 5,
      "outputs": [
        {
          "output_type": "stream",
          "name": "stdout",
          "text": [
            "+----+------+----------------+--------------------+--------------------+-----------------+--------------+-----------+------+--------------+\n",
            "|Year|Length|           Title|               Genre|               Actor|          Actress|      Director| Popularity|Awards|         Image|\n",
            "+----+------+----------------+--------------------+--------------------+-----------------+--------------+-----------+------+--------------+\n",
            "|1990|   111|  Tie Me Up! Tie|       Ceo mDeodwyn!|        BanderasAnto|  iAobrilVictoria|  AlmodóvarPed|        o68|    No| NicholasCage.|\n",
            "|1991|   113|      High Heels|              Comedy|          BoséMiguel|    AbrilVictoria|  AlmodóvarPed|        o68|    No| NicholasCage.|\n",
            "|1983|   104|    Dead ZoneThe|              Horror|       WalkenChristo|   hAedramsBrooke|  CronenbergDa|       id79|    No| NicholasCage.|\n",
            "|1979|   122|            Cuba|              Action|         ConnerySean|      AdamsBrooke| LesterRichard|          6|    No| seanConnery.p|\n",
            "|1978|    94|   Days of Heave|               Drama|         GereRichard|      AdamsBrooke| MalickTerrenc|         14|    No| NicholasCage.|\n",
            "|1983|   140|       Octopussy|              Action|          MooreRoger|        AdamsMaud|      GlenJohn|         68|    No| NicholasCage.|\n",
            "|1984|   101|    Target Eagle|              Action|        ConnorsChuck|        AdamsMaud|  LomaJosé Ant|nio de la14|    No| NicholasCage.|\n",
            "|1989|    99|   American Ange|sD:r Bamapatism of B|  BooedrgTehneRobert|     A. damsTrudy| SebastianBeve|       ly28|    No| NicholasCage.|\n",
            "|1985|   104|          Subway|               Drama|      LambertChristo|AhdejraniIsabelle|     BessonLuc|          6|    No| NicholasCage.|\n",
            "|1990|   149|  Camille Claude|               Drama|       DepardieuGéra|  AddjaniIsabelle|  NuyttenBruno|         32|    No| NicholasCage.|\n",
            "|1982|   188|   Fanny and Ale|          aDnrdaemra|       AhlstedtBörje|   AdolphsonKrist|nBaergmanIngma|         81|   Yes|   Bergman.png|\n",
            "|1982|   117| Tragedy of a Ri|    Dicrualmouas Man|         TognazziUgo|       AimeeAnouk|BertolucciBern|      rdo17|    No| NicholasCage.|\n",
            "|1966|   103|    A Man & a Wo|             Darnama|      TrintignantJea| -ALiomueiseAnouk| LelouchClaude|         46|   Yes| NicholasCage.|\n",
            "|1986|   112|    A Man & a Wo|  Darna: mTawenty Ye|Trrsi nLtaigtnear...| -ALiomueiseAnouk| LelouchClaude|         49|    No| NicholasCage.|\n",
            "|1966|   103|   Un Hombre y u|        Dar Mamujaer|      TrintignantJea| -ALiomueiseAnouk| LelouchClaude|          6|   Yes| NicholasCage.|\n",
            "|1985|   112|Official StoryTh|               Drama|       AlterioHector|     AleandroNorm|    PuenzoLuiz|         39|   Yes| NicholasCage.|\n",
            "|1976|   150|  Lindbergh Kidn|   Dprpainmga CaseTh|       HopkinsAnthon|    AlexanderDeni|    eKulikBuzz|         51|    No| AnthonyHopkin|\n",
            "|1929|    84|       Blackmail|             Mystery|         LongdenJohn|       AlgoodSara|HitchcockAlfre|          2|    No|alfredHitchcoc|\n",
            "|1963|   109|   Donovan's Ree|              Comedy|           WayneJohn|   AllenElizabeth|      FordJohn|         62|    No|  johnWayne.pn|\n",
            "|1988|   110|   Tucker: The M|  nD r&a mHias Dream|         BridgesJeff|        AllenJoan| CoppolaFranci|     Ford68|    No| NicholasCage.|\n",
            "+----+------+----------------+--------------------+--------------------+-----------------+--------------+-----------+------+--------------+\n",
            "only showing top 20 rows\n",
            "\n"
          ]
        }
      ]
    },
    {
      "cell_type": "code",
      "source": [
        "df.printSchema()"
      ],
      "metadata": {
        "colab": {
          "base_uri": "https://localhost:8080/"
        },
        "id": "qaEHxRSJeo0q",
        "outputId": "330c8d35-fe24-41be-837b-47454bf7f984"
      },
      "execution_count": 6,
      "outputs": [
        {
          "output_type": "stream",
          "name": "stdout",
          "text": [
            "root\n",
            " |-- Year: string (nullable = true)\n",
            " |-- Length: string (nullable = true)\n",
            " |-- Title: string (nullable = true)\n",
            " |-- Genre: string (nullable = true)\n",
            " |-- Actor: string (nullable = true)\n",
            " |-- Actress: string (nullable = true)\n",
            " |-- Director: string (nullable = true)\n",
            " |-- Popularity: string (nullable = true)\n",
            " |-- Awards: string (nullable = true)\n",
            " |-- Image: string (nullable = true)\n",
            "\n"
          ]
        }
      ]
    },
    {
      "cell_type": "markdown",
      "source": [
        "# **Q: 01**"
      ],
      "metadata": {
        "id": "dFhk4rvcdVE5"
      }
    },
    {
      "cell_type": "code",
      "source": [
        "rdd = df.select('Title', 'Year', 'Director').filter((df['Genre'] == 'Action') & (df['Awards'] == 'Yes'))\n",
        "\n",
        "rdd.show()"
      ],
      "metadata": {
        "colab": {
          "base_uri": "https://localhost:8080/"
        },
        "id": "htgi9dnRdZVs",
        "outputId": "d775b458-d4be-431b-825c-d1dcf679f93f"
      },
      "execution_count": 7,
      "outputs": [
        {
          "output_type": "stream",
          "name": "stdout",
          "text": [
            "+-----+----+--------+\n",
            "|Title|Year|Director|\n",
            "+-----+----+--------+\n",
            "+-----+----+--------+\n",
            "\n"
          ]
        }
      ]
    },
    {
      "cell_type": "markdown",
      "source": [
        "# **Q: 02**"
      ],
      "metadata": {
        "id": "Yh97xRPagUfp"
      }
    },
    {
      "cell_type": "code",
      "source": [
        "rdd1 = df.select('Actor', 'Title', 'Director').filter(df['Awards'] == 'Yes').groupBy('Actor').agg(collect_list('Title').alias('Movies'), collect_list('Director').alias('Directors'))\n",
        "\n",
        "rdd1.show(truncate=False)"
      ],
      "metadata": {
        "colab": {
          "base_uri": "https://localhost:8080/"
        },
        "id": "kGlTSK--gp5p",
        "outputId": "068908d4-948e-44b1-d0a6-37801dca9c05"
      },
      "execution_count": 8,
      "outputs": [
        {
          "output_type": "stream",
          "name": "stdout",
          "text": [
            "+--------------+---------------------------------------+----------------------------------------------+\n",
            "|Actor         |Movies                                 |Directors                                     |\n",
            "+--------------+---------------------------------------+----------------------------------------------+\n",
            "|LintDerek De  |[AssaultThe]                           |[RademakersFo]                                |\n",
            "|LancasterBurt |[Airport, Come BackLittl]              |[eSeatonGeorge, MannDaniel]                   |\n",
            "|TikhonovVyach |[War & Peace]                          |[BiolandarchukSe]                             |\n",
            "|BridgesBeau   |[Norma Rae]                            |[RittMartin]                                  |\n",
            "|LoneJohn      |[Last EmperorT]                        |[BertolucciBern]                              |\n",
            "|IronsJeremy   |[Reversal of For]                      |[SchroederBarb]                               |\n",
            "|RichardsonRal |[HeiressThe]                           |[vWiaylerWilliam]                             |\n",
            "|HarrisEd      |[Places in the H]                      |[BentonRobert]                                |\n",
            "|ConnerySean   |[UntouchablesT]                        |[De PalmaBrian]                               |\n",
            "|HarrisonRex   |[My Fair Lady]                         |[CukorGeorge]                                 |\n",
            "|HudsonRock    |[Giant]                                |[StevensGeorg]                                |\n",
            "|LaFontJean-Ph |[Babette's Feas]                       |[eAxelGabriel]                                |\n",
            "|TracySpencer  |[Judgment at N, Guess Who's, Boys Town]|[KramerStanley, nKeramerStanley, TaurogNorman]|\n",
            "|JosephsonErla |[Cries & Whisp, Scenes from a]         |[eBtergmanIngma, BergmanIngma]                |\n",
            "|BeymerRichard |[West Side Stor]                       |[WiseRobert]                                  |\n",
            "|KlineKevin    |[Sophie's Choic]                       |[PakulaAlan J.]                               |\n",
            "|GreyJoel      |[Cabaret]                              |[FosseBob]                                    |\n",
            "|AielloDanny   |[Purple Rose of]                       |[AllenWoody]                                  |\n",
            "|MooreDudley   |[Arthur]                               |[GordonSteve]                                 |\n",
            "|RobertsonCliff|[Charly]                               |[NelsonRalph]                                 |\n",
            "+--------------+---------------------------------------+----------------------------------------------+\n",
            "only showing top 20 rows\n",
            "\n"
          ]
        }
      ]
    },
    {
      "cell_type": "markdown",
      "source": [
        "# **Q: 03**"
      ],
      "metadata": {
        "id": "uUTJlf9cjCEd"
      }
    },
    {
      "cell_type": "code",
      "source": [
        "rdd2 = df.select('title').filter(df['Awards'] == 'No').orderBy(df['Popularity'].desc()).limit(10)\n",
        "\n",
        "rdd2.show()"
      ],
      "metadata": {
        "colab": {
          "base_uri": "https://localhost:8080/"
        },
        "id": "9OBwSeHkjFTc",
        "outputId": "07b1bd34-1ea9-482d-cae1-53b04a6cb099"
      },
      "execution_count": 9,
      "outputs": [
        {
          "output_type": "stream",
          "name": "stdout",
          "text": [
            "+--------------+\n",
            "|         title|\n",
            "+--------------+\n",
            "|     Going Ape|\n",
            "|LadykillersThe|\n",
            "|Sweet Smell of|\n",
            "|Angel & the Ba|\n",
            "|    Bandolero!|\n",
            "|        Chisum|\n",
            "|       Ffolkes|\n",
            "| On Wings of E|\n",
            "|  Hellfighters|\n",
            "|  Wild GeeseTh|\n",
            "+--------------+\n",
            "\n"
          ]
        }
      ]
    },
    {
      "cell_type": "markdown",
      "source": [
        "# **Q: 04**"
      ],
      "metadata": {
        "id": "GPoQoyhsol1l"
      }
    },
    {
      "cell_type": "code",
      "source": [
        "rdd3 = df.select('Title').filter(df['Year'] < '1980').orderBy(df['Popularity'].asc()).limit(10)\n",
        "\n",
        "rdd3.show()"
      ],
      "metadata": {
        "colab": {
          "base_uri": "https://localhost:8080/"
        },
        "id": "Mj3EmZAdoqBH",
        "outputId": "b592584c-de6f-4c00-8366-fed44c8eadf5"
      },
      "execution_count": 10,
      "outputs": [
        {
          "output_type": "stream",
          "name": "stdout",
          "text": [
            "+--------------+\n",
            "|         Title|\n",
            "+--------------+\n",
            "|          NULL|\n",
            "|          NULL|\n",
            "|          NULL|\n",
            "|          NULL|\n",
            "|          NULL|\n",
            "|          NULL|\n",
            "|          NULL|\n",
            "|White Lightnin|\n",
            "|          NULL|\n",
            "|          NULL|\n",
            "+--------------+\n",
            "\n"
          ]
        }
      ]
    },
    {
      "cell_type": "markdown",
      "source": [
        "# **Q: 05**"
      ],
      "metadata": {
        "id": "FoPtq0ogprE6"
      }
    },
    {
      "cell_type": "code",
      "source": [
        "rdd4 = df.select('Genre', 'Length').groupBy('Genre').agg(avg('Length').alias('Average Length'))\n",
        "\n",
        "rdd4.show()"
      ],
      "metadata": {
        "colab": {
          "base_uri": "https://localhost:8080/"
        },
        "id": "V5UCTZE4pt9C",
        "outputId": "961e8783-9da5-4d3b-9e60-a3fb346d0e19"
      },
      "execution_count": 11,
      "outputs": [
        {
          "output_type": "stream",
          "name": "stdout",
          "text": [
            "+--------------------+--------------+\n",
            "|               Genre|Average Length|\n",
            "+--------------------+--------------+\n",
            "|              lDrama|          95.0|\n",
            "|          Muiytstery|          95.0|\n",
            "|        eWrneesrtern|          60.0|\n",
            "|      AScotriocnerer|          90.0|\n",
            "|             Dutrama|          NULL|\n",
            "|              Dgrama|         105.0|\n",
            "| WDaelstotenr nGangT|         180.0|\n",
            "|D arta tmhea Penalty|         101.0|\n",
            "|   C &o mToemdyorrow|         118.0|\n",
            "|      MgeysrsteTrhye|         102.0|\n",
            "|Cn oinm tehdey Avoca|          90.0|\n",
            "|           tCi omedy|         112.0|\n",
            "|              fDrama|          88.0|\n",
            "|            Meystery|         119.0|\n",
            "| C Boamcekd iny Laug|          55.0|\n",
            "|Wstesrnte GrnreatsRi|          NULL|\n",
            "|              iWc ar|         111.0|\n",
            "|           DKrisasma|         104.0|\n",
            "|        Darrarmiaage|          NULL|\n",
            "|           aAgcetion|         127.0|\n",
            "+--------------------+--------------+\n",
            "only showing top 20 rows\n",
            "\n"
          ]
        }
      ]
    },
    {
      "cell_type": "markdown",
      "source": [
        "# **Q: 06**"
      ],
      "metadata": {
        "id": "_X08mVx-tCUI"
      }
    },
    {
      "cell_type": "code",
      "source": [
        "rdd5 = df.select('Actor', 'Actress').filter(df['Genre'] == 'Comedy').groupBy('Actor', 'Actress').count()\n",
        "rdd6 = rdd5.filter(col('count') > 3)\n",
        "\n",
        "rdd6.show()"
      ],
      "metadata": {
        "colab": {
          "base_uri": "https://localhost:8080/"
        },
        "id": "jW80505atFcH",
        "outputId": "6b1e52bc-12f8-40be-9d8e-33551c86201c"
      },
      "execution_count": 12,
      "outputs": [
        {
          "output_type": "stream",
          "name": "stdout",
          "text": [
            "+----------+-----------+-----+\n",
            "|     Actor|    Actress|count|\n",
            "+----------+-----------+-----+\n",
            "|AllenWoody|KeatonDiane|    5|\n",
            "+----------+-----------+-----+\n",
            "\n"
          ]
        }
      ]
    },
    {
      "cell_type": "markdown",
      "source": [
        "# **Q: 07**"
      ],
      "metadata": {
        "id": "4ImPOyKm0-Ho"
      }
    },
    {
      "cell_type": "code",
      "source": [
        "comedy = df.select('Actor').filter(df['Genre'] == 'Comedy').distinct()\n",
        "drama = df.select('Actor').filter(df['Genre'] == 'Drama').distinct()\n",
        "rdd7 = comedy.intersect(drama)\n",
        "\n",
        "rdd7.show()"
      ],
      "metadata": {
        "colab": {
          "base_uri": "https://localhost:8080/"
        },
        "id": "EfJLRWYt1BTw",
        "outputId": "9de0f871-4104-4192-845b-160bdbc7654c"
      },
      "execution_count": 13,
      "outputs": [
        {
          "output_type": "stream",
          "name": "stdout",
          "text": [
            "+--------------+\n",
            "|         Actor|\n",
            "+--------------+\n",
            "|   WillisBruce|\n",
            "| EastwoodClint|\n",
            "|   ConnerySean|\n",
            "|  TracySpencer|\n",
            "|    NelsonJudd|\n",
            "|   MooreDudley|\n",
            "|    FinchPeter|\n",
            "|  BrandoMarlon|\n",
            "| HopkinsHarold|\n",
            "|    NewmanPaul|\n",
            "|  BeattyWarren|\n",
            "|LambertChristo|\n",
            "|  BoyerCharles|\n",
            "|  SheenCharlie|\n",
            "|   CageNicolas|\n",
            "| HowellC. Thom|\n",
            "| RedfordRobert|\n",
            "|     CruiseTom|\n",
            "|DreyfussRichar|\n",
            "|    FondaHenry|\n",
            "+--------------+\n",
            "only showing top 20 rows\n",
            "\n"
          ]
        }
      ]
    },
    {
      "cell_type": "markdown",
      "source": [
        "# **Q: 08**"
      ],
      "metadata": {
        "id": "IVq6w35C2i6d"
      }
    },
    {
      "cell_type": "code",
      "source": [
        "comedy = df.select('Actor').filter(df['Genre'] == 'Comedy').distinct()\n",
        "drama = df.select('Actor').filter(df['Genre'] == 'Drama').distinct()\n",
        "rdd8 = comedy.union(drama)\n",
        "\n",
        "rdd8.show()"
      ],
      "metadata": {
        "colab": {
          "base_uri": "https://localhost:8080/"
        },
        "id": "FhSa-myc2loG",
        "outputId": "3c86775c-8fe7-4bac-e276-35ca61911611"
      },
      "execution_count": 14,
      "outputs": [
        {
          "output_type": "stream",
          "name": "stdout",
          "text": [
            "+-------------+\n",
            "|        Actor|\n",
            "+-------------+\n",
            "|   BoséMiguel|\n",
            "|KeatonMichael|\n",
            "|  WillisBruce|\n",
            "|  JaglomHenry|\n",
            "|DallesandroJo|\n",
            "|  DoranJohnny|\n",
            "|     LeeKarla|\n",
            "|  RobertsEric|\n",
            "|     WaitsTom|\n",
            "|     CryerJon|\n",
            "|  MoranisRick|\n",
            "|EastwoodClint|\n",
            "|  ConnerySean|\n",
            "|  BegleyEdJr.|\n",
            "| CassidyDavid|\n",
            "|   PiscopoJoe|\n",
            "| FeldmanMarty|\n",
            "| TracySpencer|\n",
            "|BanderasAnton|\n",
            "|   NelsonJudd|\n",
            "+-------------+\n",
            "only showing top 20 rows\n",
            "\n"
          ]
        }
      ]
    },
    {
      "cell_type": "markdown",
      "source": [
        "# **Q: 09**"
      ],
      "metadata": {
        "id": "e0hYIEjr4Bmj"
      }
    },
    {
      "cell_type": "code",
      "source": [
        "comedy = df.select('Actor').filter(df['Genre'] == 'Comedy').distinct()\n",
        "actors = df.select('Actor').distinct()\n",
        "rdd9 = actors.subtract(comedy)\n",
        "\n",
        "rdd9.show()"
      ],
      "metadata": {
        "colab": {
          "base_uri": "https://localhost:8080/"
        },
        "id": "2YeQ02Lk4EQ7",
        "outputId": "a64355bd-4b0a-43f8-b905-5028fe141d38"
      },
      "execution_count": 15,
      "outputs": [
        {
          "output_type": "stream",
          "name": "stdout",
          "text": [
            "+---------------+\n",
            "|          Actor|\n",
            "+---------------+\n",
            "|SCtluefefseJohn|\n",
            "|   CottenJoseph|\n",
            "|       BrownTom|\n",
            "|     DillonMatt|\n",
            "|   LintDerek De|\n",
            "|  LancasterBurt|\n",
            "|    RomeroCesar|\n",
            "|  StockwellDean|\n",
            "|   JourdanLouis|\n",
            "|    ManesseGasp|\n",
            "|  TikhonovVyach|\n",
            "|   ShimuraTakas|\n",
            "|    UrichRobert|\n",
            "|       DavisGuy|\n",
            "|    BridgesBeau|\n",
            "|    KattWilliam|\n",
            "|    BakulaScott|\n",
            "|      PriceMarc|\n",
            "|   NaughtonDavi|\n",
            "|  eDlanielsJeff|\n",
            "+---------------+\n",
            "only showing top 20 rows\n",
            "\n"
          ]
        }
      ]
    },
    {
      "cell_type": "markdown",
      "source": [
        "# **Q: 10**"
      ],
      "metadata": {
        "id": "5V3X5QVt5qVb"
      }
    },
    {
      "cell_type": "code",
      "source": [
        "rdd10 = df.select('Actor', 'Popularity').groupBy('Actor').agg(avg('Popularity').alias('Average Popularity'), max('Popularity').alias('Maximum Popularity'), min('Popularity').alias('Minimum Popularity'))\n",
        "\n",
        "rdd10.show()"
      ],
      "metadata": {
        "colab": {
          "base_uri": "https://localhost:8080/"
        },
        "id": "T5bYKsHb5svc",
        "outputId": "8c100d5f-e607-4264-e964-77f8af23f7aa"
      },
      "execution_count": 16,
      "outputs": [
        {
          "output_type": "stream",
          "name": "stdout",
          "text": [
            "+-------------------+------------------+------------------+------------------+\n",
            "|              Actor|Average Popularity|Maximum Popularity|Minimum Popularity|\n",
            "+-------------------+------------------+------------------+------------------+\n",
            "|               NULL|58.166666666666664|                77|                32|\n",
            "|'W SimldaertGeer ne|              42.0|                42|                42|\n",
            "|         AbelAlfred|              49.0|                49|                49|\n",
            "|       AbrahamF. Mu|               6.0|                 6|                 6|\n",
            "|      AdolphsonEdvi|              49.0|                72|                26|\n",
            "|        AherneBrian|              57.0|                57|                57|\n",
            "|      AhlstedtBörje|              81.0|                81|                81|\n",
            "|        AielloDanny|              12.5|                 5|                20|\n",
            "|          AkanTarik|              53.0|                53|                53|\n",
            "|     AlbaicínRafael|              55.0|                55|                55|\n",
            "|       AlbertEdward|              82.0|                82|                82|\n",
            "|           AldaAlan|              32.5|                53|                12|\n",
            "|          AllenBill|              75.0|                75|                75|\n",
            "|         AllenWoody|              55.8|                84|                12|\n",
            "|      AlterioHector|              39.0|                39|                39|\n",
            "|          AmecheDon|              45.0|                45|                45|\n",
            "|       AndersonKevi|              53.0|                53|                53|\n",
            "|      AnderssonWikt|              66.0|                66|                66|\n",
            "|       AngladeJean-|              NULL|            ques71|            ques71|\n",
            "|        AnneseFrank|              45.0|                45|                45|\n",
            "+-------------------+------------------+------------------+------------------+\n",
            "only showing top 20 rows\n",
            "\n"
          ]
        }
      ]
    },
    {
      "cell_type": "markdown",
      "source": [
        "# **Q: 11**"
      ],
      "metadata": {
        "id": "yAhV0VdD_UIj"
      }
    },
    {
      "cell_type": "code",
      "source": [
        "rdd11 = df.select('Year').filter(df['Year'] >= '1960').groupBy('Year').count()\n",
        "\n",
        "rdd11.show()"
      ],
      "metadata": {
        "colab": {
          "base_uri": "https://localhost:8080/"
        },
        "id": "O19c0bMb_XF3",
        "outputId": "47798e1a-7586-4a84-a717-0856abb244ce"
      },
      "execution_count": 17,
      "outputs": [
        {
          "output_type": "stream",
          "name": "stdout",
          "text": [
            "+---------------+-----+\n",
            "|           Year|count|\n",
            "+---------------+-----+\n",
            "|           1987|   99|\n",
            "| JackNicholson.|    1|\n",
            "|           1972|   23|\n",
            "|              g|   62|\n",
            "|           1988|   94|\n",
            "|           1977|   28|\n",
            "| burtLancaster.|    1|\n",
            "|elizabethTaylor|    1|\n",
            "|           1971|   23|\n",
            "|           1984|   38|\n",
            "|           1982|   35|\n",
            "|           1965|   11|\n",
            "|           1962|   14|\n",
            "|          s.png|   12|\n",
            "|         rn.png|    8|\n",
            "|           1981|   22|\n",
            "| merylStreep.pn|    1|\n",
            "|           1978|   17|\n",
            "|           1974|   23|\n",
            "|           1964|   13|\n",
            "+---------------+-----+\n",
            "only showing top 20 rows\n",
            "\n"
          ]
        }
      ]
    },
    {
      "cell_type": "markdown",
      "source": [
        "# **Q: 12**"
      ],
      "metadata": {
        "id": "Iz363TTkMEmo"
      }
    },
    {
      "cell_type": "code",
      "source": [
        "rdd12 = df.select('Year').groupBy('Year').count()\n",
        "\n",
        "rdd12.show()"
      ],
      "metadata": {
        "colab": {
          "base_uri": "https://localhost:8080/"
        },
        "id": "xY_-KZ_3MHsB",
        "outputId": "7ead3ea1-de84-4ac9-f303-b7079a58bfba"
      },
      "execution_count": 18,
      "outputs": [
        {
          "output_type": "stream",
          "name": "stdout",
          "text": [
            "+---------------+-----+\n",
            "|           Year|count|\n",
            "+---------------+-----+\n",
            "|           1953|   16|\n",
            "|           1957|   16|\n",
            "|           1987|   99|\n",
            "|           1956|   15|\n",
            "|           1936|    6|\n",
            "|           1958|   11|\n",
            "| JackNicholson.|    1|\n",
            "|           1943|    8|\n",
            "|           1972|   23|\n",
            "|              g|   62|\n",
            "|           1931|    9|\n",
            "|           1988|   94|\n",
            "|           1926|    4|\n",
            "|           1938|    8|\n",
            "|           1932|    8|\n",
            "|           1977|   28|\n",
            "| burtLancaster.|    1|\n",
            "|elizabethTaylor|    1|\n",
            "|           1971|   23|\n",
            "|           1984|   38|\n",
            "+---------------+-----+\n",
            "only showing top 20 rows\n",
            "\n"
          ]
        }
      ]
    },
    {
      "cell_type": "markdown",
      "source": [
        "# **Q: 13**"
      ],
      "metadata": {
        "id": "CDwhl-DXMcBR"
      }
    },
    {
      "cell_type": "code",
      "source": [
        "rdd13 = df.select('Year', 'Genre').filter(df['Length'] > 100).groupBy('Year', 'Genre').count()\n",
        "\n",
        "rdd13.show()"
      ],
      "metadata": {
        "colab": {
          "base_uri": "https://localhost:8080/"
        },
        "id": "KWpO6vS6Menj",
        "outputId": "8bb71bbe-633d-4726-b916-144f104cf603"
      },
      "execution_count": 19,
      "outputs": [
        {
          "output_type": "stream",
          "name": "stdout",
          "text": [
            "+----+------------------+-----+\n",
            "|Year|             Genre|count|\n",
            "+----+------------------+-----+\n",
            "|1984|            Comedy|    2|\n",
            "|1958|             Drama|    2|\n",
            "|1968|             Music|    1|\n",
            "|1967|             Drama|    1|\n",
            "|1944|      oWvear Tokyo|    1|\n",
            "|1987|      iCetonmamedy|    1|\n",
            "|1990|           Mystery|    2|\n",
            "|1975|          Ahection|    1|\n",
            "|1997|  oSncience Fictio|    1|\n",
            "|1988|nD r&a mHias Dream|    1|\n",
            "|1988|        Canodmaedy|    1|\n",
            "|1988|          Donrasma|    1|\n",
            "|1976|         vAilction|    1|\n",
            "|1965|          TMhuesic|    1|\n",
            "|1988|            Action|    2|\n",
            "|1948|        rWs estern|    1|\n",
            "|1975|            Action|    2|\n",
            "|1956| D Araumguast Moon|    1|\n",
            "|1992|             Drama|   10|\n",
            "|1969|           Western|    3|\n",
            "+----+------------------+-----+\n",
            "only showing top 20 rows\n",
            "\n"
          ]
        }
      ]
    },
    {
      "cell_type": "markdown",
      "source": [
        "# **Q: 14**"
      ],
      "metadata": {
        "id": "MsDkbyVCNUVz"
      }
    },
    {
      "cell_type": "code",
      "source": [
        "rdd14 = df.select('Title').filter(df['Year'] < 1990).orderBy('Title')\n",
        "\n",
        "rdd14.show()"
      ],
      "metadata": {
        "colab": {
          "base_uri": "https://localhost:8080/"
        },
        "id": "8OovIRhxNXBe",
        "outputId": "e2fe0000-cba3-4105-a144-acd0ac7cb16c"
      },
      "execution_count": 20,
      "outputs": [
        {
          "output_type": "stream",
          "name": "stdout",
          "text": [
            "+-----------------+\n",
            "|            Title|\n",
            "+-----------------+\n",
            "|    2001: A Space|\n",
            "|          48 Hrs.|\n",
            "|   A Big Hand for|\n",
            "| A Child Is Waiti|\n",
            "|    A Chorus Line|\n",
            "|    A Clockwork O|\n",
            "|   A Coeur Joie(H|\n",
            "|  A Cry in the Da|\n",
            "|   A Dry White Se|\n",
            "|    A Fine Madnes|\n",
            "|    A Fish Called|\n",
            "|A Fistful of Doll|\n",
            "|      A Guy Named|\n",
            "|   A Lesson in Lo|\n",
            "| A Little Night M|\n",
            "|     A Man & a Wo|\n",
            "|     A Man & a Wo|\n",
            "|  A Man for All S|\n",
            "|  A Matter of Tim|\n",
            "|   A Month in the|\n",
            "+-----------------+\n",
            "only showing top 20 rows\n",
            "\n"
          ]
        }
      ]
    },
    {
      "cell_type": "markdown",
      "source": [
        "# **Q: 15**"
      ],
      "metadata": {
        "id": "hqLxdEJsN92I"
      }
    },
    {
      "cell_type": "code",
      "source": [
        "rdd15 = df.select('Title').filter(length(df['Title']) > 50)\n",
        "\n",
        "rdd15.show()"
      ],
      "metadata": {
        "colab": {
          "base_uri": "https://localhost:8080/"
        },
        "id": "oj-HGkjPOAfy",
        "outputId": "4875d8b4-1728-402c-daee-820da22baad7"
      },
      "execution_count": 21,
      "outputs": [
        {
          "output_type": "stream",
          "name": "stdout",
          "text": [
            "+-----+\n",
            "|Title|\n",
            "+-----+\n",
            "+-----+\n",
            "\n"
          ]
        }
      ]
    },
    {
      "cell_type": "code",
      "source": [
        "spark.stop()"
      ],
      "metadata": {
        "id": "B7x0LivBPZnR"
      },
      "execution_count": 22,
      "outputs": []
    }
  ]
}