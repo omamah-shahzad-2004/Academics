{
  "nbformat": 4,
  "nbformat_minor": 0,
  "metadata": {
    "colab": {
      "provenance": []
    },
    "kernelspec": {
      "name": "python3",
      "display_name": "Python 3"
    },
    "language_info": {
      "name": "python"
    }
  },
  "cells": [
    {
      "cell_type": "code",
      "execution_count": 64,
      "metadata": {
        "id": "UhYRbQdXbYja"
      },
      "outputs": [],
      "source": [
        "from pyspark.sql import SparkSession\n",
        "import pyspark\n",
        "from pyspark import SparkContext, SparkConf\n",
        "from pyspark.sql.functions import collect_list, col\n",
        "from pyspark.ml.feature import VectorAssembler, StandardScaler\n",
        "from pyspark.ml.clustering import KMeans, BisectingKMeans\n",
        "from pyspark.ml.evaluation import ClusteringEvaluator"
      ]
    },
    {
      "cell_type": "markdown",
      "source": [
        "# **Q: 01**"
      ],
      "metadata": {
        "id": "LCFHfQYpwYci"
      }
    },
    {
      "cell_type": "code",
      "source": [
        "spark = SparkSession.builder.master('local[*]').appName(\"Lab 09\").getOrCreate()"
      ],
      "metadata": {
        "id": "-Gtv4fPqxA6V"
      },
      "execution_count": null,
      "outputs": []
    },
    {
      "cell_type": "code",
      "source": [
        "rdd1 = spark.read.csv(\"emp1.txt\", sep=',', inferSchema=True, header=True)\n",
        "\n",
        "rdd1.show()"
      ],
      "metadata": {
        "colab": {
          "base_uri": "https://localhost:8080/"
        },
        "id": "BVzaTyQexRLm",
        "outputId": "0bf8c2f9-52cb-4741-f930-2a3455ae2f4c"
      },
      "execution_count": null,
      "outputs": [
        {
          "output_type": "stream",
          "name": "stdout",
          "text": [
            "+------+--------+--------------------+\n",
            "|emp_id|emp_name|            emp_dept|\n",
            "+------+--------+--------------------+\n",
            "|     1|    John|   Digital Marketing|\n",
            "|     2|   Alice|Software Development|\n",
            "|     3|     Bob|        Data Science|\n",
            "|     4| Charlie|     Human Resources|\n",
            "|     5|     Eve|             Finance|\n",
            "|     6| Michael|Software Development|\n",
            "|     7|  Olivia|        Data Science|\n",
            "|     8|  Sophia|             Finance|\n",
            "|     9|    Liam|        Data Science|\n",
            "|    10|   Emily|Software Development|\n",
            "|    11|   James|             Finance|\n",
            "|    12|Benjamin|   Digital Marketing|\n",
            "|    13|    Emma|Software Development|\n",
            "|    14|     Ava|        Data Science|\n",
            "|    15|Isabella|     Human Resources|\n",
            "|    16|   Lucas|             Finance|\n",
            "|    17|   Avery|Software Development|\n",
            "|    18|   Grace|        Data Science|\n",
            "|    19|   Ethan|     Human Resources|\n",
            "|    20|Scarlett|Software Development|\n",
            "+------+--------+--------------------+\n",
            "only showing top 20 rows\n",
            "\n"
          ]
        }
      ]
    },
    {
      "cell_type": "code",
      "source": [
        "rdd2 = spark.read.csv(\"emp2.txt\", sep=',', inferSchema=True, header=True)\n",
        "\n",
        "rdd2.show()"
      ],
      "metadata": {
        "colab": {
          "base_uri": "https://localhost:8080/"
        },
        "id": "iue8aQLPyhNv",
        "outputId": "9def3140-9fe2-49e0-d3c1-b908890666d7"
      },
      "execution_count": null,
      "outputs": [
        {
          "output_type": "stream",
          "name": "stdout",
          "text": [
            "+------+----------+--------------+\n",
            "|emp_id|emp_salary|emp_experience|\n",
            "+------+----------+--------------+\n",
            "|     1|     50000|             2|\n",
            "|     2|     65000|             5|\n",
            "|     3|     70000|             3|\n",
            "|     4|     55000|             1|\n",
            "|     5|     60000|             4|\n",
            "|     6|     80000|             6|\n",
            "|     7|     90000|             3|\n",
            "|     8|     75000|             2|\n",
            "|     9|     55000|             4|\n",
            "|    10|     70000|             5|\n",
            "|    11|     60000|             3|\n",
            "|    12|     45000|             1|\n",
            "|    13|     85000|             7|\n",
            "|    14|     75000|             4|\n",
            "|    15|     70000|             2|\n",
            "|    16|     80000|             3|\n",
            "|    17|     55000|             1|\n",
            "|    18|     65000|             4|\n",
            "|    19|     60000|             2|\n",
            "|    20|     70000|             3|\n",
            "+------+----------+--------------+\n",
            "only showing top 20 rows\n",
            "\n"
          ]
        }
      ]
    },
    {
      "cell_type": "code",
      "source": [
        "rdd3 = rdd1.join(rdd2, rdd2.emp_id == rdd1.emp_id).select(rdd1.emp_id, 'emp_name', 'emp_dept', 'emp_salary')\n",
        "\n",
        "rdd3.show()"
      ],
      "metadata": {
        "colab": {
          "base_uri": "https://localhost:8080/"
        },
        "id": "BJ-6Ne29ym4k",
        "outputId": "198ee154-3f82-4c8b-f518-d1ea3778197d"
      },
      "execution_count": null,
      "outputs": [
        {
          "output_type": "stream",
          "name": "stdout",
          "text": [
            "+------+--------+--------------------+----------+\n",
            "|emp_id|emp_name|            emp_dept|emp_salary|\n",
            "+------+--------+--------------------+----------+\n",
            "|     1|    John|   Digital Marketing|     50000|\n",
            "|     2|   Alice|Software Development|     65000|\n",
            "|     3|     Bob|        Data Science|     70000|\n",
            "|     4| Charlie|     Human Resources|     55000|\n",
            "|     5|     Eve|             Finance|     60000|\n",
            "|     6| Michael|Software Development|     80000|\n",
            "|     7|  Olivia|        Data Science|     90000|\n",
            "|     8|  Sophia|             Finance|     75000|\n",
            "|     9|    Liam|        Data Science|     55000|\n",
            "|    10|   Emily|Software Development|     70000|\n",
            "|    11|   James|             Finance|     60000|\n",
            "|    12|Benjamin|   Digital Marketing|     45000|\n",
            "|    13|    Emma|Software Development|     85000|\n",
            "|    14|     Ava|        Data Science|     75000|\n",
            "|    15|Isabella|     Human Resources|     70000|\n",
            "|    16|   Lucas|             Finance|     80000|\n",
            "|    17|   Avery|Software Development|     55000|\n",
            "|    18|   Grace|        Data Science|     65000|\n",
            "|    19|   Ethan|     Human Resources|     60000|\n",
            "|    20|Scarlett|Software Development|     70000|\n",
            "+------+--------+--------------------+----------+\n",
            "only showing top 20 rows\n",
            "\n"
          ]
        }
      ]
    },
    {
      "cell_type": "markdown",
      "source": [
        "# **Q: 02**"
      ],
      "metadata": {
        "id": "haJzLnEozvq4"
      }
    },
    {
      "cell_type": "code",
      "source": [
        "rdd4 = rdd1.join(rdd2, rdd2.emp_id == rdd1.emp_id, \"left_outer\").select(rdd1.emp_id, 'emp_name', 'emp_dept', 'emp_salary')\n",
        "\n",
        "rdd4.show()"
      ],
      "metadata": {
        "colab": {
          "base_uri": "https://localhost:8080/"
        },
        "id": "9syv8acPzzEW",
        "outputId": "4c8bf62b-645b-4eb6-abac-a25d19f4c055"
      },
      "execution_count": null,
      "outputs": [
        {
          "output_type": "stream",
          "name": "stdout",
          "text": [
            "+------+--------+--------------------+----------+\n",
            "|emp_id|emp_name|            emp_dept|emp_salary|\n",
            "+------+--------+--------------------+----------+\n",
            "|     1|    John|   Digital Marketing|     50000|\n",
            "|     2|   Alice|Software Development|     65000|\n",
            "|     3|     Bob|        Data Science|     70000|\n",
            "|     4| Charlie|     Human Resources|     55000|\n",
            "|     5|     Eve|             Finance|     60000|\n",
            "|     6| Michael|Software Development|     80000|\n",
            "|     7|  Olivia|        Data Science|     90000|\n",
            "|     8|  Sophia|             Finance|     75000|\n",
            "|     9|    Liam|        Data Science|     55000|\n",
            "|    10|   Emily|Software Development|     70000|\n",
            "|    11|   James|             Finance|     60000|\n",
            "|    12|Benjamin|   Digital Marketing|     45000|\n",
            "|    13|    Emma|Software Development|     85000|\n",
            "|    14|     Ava|        Data Science|     75000|\n",
            "|    15|Isabella|     Human Resources|     70000|\n",
            "|    16|   Lucas|             Finance|     80000|\n",
            "|    17|   Avery|Software Development|     55000|\n",
            "|    18|   Grace|        Data Science|     65000|\n",
            "|    19|   Ethan|     Human Resources|     60000|\n",
            "|    20|Scarlett|Software Development|     70000|\n",
            "+------+--------+--------------------+----------+\n",
            "only showing top 20 rows\n",
            "\n"
          ]
        }
      ]
    },
    {
      "cell_type": "markdown",
      "source": [
        "# **Q: 03**"
      ],
      "metadata": {
        "id": "znTr8Uv10vDV"
      }
    },
    {
      "cell_type": "code",
      "source": [
        "rdd5 = rdd1.join(rdd2, rdd2.emp_id == rdd1.emp_id, \"left_outer\").withColumn(\"Total Salary\", rdd2.emp_salary*rdd2.emp_experience).select(rdd1.emp_id, 'Total Salary')\n",
        "\n",
        "rdd5.show()"
      ],
      "metadata": {
        "colab": {
          "base_uri": "https://localhost:8080/"
        },
        "id": "SaA-N39t0xhv",
        "outputId": "532d93fa-d122-4bf8-f685-f600e59fd9f9"
      },
      "execution_count": null,
      "outputs": [
        {
          "output_type": "stream",
          "name": "stdout",
          "text": [
            "+------+------------+\n",
            "|emp_id|Total Salary|\n",
            "+------+------------+\n",
            "|     1|      100000|\n",
            "|     2|      325000|\n",
            "|     3|      210000|\n",
            "|     4|       55000|\n",
            "|     5|      240000|\n",
            "|     6|      480000|\n",
            "|     7|      270000|\n",
            "|     8|      150000|\n",
            "|     9|      220000|\n",
            "|    10|      350000|\n",
            "|    11|      180000|\n",
            "|    12|       45000|\n",
            "|    13|      595000|\n",
            "|    14|      300000|\n",
            "|    15|      140000|\n",
            "|    16|      240000|\n",
            "|    17|       55000|\n",
            "|    18|      260000|\n",
            "|    19|      120000|\n",
            "|    20|      210000|\n",
            "+------+------------+\n",
            "only showing top 20 rows\n",
            "\n"
          ]
        }
      ]
    },
    {
      "cell_type": "code",
      "source": [
        "spark.stop()"
      ],
      "metadata": {
        "id": "2ndqgQW7eDAv"
      },
      "execution_count": null,
      "outputs": []
    },
    {
      "cell_type": "markdown",
      "source": [
        "# **Q: 04**"
      ],
      "metadata": {
        "id": "xMBC7BRx1eP_"
      }
    },
    {
      "cell_type": "code",
      "source": [
        "conf = SparkConf().setAppName(\"Lab 09\").setMaster(\"local\")\n",
        "sc = SparkContext(conf = conf)"
      ],
      "metadata": {
        "id": "f_ZC680S1hSV"
      },
      "execution_count": null,
      "outputs": []
    },
    {
      "cell_type": "code",
      "source": [
        "rdd1 = sc.parallelize([(1, 'Emama'), (2, 'Iqra')])\n",
        "\n",
        "rdd2 = sc.parallelize([(1, 20), (2, 22)])"
      ],
      "metadata": {
        "id": "f80ow3J-epJi"
      },
      "execution_count": 14,
      "outputs": []
    },
    {
      "cell_type": "code",
      "source": [
        "broadcastAges = sc.broadcast(dict(rdd2.collect()))\n",
        "rdd3 = rdd1.map(lambda x: (x[0], x[1], broadcastAges.value[x[0]]))\n",
        "\n",
        "rdd3.collect()"
      ],
      "metadata": {
        "colab": {
          "base_uri": "https://localhost:8080/"
        },
        "id": "9qXvnJg1gTA0",
        "outputId": "42c861b6-2438-4252-8cd9-1e5ad5fae4aa"
      },
      "execution_count": 15,
      "outputs": [
        {
          "output_type": "execute_result",
          "data": {
            "text/plain": [
              "[(1, 'Emama', 20), (2, 'Iqra', 22)]"
            ]
          },
          "metadata": {},
          "execution_count": 15
        }
      ]
    },
    {
      "cell_type": "markdown",
      "source": [
        "# **Q: 05**"
      ],
      "metadata": {
        "id": "qEAK_9yk1h-F"
      }
    },
    {
      "cell_type": "code",
      "source": [
        "rdd4 = sc.parallelize([1, 2, 3, 4, 5, 6, 7, 8, 9, 10])"
      ],
      "metadata": {
        "id": "g3A7P0TV1pXa"
      },
      "execution_count": 16,
      "outputs": []
    },
    {
      "cell_type": "code",
      "source": [
        "sum = sc.accumulator(0)"
      ],
      "metadata": {
        "id": "euCC2mnqkX64"
      },
      "execution_count": 17,
      "outputs": []
    },
    {
      "cell_type": "code",
      "source": [
        "def func(x):\n",
        "  global sum\n",
        "  sum += x"
      ],
      "metadata": {
        "id": "QtYyoqENkjhx"
      },
      "execution_count": 18,
      "outputs": []
    },
    {
      "cell_type": "code",
      "source": [
        "rdd4.foreach(func)\n",
        "final = sum.value\n",
        "\n",
        "print(\"Accumulated value is -> %i\" % (final))"
      ],
      "metadata": {
        "colab": {
          "base_uri": "https://localhost:8080/"
        },
        "id": "-GbzhMPbkthU",
        "outputId": "14a70545-839f-47d3-9939-f6ad0b9ab224"
      },
      "execution_count": 19,
      "outputs": [
        {
          "output_type": "stream",
          "name": "stdout",
          "text": [
            "Accumulated value is -> 55\n"
          ]
        }
      ]
    },
    {
      "cell_type": "code",
      "source": [
        "sc.stop()"
      ],
      "metadata": {
        "id": "VGYGEuHalN51"
      },
      "execution_count": 20,
      "outputs": []
    },
    {
      "cell_type": "markdown",
      "source": [
        "# **Q: 06**"
      ],
      "metadata": {
        "id": "ZLD7MSB51qAP"
      }
    },
    {
      "cell_type": "code",
      "source": [
        "spark = SparkSession.builder.master('local[*]').appName(\"Lab 09\").getOrCreate()"
      ],
      "metadata": {
        "id": "cZekCxKV1sjx"
      },
      "execution_count": 21,
      "outputs": []
    },
    {
      "cell_type": "code",
      "source": [
        "df = spark.read.csv(\"Movies - Movies.csv\", inferSchema=True, header=True)\n",
        "\n",
        "df.show()"
      ],
      "metadata": {
        "colab": {
          "base_uri": "https://localhost:8080/"
        },
        "id": "v4idDu_gmGgz",
        "outputId": "638262fc-8e4a-41e6-bc45-c9ab0fb3fbfd"
      },
      "execution_count": 22,
      "outputs": [
        {
          "output_type": "stream",
          "name": "stdout",
          "text": [
            "+----+------+--------------------+-------+--------------------+-----------------+--------------------+----------+------+-------------------+\n",
            "|Year|Length|               Title|  Genre|               Actor|          Actress|            Director|Popularity|Awards|              Image|\n",
            "+----+------+--------------------+-------+--------------------+-----------------+--------------------+----------+------+-------------------+\n",
            "|1990|   111|Tie Me Up! Tie Me...| Comedy|     BanderasAntonio|    AbrilVictoria|      AlmodóvarPedro|        68|    No|   NicholasCage.png|\n",
            "|1991|   113|          High Heels| Comedy|          BoséMiguel|    AbrilVictoria|      AlmodóvarPedro|        68|    No|   NicholasCage.png|\n",
            "|1983|   104|        Dead ZoneThe| Horror|   WalkenChristopher|      AdamsBrooke|     CronenbergDavid|        79|    No|   NicholasCage.png|\n",
            "|1979|   122|                Cuba| Action|         ConnerySean|      AdamsBrooke|       LesterRichard|         6|    No|    seanConnery.png|\n",
            "|1978|    94|      Days of Heaven|  Drama|         GereRichard|      AdamsBrooke|      MalickTerrence|        14|    No|   NicholasCage.png|\n",
            "|1983|   140|           Octopussy| Action|          MooreRoger|        AdamsMaud|            GlenJohn|        68|    No|   NicholasCage.png|\n",
            "|1984|   101|        Target Eagle| Action|        ConnorsChuck|        AdamsMaud|LomaJosé Antonio ...|        14|    No|   NicholasCage.png|\n",
            "|1989|    99|American Angels: ...|  Drama|     BergenRobert D.|       AdamsTrudy|    SebastianBeverly|        28|    No|   NicholasCage.png|\n",
            "|1985|   104|              Subway|  Drama|  LambertChristopher|   AdjaniIsabelle|           BessonLuc|         6|    No|   NicholasCage.png|\n",
            "|1990|   149|     Camille Claudel|  Drama|     DepardieuGérard|   AdjaniIsabelle|        NuyttenBruno|        32|    No|   NicholasCage.png|\n",
            "|1982|   188| Fanny and Alexander|  Drama|       AhlstedtBörje|AdolphsonKristina|       BergmanIngmar|        81|   Yes|        Bergman.png|\n",
            "|1982|   117|Tragedy of a Ridi...|  Drama|         TognazziUgo|       AimeeAnouk|  BertolucciBernardo|        17|    No|   NicholasCage.png|\n",
            "|1966|   103|     A Man & a Woman|  Drama|TrintignantJean-L...|       AimeeAnouk|       LelouchClaude|        46|   Yes|   NicholasCage.png|\n",
            "|1986|   112|A Man & a Woman: ...|  Drama|TrintignantJean-L...|       AimeeAnouk|       LelouchClaude|        49|    No|   NicholasCage.png|\n",
            "|1966|   103|Un Hombre y una M...|  Drama|TrintignantJean-L...|       AimeeAnouk|       LelouchClaude|         6|   Yes|   NicholasCage.png|\n",
            "|1985|   112|   Official StoryThe|  Drama|       AlterioHector|    AleandroNorma|          PuenzoLuiz|        39|   Yes|   NicholasCage.png|\n",
            "|1976|   150|Lindbergh Kidnapp...|  Drama|      HopkinsAnthony|  AlexanderDenise|           KulikBuzz|        51|    No| AnthonyHopkins.png|\n",
            "|1929|    84|           Blackmail|Mystery|         LongdenJohn|       AlgoodSara|     HitchcockAlfred|         2|    No|alfredHitchcock.png|\n",
            "|1963|   109|      Donovan's Reef| Comedy|           WayneJohn|   AllenElizabeth|            FordJohn|        62|    No|      johnWayne.png|\n",
            "|1988|   110|Tucker: The Man &...|  Drama|         BridgesJeff|        AllenJoan| CoppolaFrancis Ford|        68|    No|   NicholasCage.png|\n",
            "+----+------+--------------------+-------+--------------------+-----------------+--------------------+----------+------+-------------------+\n",
            "only showing top 20 rows\n",
            "\n"
          ]
        }
      ]
    },
    {
      "cell_type": "code",
      "source": [
        "df.printSchema()"
      ],
      "metadata": {
        "colab": {
          "base_uri": "https://localhost:8080/"
        },
        "id": "D5gNMTASmRRi",
        "outputId": "91d6f1cf-5494-4894-edac-d4d34cc934e4"
      },
      "execution_count": 23,
      "outputs": [
        {
          "output_type": "stream",
          "name": "stdout",
          "text": [
            "root\n",
            " |-- Year: integer (nullable = true)\n",
            " |-- Length: integer (nullable = true)\n",
            " |-- Title: string (nullable = true)\n",
            " |-- Genre: string (nullable = true)\n",
            " |-- Actor: string (nullable = true)\n",
            " |-- Actress: string (nullable = true)\n",
            " |-- Director: string (nullable = true)\n",
            " |-- Popularity: integer (nullable = true)\n",
            " |-- Awards: string (nullable = true)\n",
            " |-- Image: string (nullable = true)\n",
            "\n"
          ]
        }
      ]
    },
    {
      "cell_type": "code",
      "source": [
        "rdd = df.select('Title', 'Year', 'Director').filter((df['Genre'] == 'Action') & (df['Awards'] == 'Yes'))\n",
        "\n",
        "rdd.show()"
      ],
      "metadata": {
        "colab": {
          "base_uri": "https://localhost:8080/"
        },
        "id": "qnrVae6SmVcX",
        "outputId": "5e3f95b2-caac-40d1-f891-8334e0b2a215"
      },
      "execution_count": 24,
      "outputs": [
        {
          "output_type": "stream",
          "name": "stdout",
          "text": [
            "+-----+----+--------+\n",
            "|Title|Year|Director|\n",
            "+-----+----+--------+\n",
            "+-----+----+--------+\n",
            "\n"
          ]
        }
      ]
    },
    {
      "cell_type": "markdown",
      "source": [
        "# **Q: 07**"
      ],
      "metadata": {
        "id": "m6u_ZMLb1s8D"
      }
    },
    {
      "cell_type": "code",
      "source": [
        "rdd1 = df.select('Actor', 'Title', 'Director').filter(df['Awards'] == 'Yes').groupBy('Actor').agg(collect_list('Title').alias('Movies'), collect_list('Director').alias('Directors'))\n",
        "\n",
        "rdd1.show(truncate=False)"
      ],
      "metadata": {
        "id": "0fq0hEZb1vQW",
        "colab": {
          "base_uri": "https://localhost:8080/"
        },
        "outputId": "1ae379f0-8687-459d-efd0-44f3edba7ffe"
      },
      "execution_count": 27,
      "outputs": [
        {
          "output_type": "stream",
          "name": "stdout",
          "text": [
            "+-----------------+----------------------------------------------------------------+--------------------------------------------+\n",
            "|Actor            |Movies                                                          |Directors                                   |\n",
            "+-----------------+----------------------------------------------------------------+--------------------------------------------+\n",
            "|LintDerek De     |[AssaultThe]                                                    |[RademakersFons]                            |\n",
            "|LancasterBurt    |[Airport, Come BackLittle Sheba]                                |[SeatonGeorge, MannDaniel]                  |\n",
            "|BridgesBeau      |[Norma Rae]                                                     |[RittMartin]                                |\n",
            "|CapolicchioLino  |[Garden of the Finzi-ContinisThe]                               |[De SicaVittorio]                           |\n",
            "|LoneJohn         |[Last EmperorThe]                                               |[BertolucciBernardo]                        |\n",
            "|IronsJeremy      |[Reversal of Fortune]                                           |[SchroederBarbet]                           |\n",
            "|AumontJean-Pierre|[Day for Night]                                                 |[TruffautFrançois]                          |\n",
            "|HarrisEd         |[Places in the Heart]                                           |[BentonRobert]                              |\n",
            "|ConnerySean      |[UntouchablesThe]                                               |[De PalmaBrian]                             |\n",
            "|HarrisonRex      |[My Fair Lady]                                                  |[CukorGeorge]                               |\n",
            "|HudsonRock       |[Giant]                                                         |[StevensGeorge]                             |\n",
            "|TracySpencer     |[Judgment at Nuremberg, Guess Who's Coming to Dinner, Boys Town]|[KramerStanley, KramerStanley, TaurogNorman]|\n",
            "|StrouseNocholas  |[Doin' Time on Planet Earth]                                    |[MatthauCharles]                            |\n",
            "|BeymerRichard    |[West Side Story]                                               |[WiseRobert]                                |\n",
            "|KlineKevin       |[Sophie's Choice]                                               |[PakulaAlan J.]                             |\n",
            "|GreyJoel         |[Cabaret]                                                       |[FosseBob]                                  |\n",
            "|AielloDanny      |[Purple Rose of CairoThe]                                       |[AllenWoody]                                |\n",
            "|BelmondoJean-Paul|[Two Women]                                                     |[De SicaVittorio]                           |\n",
            "|MooreDudley      |[Arthur]                                                        |[GordonSteve]                               |\n",
            "|RobertsonCliff   |[Charly]                                                        |[NelsonRalph]                               |\n",
            "+-----------------+----------------------------------------------------------------+--------------------------------------------+\n",
            "only showing top 20 rows\n",
            "\n"
          ]
        }
      ]
    },
    {
      "cell_type": "markdown",
      "source": [
        "# **Q: 08**"
      ],
      "metadata": {
        "id": "iwlqV3pl1vnd"
      }
    },
    {
      "cell_type": "code",
      "source": [
        "rdd2 = df.select('title').filter(df['Awards'] == 'No').orderBy(df['Popularity'].desc()).limit(10)\n",
        "\n",
        "rdd2.show()"
      ],
      "metadata": {
        "id": "M6vatnGr1yHb",
        "colab": {
          "base_uri": "https://localhost:8080/"
        },
        "outputId": "6c8061a0-eba7-475c-c299-eda5b711d11b"
      },
      "execution_count": 28,
      "outputs": [
        {
          "output_type": "stream",
          "name": "stdout",
          "text": [
            "+--------------------+\n",
            "|               title|\n",
            "+--------------------+\n",
            "|        Five Corners|\n",
            "|Ballad of Narayam...|\n",
            "|         Let It Ride|\n",
            "|        Final Notice|\n",
            "|      New Year's Day|\n",
            "| Guilty by Suspicion|\n",
            "|   Fellini Satyricon|\n",
            "|           Raw Nerve|\n",
            "|     Time MachineThe|\n",
            "| Long Voyage HomeThe|\n",
            "+--------------------+\n",
            "\n"
          ]
        }
      ]
    },
    {
      "cell_type": "markdown",
      "source": [
        "# **Q: 09**"
      ],
      "metadata": {
        "id": "olmYOQ7D13uq"
      }
    },
    {
      "cell_type": "code",
      "source": [
        "rdd3 = df.select('Title').filter(df['Year'] < '1980').orderBy(df['Popularity'].asc()).limit(10)\n",
        "\n",
        "rdd3.show()"
      ],
      "metadata": {
        "id": "zFTcwSg_16yP",
        "colab": {
          "base_uri": "https://localhost:8080/"
        },
        "outputId": "348fa789-f87c-4b2a-cf59-356cda274ce3"
      },
      "execution_count": 29,
      "outputs": [
        {
          "output_type": "stream",
          "name": "stdout",
          "text": [
            "+------------------+\n",
            "|             Title|\n",
            "+------------------+\n",
            "|   White Lightning|\n",
            "|      Drop KickThe|\n",
            "|      Desert Rider|\n",
            "| Bank on the Stars|\n",
            "|           Shalako|\n",
            "|           Airport|\n",
            "|     Anna Christie|\n",
            "|Shout at the Devil|\n",
            "| Tales of Tomorrow|\n",
            "|         Holocaust|\n",
            "+------------------+\n",
            "\n"
          ]
        }
      ]
    },
    {
      "cell_type": "markdown",
      "source": [
        "# **Q: 10**"
      ],
      "metadata": {
        "id": "g7joYohN19YM"
      }
    },
    {
      "cell_type": "code",
      "source": [
        "rdd14 = df.select('Title').filter(df['Year'] < 1990).orderBy('Title')\n",
        "\n",
        "rdd14.show()"
      ],
      "metadata": {
        "id": "MS4ySBut2AON",
        "colab": {
          "base_uri": "https://localhost:8080/"
        },
        "outputId": "843da11a-cf72-4995-eb6a-e96cb97695ef"
      },
      "execution_count": 30,
      "outputs": [
        {
          "output_type": "stream",
          "name": "stdout",
          "text": [
            "+--------------------+\n",
            "|               Title|\n",
            "+--------------------+\n",
            "|2001: A Space Ody...|\n",
            "|             48 Hrs.|\n",
            "|               8 1/2|\n",
            "|A Big Hand for th...|\n",
            "|  A Child Is Waiting|\n",
            "|A Chorus LineThe ...|\n",
            "|  A Clockwork Orange|\n",
            "|A Coeur Joie(Head...|\n",
            "|   A Cry in the Dark|\n",
            "|  A Dry White Season|\n",
            "|      A Fine Madness|\n",
            "| A Fish Called Wanda|\n",
            "|A Fistful of Dollars|\n",
            "|     A Guy Named Joe|\n",
            "|    A Lesson in Love|\n",
            "|A Little Night Music|\n",
            "|     A Man & a Woman|\n",
            "|A Man & a Woman: ...|\n",
            "|A Man for All Sea...|\n",
            "|    A Matter of Time|\n",
            "+--------------------+\n",
            "only showing top 20 rows\n",
            "\n"
          ]
        }
      ]
    },
    {
      "cell_type": "markdown",
      "source": [
        "# **Q: 11**"
      ],
      "metadata": {
        "id": "4my3ytcl2AyL"
      }
    },
    {
      "cell_type": "code",
      "source": [
        "df =  spark.read.csv('WineQT.csv', inferSchema=True, header=True)\n",
        "\n",
        "df.show()"
      ],
      "metadata": {
        "id": "9RGXz5J_2EGy",
        "colab": {
          "base_uri": "https://localhost:8080/"
        },
        "outputId": "961c0085-98b9-4470-fa99-87d1eddbc529"
      },
      "execution_count": 51,
      "outputs": [
        {
          "output_type": "stream",
          "name": "stdout",
          "text": [
            "+-------------+----------------+-----------+--------------+-------------------+-------------------+--------------------+-------+----+---------+-------+-------+---+\n",
            "|fixed acidity|volatile acidity|citric acid|residual sugar|          chlorides|free sulfur dioxide|total sulfur dioxide|density|  pH|sulphates|alcohol|quality| Id|\n",
            "+-------------+----------------+-----------+--------------+-------------------+-------------------+--------------------+-------+----+---------+-------+-------+---+\n",
            "|          7.4|             0.7|        0.0|           1.9|              0.076|               11.0|                34.0| 0.9978|3.51|     0.56|    9.4|      5|  0|\n",
            "|          7.8|            0.88|        0.0|           2.6|              0.098|               25.0|                67.0| 0.9968| 3.2|     0.68|    9.8|      5|  1|\n",
            "|          7.8|            0.76|       0.04|           2.3|              0.092|               15.0|                54.0|  0.997|3.26|     0.65|    9.8|      5|  2|\n",
            "|         11.2|            0.28|       0.56|           1.9|              0.075|               17.0|                60.0|  0.998|3.16|     0.58|    9.8|      6|  3|\n",
            "|          7.4|             0.7|        0.0|           1.9|              0.076|               11.0|                34.0| 0.9978|3.51|     0.56|    9.4|      5|  4|\n",
            "|          7.4|            0.66|        0.0|           1.8|              0.075|               13.0|                40.0| 0.9978|3.51|     0.56|    9.4|      5|  5|\n",
            "|          7.9|             0.6|       0.06|           1.6|              0.069|               15.0|                59.0| 0.9964| 3.3|     0.46|    9.4|      5|  6|\n",
            "|          7.3|            0.65|        0.0|           1.2|              0.065|               15.0|                21.0| 0.9946|3.39|     0.47|   10.0|      7|  7|\n",
            "|          7.8|            0.58|       0.02|           2.0|              0.073|                9.0|                18.0| 0.9968|3.36|     0.57|    9.5|      7|  8|\n",
            "|          6.7|            0.58|       0.08|           1.8|0.09699999999999999|               15.0|                65.0| 0.9959|3.28|     0.54|    9.2|      5| 10|\n",
            "|          5.6|           0.615|        0.0|           1.6|0.08900000000000001|               16.0|                59.0| 0.9943|3.58|     0.52|    9.9|      5| 12|\n",
            "|          7.8|            0.61|       0.29|           1.6|              0.114|                9.0|                29.0| 0.9974|3.26|     1.56|    9.1|      5| 13|\n",
            "|          8.5|            0.28|       0.56|           1.8|              0.092|               35.0|               103.0| 0.9969| 3.3|     0.75|   10.5|      7| 16|\n",
            "|          7.9|            0.32|       0.51|           1.8|              0.341|               17.0|                56.0| 0.9969|3.04|     1.08|    9.2|      6| 19|\n",
            "|          7.6|            0.39|       0.31|           2.3|0.08199999999999999|               23.0|                71.0| 0.9982|3.52|     0.65|    9.7|      5| 21|\n",
            "|          7.9|            0.43|       0.21|           1.6|              0.106|               10.0|                37.0| 0.9966|3.17|     0.91|    9.5|      5| 22|\n",
            "|          8.5|            0.49|       0.11|           2.3|              0.084|                9.0|                67.0| 0.9968|3.17|     0.53|    9.4|      5| 23|\n",
            "|          6.9|             0.4|       0.14|           2.4|              0.085|               21.0|                40.0| 0.9968|3.43|     0.63|    9.7|      6| 24|\n",
            "|          6.3|            0.39|       0.16|           1.4|               0.08|               11.0|                23.0| 0.9955|3.34|     0.56|    9.3|      5| 25|\n",
            "|          7.6|            0.41|       0.24|           1.8|               0.08|                4.0|                11.0| 0.9962|3.28|     0.59|    9.5|      5| 26|\n",
            "+-------------+----------------+-----------+--------------+-------------------+-------------------+--------------------+-------+----+---------+-------+-------+---+\n",
            "only showing top 20 rows\n",
            "\n"
          ]
        }
      ]
    },
    {
      "cell_type": "code",
      "source": [
        "df.printSchema()"
      ],
      "metadata": {
        "colab": {
          "base_uri": "https://localhost:8080/"
        },
        "id": "l9vUQJvb8GOS",
        "outputId": "73b44518-9af8-429c-aac6-51fb8a2003ce"
      },
      "execution_count": 52,
      "outputs": [
        {
          "output_type": "stream",
          "name": "stdout",
          "text": [
            "root\n",
            " |-- fixed acidity: double (nullable = true)\n",
            " |-- volatile acidity: double (nullable = true)\n",
            " |-- citric acid: double (nullable = true)\n",
            " |-- residual sugar: double (nullable = true)\n",
            " |-- chlorides: double (nullable = true)\n",
            " |-- free sulfur dioxide: double (nullable = true)\n",
            " |-- total sulfur dioxide: double (nullable = true)\n",
            " |-- density: double (nullable = true)\n",
            " |-- pH: double (nullable = true)\n",
            " |-- sulphates: double (nullable = true)\n",
            " |-- alcohol: double (nullable = true)\n",
            " |-- quality: integer (nullable = true)\n",
            " |-- Id: integer (nullable = true)\n",
            "\n"
          ]
        }
      ]
    },
    {
      "cell_type": "code",
      "source": [
        "df = df.drop('Id')"
      ],
      "metadata": {
        "id": "gj9stM0NGEep"
      },
      "execution_count": 53,
      "outputs": []
    },
    {
      "cell_type": "code",
      "source": [
        "df.describe().show()"
      ],
      "metadata": {
        "colab": {
          "base_uri": "https://localhost:8080/"
        },
        "id": "v1KpUPLr8Tbw",
        "outputId": "408fb367-735a-4759-dfca-63213070e08f"
      },
      "execution_count": 54,
      "outputs": [
        {
          "output_type": "stream",
          "name": "stdout",
          "text": [
            "+-------+------------------+-------------------+-------------------+------------------+-------------------+-------------------+--------------------+--------------------+------------------+------------------+------------------+------------------+\n",
            "|summary|     fixed acidity|   volatile acidity|        citric acid|    residual sugar|          chlorides|free sulfur dioxide|total sulfur dioxide|             density|                pH|         sulphates|           alcohol|           quality|\n",
            "+-------+------------------+-------------------+-------------------+------------------+-------------------+-------------------+--------------------+--------------------+------------------+------------------+------------------+------------------+\n",
            "|  count|              1143|               1143|               1143|              1143|               1143|               1143|                1143|                1143|              1143|              1143|              1143|              1143|\n",
            "|   mean| 8.311111111111119|  0.531338582677165|0.26836395450568584|2.5321522309711257|0.08693263342082212| 15.615485564304462|   45.91469816272966|  0.9967304111986008|3.3110148731408593|0.6577077865266842| 10.44211140274131| 5.657042869641295|\n",
            "| stddev|1.7475950171695376|0.17963319302252453|0.19668585234821898|1.3559174666826797|0.04726733795238058|  10.25048612343082|  32.782130307343095|0.001925067130254...|0.1566640597727519| 0.170398714467074|1.0821956098764425|0.8058242481000955|\n",
            "|    min|               4.6|               0.12|                0.0|               0.9|              0.012|                1.0|                 6.0|  0.9900700000000001|              2.74|              0.33|               8.4|                 3|\n",
            "|    max|              15.9|               1.58|                1.0|              15.5|              0.611|               68.0|               289.0|             1.00369|              4.01|               2.0|              14.9|                 8|\n",
            "+-------+------------------+-------------------+-------------------+------------------+-------------------+-------------------+--------------------+--------------------+------------------+------------------+------------------+------------------+\n",
            "\n"
          ]
        }
      ]
    },
    {
      "cell_type": "code",
      "source": [
        "df = df.na.drop()"
      ],
      "metadata": {
        "id": "dTq2T1_J8gWr"
      },
      "execution_count": 55,
      "outputs": []
    },
    {
      "cell_type": "code",
      "source": [
        "for column in df.columns:\n",
        "  quantiles = df.approxQuantile(column, [0.25, 0.75], 0)\n",
        "  IQR = quantiles[1] - quantiles[0]\n",
        "  lower_bound = quantiles[0] - 1.5 * IQR\n",
        "  upper_bound = quantiles[1] + 1.5 * IQR\n",
        "  outliers = df.filter((col(column) < lower_bound) | (col(column) > upper_bound)).count()\n",
        "  df = df.filter((col(column) > lower_bound) | (col(column) < upper_bound))\n",
        "  print(f\"Number of Outliers in {column}: {outliers}\")"
      ],
      "metadata": {
        "colab": {
          "base_uri": "https://localhost:8080/"
        },
        "id": "vX4yjsms9cC6",
        "outputId": "858f9393-9a67-468a-82e0-04096f2b3d28"
      },
      "execution_count": 57,
      "outputs": [
        {
          "output_type": "stream",
          "name": "stdout",
          "text": [
            "Number of Outliers in fixed acidity: 44\n",
            "Number of Outliers in volatile acidity: 14\n",
            "Number of Outliers in citric acid: 1\n",
            "Number of Outliers in residual sugar: 110\n",
            "Number of Outliers in chlorides: 77\n",
            "Number of Outliers in free sulfur dioxide: 18\n",
            "Number of Outliers in total sulfur dioxide: 40\n",
            "Number of Outliers in density: 36\n",
            "Number of Outliers in pH: 20\n",
            "Number of Outliers in sulphates: 43\n",
            "Number of Outliers in alcohol: 12\n",
            "Number of Outliers in quality: 22\n"
          ]
        }
      ]
    },
    {
      "cell_type": "code",
      "source": [
        "df = df.na.drop()"
      ],
      "metadata": {
        "id": "yFC-4AxACc7h"
      },
      "execution_count": 58,
      "outputs": []
    },
    {
      "cell_type": "code",
      "source": [
        "for i in range(len(df.columns)):\n",
        "  for j in range(i+1, len(df.columns)):\n",
        "    correlation = df.corr(df.columns[i], df.columns[j])\n",
        "    print(f\"Correlation between {df.columns[i]} and {df.columns[j]} : {correlation}\")"
      ],
      "metadata": {
        "colab": {
          "base_uri": "https://localhost:8080/"
        },
        "id": "fXC9ALCGCeQP",
        "outputId": "7d300c97-0f8e-4331-ab7c-47f1054ba427"
      },
      "execution_count": 59,
      "outputs": [
        {
          "output_type": "stream",
          "name": "stdout",
          "text": [
            "Correlation between fixed acidity and volatile acidity : -0.2507283222922268\n",
            "Correlation between fixed acidity and citric acid : 0.6731572507629239\n",
            "Correlation between fixed acidity and residual sugar : 0.17183053523615716\n",
            "Correlation between fixed acidity and chlorides : 0.10788856981486483\n",
            "Correlation between fixed acidity and free sulfur dioxide : -0.16483079329778239\n",
            "Correlation between fixed acidity and total sulfur dioxide : -0.11062836769999608\n",
            "Correlation between fixed acidity and density : 0.6815008826691711\n",
            "Correlation between fixed acidity and pH : -0.6851625988235485\n",
            "Correlation between fixed acidity and sulphates : 0.17459182521278463\n",
            "Correlation between fixed acidity and alcohol : -0.07505485317982606\n",
            "Correlation between fixed acidity and quality : 0.12197009989725943\n",
            "Correlation between volatile acidity and citric acid : -0.5441869374183994\n",
            "Correlation between volatile acidity and residual sugar : -0.005751096727715592\n",
            "Correlation between volatile acidity and chlorides : 0.05633625898948126\n",
            "Correlation between volatile acidity and free sulfur dioxide : -0.0019624789024567917\n",
            "Correlation between volatile acidity and total sulfur dioxide : 0.07774772174216345\n",
            "Correlation between volatile acidity and density : 0.016511519698428626\n",
            "Correlation between volatile acidity and pH : 0.2214915179882762\n",
            "Correlation between volatile acidity and sulphates : -0.27607859664162426\n",
            "Correlation between volatile acidity and alcohol : -0.20390927263243766\n",
            "Correlation between volatile acidity and quality : -0.40739351292438425\n",
            "Correlation between citric acid and residual sugar : 0.175814853651844\n",
            "Correlation between citric acid and chlorides : 0.24531248978995254\n",
            "Correlation between citric acid and free sulfur dioxide : -0.05758910401502516\n",
            "Correlation between citric acid and total sulfur dioxide : 0.0368711101713151\n",
            "Correlation between citric acid and density : 0.3752432604912543\n",
            "Correlation between citric acid and pH : -0.5463391381265055\n",
            "Correlation between citric acid and sulphates : 0.33123175783491793\n",
            "Correlation between citric acid and alcohol : 0.10625034325328203\n",
            "Correlation between citric acid and quality : 0.24082083714719305\n",
            "Correlation between residual sugar and chlorides : 0.07086311181911288\n",
            "Correlation between residual sugar and free sulfur dioxide : 0.16533879712523447\n",
            "Correlation between residual sugar and total sulfur dioxide : 0.1907900349517252\n",
            "Correlation between residual sugar and density : 0.38014695171471324\n",
            "Correlation between residual sugar and pH : -0.11695893598551789\n",
            "Correlation between residual sugar and sulphates : 0.01747450374054128\n",
            "Correlation between residual sugar and alcohol : 0.05842060594172387\n",
            "Correlation between residual sugar and quality : 0.022001930579966876\n",
            "Correlation between chlorides and free sulfur dioxide : 0.01528045810364371\n",
            "Correlation between chlorides and total sulfur dioxide : 0.048163160897929734\n",
            "Correlation between chlorides and density : 0.20890071067822694\n",
            "Correlation between chlorides and pH : -0.2777590680558625\n",
            "Correlation between chlorides and sulphates : 0.37478389389790295\n",
            "Correlation between chlorides and alcohol : -0.22991709420711673\n",
            "Correlation between chlorides and quality : -0.12408453132892912\n",
            "Correlation between free sulfur dioxide and total sulfur dioxide : 0.6610928721834333\n",
            "Correlation between free sulfur dioxide and density : -0.05415031812464183\n",
            "Correlation between free sulfur dioxide and pH : 0.07280370643845355\n",
            "Correlation between free sulfur dioxide and sulphates : 0.034445121642756316\n",
            "Correlation between free sulfur dioxide and alcohol : -0.04709483201545071\n",
            "Correlation between free sulfur dioxide and quality : -0.06325964147253875\n",
            "Correlation between total sulfur dioxide and density : 0.050174826989127945\n",
            "Correlation between total sulfur dioxide and pH : -0.0591257200125416\n",
            "Correlation between total sulfur dioxide and sulphates : 0.026893682152839316\n",
            "Correlation between total sulfur dioxide and alcohol : -0.18816479879899578\n",
            "Correlation between total sulfur dioxide and quality : -0.18333914747213004\n",
            "Correlation between density and pH : -0.3527746247768658\n",
            "Correlation between density and sulphates : 0.14313929001288808\n",
            "Correlation between density and alcohol : -0.49472689818400745\n",
            "Correlation between density and quality : -0.1752079232264481\n",
            "Correlation between pH and sulphates : -0.18549903114396318\n",
            "Correlation between pH and alcohol : 0.22532220287324645\n",
            "Correlation between pH and quality : -0.05245303335788242\n",
            "Correlation between sulphates and alcohol : 0.094421126411993\n",
            "Correlation between sulphates and quality : 0.2577102599306222\n",
            "Correlation between alcohol and quality : 0.48486621180851264\n"
          ]
        }
      ]
    },
    {
      "cell_type": "markdown",
      "source": [
        "# **Q: 12**"
      ],
      "metadata": {
        "id": "AIznNV2Z2Guv"
      }
    },
    {
      "cell_type": "code",
      "source": [
        "assembler = VectorAssembler(inputCols=df.columns, outputCol='features')\n",
        "vectorizedData = assembler.transform(df)"
      ],
      "metadata": {
        "id": "pEChqimZ2JEo"
      },
      "execution_count": 61,
      "outputs": []
    },
    {
      "cell_type": "code",
      "source": [
        "scaler = StandardScaler(inputCol='features', outputCol='scaledFeatures')\n",
        "model = scaler.fit(vectorizedData)\n",
        "scaledData = model.transform(vectorizedData)"
      ],
      "metadata": {
        "id": "o9TsbB7CH7iG"
      },
      "execution_count": 63,
      "outputs": []
    },
    {
      "cell_type": "code",
      "source": [
        "kMeans = KMeans(featuresCol='scaledFeatures', k=3)\n",
        "model = kMeans.fit(scaledData)\n",
        "predictions = model.transform(scaledData)\n",
        "\n",
        "predictions.show()"
      ],
      "metadata": {
        "colab": {
          "base_uri": "https://localhost:8080/"
        },
        "id": "0oYnhm2qJSOL",
        "outputId": "f5e028d9-f16e-4ae8-c754-f20498439515"
      },
      "execution_count": 65,
      "outputs": [
        {
          "output_type": "stream",
          "name": "stdout",
          "text": [
            "+-------------+----------------+-----------+--------------+-------------------+-------------------+--------------------+-------+----+---------+-------+-------+--------------------+--------------------+----------+\n",
            "|fixed acidity|volatile acidity|citric acid|residual sugar|          chlorides|free sulfur dioxide|total sulfur dioxide|density|  pH|sulphates|alcohol|quality|            features|      scaledFeatures|prediction|\n",
            "+-------------+----------------+-----------+--------------+-------------------+-------------------+--------------------+-------+----+---------+-------+-------+--------------------+--------------------+----------+\n",
            "|          7.4|             0.7|        0.0|           1.9|              0.076|               11.0|                34.0| 0.9978|3.51|     0.56|    9.4|      5|[7.4,0.7,0.0,1.9,...|[4.23439064960558...|         1|\n",
            "|          7.8|            0.88|        0.0|           2.6|              0.098|               25.0|                67.0| 0.9968| 3.2|     0.68|    9.8|      5|[7.8,0.88,0.0,2.6...|[4.46327663066534...|         1|\n",
            "|          7.8|            0.76|       0.04|           2.3|              0.092|               15.0|                54.0|  0.997|3.26|     0.65|    9.8|      5|[7.8,0.76,0.04,2....|[4.46327663066534...|         1|\n",
            "|         11.2|            0.28|       0.56|           1.9|              0.075|               17.0|                60.0|  0.998|3.16|     0.58|    9.8|      6|[11.2,0.28,0.56,1...|[6.40880746967331...|         2|\n",
            "|          7.4|             0.7|        0.0|           1.9|              0.076|               11.0|                34.0| 0.9978|3.51|     0.56|    9.4|      5|[7.4,0.7,0.0,1.9,...|[4.23439064960558...|         1|\n",
            "|          7.4|            0.66|        0.0|           1.8|              0.075|               13.0|                40.0| 0.9978|3.51|     0.56|    9.4|      5|[7.4,0.66,0.0,1.8...|[4.23439064960558...|         1|\n",
            "|          7.9|             0.6|       0.06|           1.6|              0.069|               15.0|                59.0| 0.9964| 3.3|     0.46|    9.4|      5|[7.9,0.6,0.06,1.6...|[4.52049812593028...|         1|\n",
            "|          7.3|            0.65|        0.0|           1.2|              0.065|               15.0|                21.0| 0.9946|3.39|     0.47|   10.0|      7|[7.3,0.65,0.0,1.2...|[4.17716915434064...|         1|\n",
            "|          7.8|            0.58|       0.02|           2.0|              0.073|                9.0|                18.0| 0.9968|3.36|     0.57|    9.5|      7|[7.8,0.58,0.02,2....|[4.46327663066534...|         1|\n",
            "|          6.7|            0.58|       0.08|           1.8|0.09699999999999999|               15.0|                65.0| 0.9959|3.28|     0.54|    9.2|      5|[6.7,0.58,0.08,1....|[3.83384018275100...|         1|\n",
            "|          5.6|           0.615|        0.0|           1.6|0.08900000000000001|               16.0|                59.0| 0.9943|3.58|     0.52|    9.9|      5|[5.6,0.615,0.0,1....|[3.20440373483665...|         1|\n",
            "|          7.8|            0.61|       0.29|           1.6|              0.114|                9.0|                29.0| 0.9974|3.26|     1.56|    9.1|      5|[7.8,0.61,0.29,1....|[4.46327663066534...|         2|\n",
            "|          8.5|            0.28|       0.56|           1.8|              0.092|               35.0|               103.0| 0.9969| 3.3|     0.75|   10.5|      7|[8.5,0.28,0.56,1....|[4.86382709751992...|         0|\n",
            "|          7.9|            0.32|       0.51|           1.8|              0.341|               17.0|                56.0| 0.9969|3.04|     1.08|    9.2|      6|[7.9,0.32,0.51,1....|[4.52049812593028...|         2|\n",
            "|          7.6|            0.39|       0.31|           2.3|0.08199999999999999|               23.0|                71.0| 0.9982|3.52|     0.65|    9.7|      5|[7.6,0.39,0.31,2....|[4.34883364013546...|         1|\n",
            "|          7.9|            0.43|       0.21|           1.6|              0.106|               10.0|                37.0| 0.9966|3.17|     0.91|    9.5|      5|[7.9,0.43,0.21,1....|[4.52049812593028...|         1|\n",
            "|          8.5|            0.49|       0.11|           2.3|              0.084|                9.0|                67.0| 0.9968|3.17|     0.53|    9.4|      5|[8.5,0.49,0.11,2....|[4.86382709751992...|         1|\n",
            "|          6.9|             0.4|       0.14|           2.4|              0.085|               21.0|                40.0| 0.9968|3.43|     0.63|    9.7|      6|[6.9,0.4,0.14,2.4...|[3.94828317328088...|         1|\n",
            "|          6.3|            0.39|       0.16|           1.4|               0.08|               11.0|                23.0| 0.9955|3.34|     0.56|    9.3|      5|[6.3,0.39,0.16,1....|[3.60495420169124...|         1|\n",
            "|          7.6|            0.41|       0.24|           1.8|               0.08|                4.0|                11.0| 0.9962|3.28|     0.59|    9.5|      5|[7.6,0.41,0.24,1....|[4.34883364013546...|         1|\n",
            "+-------------+----------------+-----------+--------------+-------------------+-------------------+--------------------+-------+----+---------+-------+-------+--------------------+--------------------+----------+\n",
            "only showing top 20 rows\n",
            "\n"
          ]
        }
      ]
    },
    {
      "cell_type": "code",
      "source": [
        "evaluator = ClusteringEvaluator(featuresCol='scaledFeatures', metricName = 'silhouette', distanceMeasure = 'squaredEuclidean')\n",
        "kMeans_score = evaluator.evaluate(predictions)\n",
        "\n",
        "print(f'Silhouette Score for K-Means: {kMeans_score}')"
      ],
      "metadata": {
        "colab": {
          "base_uri": "https://localhost:8080/"
        },
        "id": "DU06bSnxKuus",
        "outputId": "daf7f8f5-b9ce-40c3-b7a0-1a7fd4d9a6c6"
      },
      "execution_count": 66,
      "outputs": [
        {
          "output_type": "stream",
          "name": "stdout",
          "text": [
            "Silhouette Score for K-Means: 0.287294989103867\n"
          ]
        }
      ]
    },
    {
      "cell_type": "code",
      "source": [
        "bisecting_kMeans = BisectingKMeans(featuresCol='scaledFeatures', k=3)\n",
        "model = bisecting_kMeans.fit(scaledData)\n",
        "predictions = model.transform(scaledData)\n",
        "\n",
        "predictions.show()"
      ],
      "metadata": {
        "colab": {
          "base_uri": "https://localhost:8080/"
        },
        "id": "OQUWY-waLf_M",
        "outputId": "198a8446-d1bc-449a-86cc-09d295a08902"
      },
      "execution_count": 67,
      "outputs": [
        {
          "output_type": "stream",
          "name": "stdout",
          "text": [
            "+-------------+----------------+-----------+--------------+-------------------+-------------------+--------------------+-------+----+---------+-------+-------+--------------------+--------------------+----------+\n",
            "|fixed acidity|volatile acidity|citric acid|residual sugar|          chlorides|free sulfur dioxide|total sulfur dioxide|density|  pH|sulphates|alcohol|quality|            features|      scaledFeatures|prediction|\n",
            "+-------------+----------------+-----------+--------------+-------------------+-------------------+--------------------+-------+----+---------+-------+-------+--------------------+--------------------+----------+\n",
            "|          7.4|             0.7|        0.0|           1.9|              0.076|               11.0|                34.0| 0.9978|3.51|     0.56|    9.4|      5|[7.4,0.7,0.0,1.9,...|[4.23439064960558...|         0|\n",
            "|          7.8|            0.88|        0.0|           2.6|              0.098|               25.0|                67.0| 0.9968| 3.2|     0.68|    9.8|      5|[7.8,0.88,0.0,2.6...|[4.46327663066534...|         1|\n",
            "|          7.8|            0.76|       0.04|           2.3|              0.092|               15.0|                54.0|  0.997|3.26|     0.65|    9.8|      5|[7.8,0.76,0.04,2....|[4.46327663066534...|         0|\n",
            "|         11.2|            0.28|       0.56|           1.9|              0.075|               17.0|                60.0|  0.998|3.16|     0.58|    9.8|      6|[11.2,0.28,0.56,1...|[6.40880746967331...|         2|\n",
            "|          7.4|             0.7|        0.0|           1.9|              0.076|               11.0|                34.0| 0.9978|3.51|     0.56|    9.4|      5|[7.4,0.7,0.0,1.9,...|[4.23439064960558...|         0|\n",
            "|          7.4|            0.66|        0.0|           1.8|              0.075|               13.0|                40.0| 0.9978|3.51|     0.56|    9.4|      5|[7.4,0.66,0.0,1.8...|[4.23439064960558...|         0|\n",
            "|          7.9|             0.6|       0.06|           1.6|              0.069|               15.0|                59.0| 0.9964| 3.3|     0.46|    9.4|      5|[7.9,0.6,0.06,1.6...|[4.52049812593028...|         1|\n",
            "|          7.3|            0.65|        0.0|           1.2|              0.065|               15.0|                21.0| 0.9946|3.39|     0.47|   10.0|      7|[7.3,0.65,0.0,1.2...|[4.17716915434064...|         0|\n",
            "|          7.8|            0.58|       0.02|           2.0|              0.073|                9.0|                18.0| 0.9968|3.36|     0.57|    9.5|      7|[7.8,0.58,0.02,2....|[4.46327663066534...|         0|\n",
            "|          6.7|            0.58|       0.08|           1.8|0.09699999999999999|               15.0|                65.0| 0.9959|3.28|     0.54|    9.2|      5|[6.7,0.58,0.08,1....|[3.83384018275100...|         1|\n",
            "|          5.6|           0.615|        0.0|           1.6|0.08900000000000001|               16.0|                59.0| 0.9943|3.58|     0.52|    9.9|      5|[5.6,0.615,0.0,1....|[3.20440373483665...|         0|\n",
            "|          7.8|            0.61|       0.29|           1.6|              0.114|                9.0|                29.0| 0.9974|3.26|     1.56|    9.1|      5|[7.8,0.61,0.29,1....|[4.46327663066534...|         2|\n",
            "|          8.5|            0.28|       0.56|           1.8|              0.092|               35.0|               103.0| 0.9969| 3.3|     0.75|   10.5|      7|[8.5,0.28,0.56,1....|[4.86382709751992...|         2|\n",
            "|          7.9|            0.32|       0.51|           1.8|              0.341|               17.0|                56.0| 0.9969|3.04|     1.08|    9.2|      6|[7.9,0.32,0.51,1....|[4.52049812593028...|         2|\n",
            "|          7.6|            0.39|       0.31|           2.3|0.08199999999999999|               23.0|                71.0| 0.9982|3.52|     0.65|    9.7|      5|[7.6,0.39,0.31,2....|[4.34883364013546...|         1|\n",
            "|          7.9|            0.43|       0.21|           1.6|              0.106|               10.0|                37.0| 0.9966|3.17|     0.91|    9.5|      5|[7.9,0.43,0.21,1....|[4.52049812593028...|         0|\n",
            "|          8.5|            0.49|       0.11|           2.3|              0.084|                9.0|                67.0| 0.9968|3.17|     0.53|    9.4|      5|[8.5,0.49,0.11,2....|[4.86382709751992...|         1|\n",
            "|          6.9|             0.4|       0.14|           2.4|              0.085|               21.0|                40.0| 0.9968|3.43|     0.63|    9.7|      6|[6.9,0.4,0.14,2.4...|[3.94828317328088...|         0|\n",
            "|          6.3|            0.39|       0.16|           1.4|               0.08|               11.0|                23.0| 0.9955|3.34|     0.56|    9.3|      5|[6.3,0.39,0.16,1....|[3.60495420169124...|         0|\n",
            "|          7.6|            0.41|       0.24|           1.8|               0.08|                4.0|                11.0| 0.9962|3.28|     0.59|    9.5|      5|[7.6,0.41,0.24,1....|[4.34883364013546...|         0|\n",
            "+-------------+----------------+-----------+--------------+-------------------+-------------------+--------------------+-------+----+---------+-------+-------+--------------------+--------------------+----------+\n",
            "only showing top 20 rows\n",
            "\n"
          ]
        }
      ]
    },
    {
      "cell_type": "code",
      "source": [
        "bisecting_kMeans_score = evaluator.evaluate(predictions)\n",
        "\n",
        "print(f'Silhouette Score for Bisecting K-Means: {bisecting_kMeans_score}')"
      ],
      "metadata": {
        "colab": {
          "base_uri": "https://localhost:8080/"
        },
        "id": "XVAUTPfAL9B2",
        "outputId": "0af8473e-d6f1-4231-83c6-92645ae7143d"
      },
      "execution_count": 68,
      "outputs": [
        {
          "output_type": "stream",
          "name": "stdout",
          "text": [
            "Silhouette Score for Bisecting K-Means: 0.18656306141538748\n"
          ]
        }
      ]
    },
    {
      "cell_type": "code",
      "source": [
        "spark.stop()"
      ],
      "metadata": {
        "id": "C8nlaFYXMRSa"
      },
      "execution_count": 69,
      "outputs": []
    }
  ]
}