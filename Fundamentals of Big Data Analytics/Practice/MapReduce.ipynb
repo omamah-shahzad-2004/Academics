{
  "nbformat": 4,
  "nbformat_minor": 0,
  "metadata": {
    "colab": {
      "provenance": []
    },
    "kernelspec": {
      "name": "python3",
      "display_name": "Python 3"
    },
    "language_info": {
      "name": "python"
    }
  },
  "cells": [
    {
      "cell_type": "code",
      "source": [
        "!pip install mrjob"
      ],
      "metadata": {
        "colab": {
          "base_uri": "https://localhost:8080/"
        },
        "id": "gXPjeLNrcdwQ",
        "outputId": "565cdce7-4fbe-419e-b189-4899ae746915"
      },
      "execution_count": null,
      "outputs": [
        {
          "output_type": "stream",
          "name": "stdout",
          "text": [
            "Collecting mrjob\n",
            "  Downloading mrjob-0.7.4-py2.py3-none-any.whl.metadata (7.3 kB)\n",
            "Requirement already satisfied: PyYAML>=3.10 in /usr/local/lib/python3.10/dist-packages (from mrjob) (6.0.2)\n",
            "Downloading mrjob-0.7.4-py2.py3-none-any.whl (439 kB)\n",
            "\u001b[2K   \u001b[90m━━━━━━━━━━━━━━━━━━━━━━━━━━━━━━━━━━━━━━━━\u001b[0m \u001b[32m439.6/439.6 kB\u001b[0m \u001b[31m4.5 MB/s\u001b[0m eta \u001b[36m0:00:00\u001b[0m\n",
            "\u001b[?25hInstalling collected packages: mrjob\n",
            "Successfully installed mrjob-0.7.4\n"
          ]
        }
      ]
    },
    {
      "cell_type": "code",
      "execution_count": null,
      "metadata": {
        "id": "aZphXVqEcOvY"
      },
      "outputs": [],
      "source": [
        "from mrjob.job import MRJob\n",
        "import numpy as np"
      ]
    },
    {
      "cell_type": "code",
      "source": [
        "#WordCount\n",
        "class MRWordCount(MRJob):\n",
        "  def mapper(self, _, line):\n",
        "    for word in line.split():\n",
        "      yield (word, 1)\n",
        "\n",
        "  def reducer(self, word, counts):\n",
        "    yield (word, sum(counts))"
      ],
      "metadata": {
        "id": "Z_UrVs1qclay"
      },
      "execution_count": null,
      "outputs": []
    },
    {
      "cell_type": "code",
      "source": [
        "#Average Temperatures\n",
        "class AvgTemperature(MRJob):\n",
        "  def mapper(self, _, line):\n",
        "    month, temperature = line.split()\n",
        "    yield month, (int(temperature), 1)\n",
        "\n",
        "  def _reducer_combiner(self, month, temperatures):\n",
        "    sum, count = 0, 0\n",
        "    for tmp, c in temperatures:\n",
        "      sum = sum + tmp\n",
        "      count = count + c\n",
        "    avg = sum / count\n",
        "    return month, (avg, count)\n",
        "\n",
        "    def combiner(self, month, temperatures):\n",
        "      yield self._reducer_combiner(month, temperatures)\n",
        "\n",
        "    def reducer(self, month, temperatures):\n",
        "      month, (avg, count) = self._reducer_combiner(month, temperatures)\n",
        "      yield month, avg"
      ],
      "metadata": {
        "id": "ENnsf_eLhMRk"
      },
      "execution_count": null,
      "outputs": []
    },
    {
      "cell_type": "code",
      "source": [
        "#KMeans\n",
        "class ClusterAssignmentMapReduce(MRJob):\n",
        "  def configure_args(self):\n",
        "    super(ClusterAssignmentMapReduce, self).configure_args()\n",
        "    self.add_file_arg(\"--clusters\", help=\"File containing cluster centroids\")\n",
        "\n",
        "  def mapper_init(self):\n",
        "    with open(self.options.clusters, 'r') as f:\n",
        "      self.cluster_centroids = [float(line.strip()) for line in f]\n",
        "\n",
        "  def mapper(self, _, line):\n",
        "    data_point = float(line.strip())\n",
        "    nearest_cluster = min(self.cluster_centroids, key = lambda centroid: abs(centroid - data_point))\n",
        "    yield nearest_cluster, data_point\n",
        "\n",
        "  def reducer(self, cluster, data_points):\n",
        "    yield cluster, list(data_points)"
      ],
      "metadata": {
        "id": "SzZUMtDLO_ia"
      },
      "execution_count": null,
      "outputs": []
    }
  ]
}