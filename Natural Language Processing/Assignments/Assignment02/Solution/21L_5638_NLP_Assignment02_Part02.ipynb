{
  "nbformat": 4,
  "nbformat_minor": 0,
  "metadata": {
    "colab": {
      "provenance": []
    },
    "kernelspec": {
      "name": "python3",
      "display_name": "Python 3"
    },
    "language_info": {
      "name": "python"
    }
  },
  "cells": [
    {
      "cell_type": "markdown",
      "source": [
        "# **Data Preparation**"
      ],
      "metadata": {
        "id": "DijhDSLE9Ber"
      }
    },
    {
      "cell_type": "code",
      "execution_count": null,
      "metadata": {
        "colab": {
          "base_uri": "https://localhost:8080/"
        },
        "id": "6upc0BoU57Ap",
        "outputId": "7a627a91-1205-4f96-b841-fac0f1b58011"
      },
      "outputs": [
        {
          "output_type": "stream",
          "name": "stderr",
          "text": [
            "[nltk_data] Downloading package punkt to /root/nltk_data...\n",
            "[nltk_data]   Package punkt is already up-to-date!\n",
            "[nltk_data] Downloading package wordnet to /root/nltk_data...\n",
            "[nltk_data]   Package wordnet is already up-to-date!\n",
            "[nltk_data] Downloading package stopwords to /root/nltk_data...\n",
            "[nltk_data]   Package stopwords is already up-to-date!\n"
          ]
        }
      ],
      "source": [
        "import numpy as np\n",
        "import pandas as pd\n",
        "import re\n",
        "import nltk\n",
        "import matplotlib.pyplot as plt\n",
        "nltk.download('punkt')\n",
        "nltk.download('wordnet')\n",
        "from nltk.corpus import stopwords\n",
        "nltk.download('stopwords')\n",
        "from nltk.stem import WordNetLemmatizer\n",
        "from sklearn.feature_extraction.text import CountVectorizer\n",
        "from sklearn.feature_extraction.text import TfidfTransformer\n",
        "from sklearn.naive_bayes import MultinomialNB\n",
        "from sklearn.linear_model import LogisticRegression\n",
        "from sklearn.ensemble import RandomForestClassifier\n",
        "from sklearn.svm import SVC\n",
        "from sklearn.linear_model import Perceptron\n",
        "from sklearn.metrics import accuracy_score, precision_score, recall_score, f1_score\n",
        "from sklearn.model_selection import train_test_split"
      ]
    },
    {
      "cell_type": "code",
      "source": [
        "data = pd.read_csv('/content/Q2 Sentiment Analysis Dataset.csv', encoding='latin-1')\n",
        "\n",
        "data.head()"
      ],
      "metadata": {
        "colab": {
          "base_uri": "https://localhost:8080/",
          "height": 310
        },
        "id": "JDjkMkY89eBf",
        "outputId": "361edcac-2238-404e-8347-f76b0ce6d506"
      },
      "execution_count": null,
      "outputs": [
        {
          "output_type": "execute_result",
          "data": {
            "text/plain": [
              "          id sentiment                            date  \\\n",
              "0  623495523         1  Mon Dec 01 20:46:01 +0000 2014   \n",
              "1  623495527         1  Mon Dec 01 21:09:50 +0000 2014   \n",
              "2  623495529         1  Mon Dec 01 21:35:14 +0000 2014   \n",
              "3  623495536         1  Mon Dec 01 23:55:55 +0000 2014   \n",
              "4  623495537         1  Tue Dec 02 00:06:05 +0000 2014   \n",
              "\n",
              "                                                text  Unnamed: 4  Unnamed: 5  \n",
              "0  WTF MY BATTERY WAS 31% ONE SECOND AGO AND NOW ...         NaN         NaN  \n",
              "1  @apple Contact sync between Yosemite and iOS8 ...         NaN         NaN  \n",
              "2  WARNING IF YOU BUY AN IPHONE 5S UNLOCKED FROM ...         NaN         NaN  \n",
              "3  @Apple, For the love of GAWD, CENTER the '1'on...         NaN         NaN  \n",
              "4  i get the storage almost full notification lit...         NaN         NaN  "
            ],
            "text/html": [
              "\n",
              "  <div id=\"df-aa366ffe-dee6-42c8-a1c8-877bf9afc249\" class=\"colab-df-container\">\n",
              "    <div>\n",
              "<style scoped>\n",
              "    .dataframe tbody tr th:only-of-type {\n",
              "        vertical-align: middle;\n",
              "    }\n",
              "\n",
              "    .dataframe tbody tr th {\n",
              "        vertical-align: top;\n",
              "    }\n",
              "\n",
              "    .dataframe thead th {\n",
              "        text-align: right;\n",
              "    }\n",
              "</style>\n",
              "<table border=\"1\" class=\"dataframe\">\n",
              "  <thead>\n",
              "    <tr style=\"text-align: right;\">\n",
              "      <th></th>\n",
              "      <th>id</th>\n",
              "      <th>sentiment</th>\n",
              "      <th>date</th>\n",
              "      <th>text</th>\n",
              "      <th>Unnamed: 4</th>\n",
              "      <th>Unnamed: 5</th>\n",
              "    </tr>\n",
              "  </thead>\n",
              "  <tbody>\n",
              "    <tr>\n",
              "      <th>0</th>\n",
              "      <td>623495523</td>\n",
              "      <td>1</td>\n",
              "      <td>Mon Dec 01 20:46:01 +0000 2014</td>\n",
              "      <td>WTF MY BATTERY WAS 31% ONE SECOND AGO AND NOW ...</td>\n",
              "      <td>NaN</td>\n",
              "      <td>NaN</td>\n",
              "    </tr>\n",
              "    <tr>\n",
              "      <th>1</th>\n",
              "      <td>623495527</td>\n",
              "      <td>1</td>\n",
              "      <td>Mon Dec 01 21:09:50 +0000 2014</td>\n",
              "      <td>@apple Contact sync between Yosemite and iOS8 ...</td>\n",
              "      <td>NaN</td>\n",
              "      <td>NaN</td>\n",
              "    </tr>\n",
              "    <tr>\n",
              "      <th>2</th>\n",
              "      <td>623495529</td>\n",
              "      <td>1</td>\n",
              "      <td>Mon Dec 01 21:35:14 +0000 2014</td>\n",
              "      <td>WARNING IF YOU BUY AN IPHONE 5S UNLOCKED FROM ...</td>\n",
              "      <td>NaN</td>\n",
              "      <td>NaN</td>\n",
              "    </tr>\n",
              "    <tr>\n",
              "      <th>3</th>\n",
              "      <td>623495536</td>\n",
              "      <td>1</td>\n",
              "      <td>Mon Dec 01 23:55:55 +0000 2014</td>\n",
              "      <td>@Apple, For the love of GAWD, CENTER the '1'on...</td>\n",
              "      <td>NaN</td>\n",
              "      <td>NaN</td>\n",
              "    </tr>\n",
              "    <tr>\n",
              "      <th>4</th>\n",
              "      <td>623495537</td>\n",
              "      <td>1</td>\n",
              "      <td>Tue Dec 02 00:06:05 +0000 2014</td>\n",
              "      <td>i get the storage almost full notification lit...</td>\n",
              "      <td>NaN</td>\n",
              "      <td>NaN</td>\n",
              "    </tr>\n",
              "  </tbody>\n",
              "</table>\n",
              "</div>\n",
              "    <div class=\"colab-df-buttons\">\n",
              "\n",
              "  <div class=\"colab-df-container\">\n",
              "    <button class=\"colab-df-convert\" onclick=\"convertToInteractive('df-aa366ffe-dee6-42c8-a1c8-877bf9afc249')\"\n",
              "            title=\"Convert this dataframe to an interactive table.\"\n",
              "            style=\"display:none;\">\n",
              "\n",
              "  <svg xmlns=\"http://www.w3.org/2000/svg\" height=\"24px\" viewBox=\"0 -960 960 960\">\n",
              "    <path d=\"M120-120v-720h720v720H120Zm60-500h600v-160H180v160Zm220 220h160v-160H400v160Zm0 220h160v-160H400v160ZM180-400h160v-160H180v160Zm440 0h160v-160H620v160ZM180-180h160v-160H180v160Zm440 0h160v-160H620v160Z\"/>\n",
              "  </svg>\n",
              "    </button>\n",
              "\n",
              "  <style>\n",
              "    .colab-df-container {\n",
              "      display:flex;\n",
              "      gap: 12px;\n",
              "    }\n",
              "\n",
              "    .colab-df-convert {\n",
              "      background-color: #E8F0FE;\n",
              "      border: none;\n",
              "      border-radius: 50%;\n",
              "      cursor: pointer;\n",
              "      display: none;\n",
              "      fill: #1967D2;\n",
              "      height: 32px;\n",
              "      padding: 0 0 0 0;\n",
              "      width: 32px;\n",
              "    }\n",
              "\n",
              "    .colab-df-convert:hover {\n",
              "      background-color: #E2EBFA;\n",
              "      box-shadow: 0px 1px 2px rgba(60, 64, 67, 0.3), 0px 1px 3px 1px rgba(60, 64, 67, 0.15);\n",
              "      fill: #174EA6;\n",
              "    }\n",
              "\n",
              "    .colab-df-buttons div {\n",
              "      margin-bottom: 4px;\n",
              "    }\n",
              "\n",
              "    [theme=dark] .colab-df-convert {\n",
              "      background-color: #3B4455;\n",
              "      fill: #D2E3FC;\n",
              "    }\n",
              "\n",
              "    [theme=dark] .colab-df-convert:hover {\n",
              "      background-color: #434B5C;\n",
              "      box-shadow: 0px 1px 3px 1px rgba(0, 0, 0, 0.15);\n",
              "      filter: drop-shadow(0px 1px 2px rgba(0, 0, 0, 0.3));\n",
              "      fill: #FFFFFF;\n",
              "    }\n",
              "  </style>\n",
              "\n",
              "    <script>\n",
              "      const buttonEl =\n",
              "        document.querySelector('#df-aa366ffe-dee6-42c8-a1c8-877bf9afc249 button.colab-df-convert');\n",
              "      buttonEl.style.display =\n",
              "        google.colab.kernel.accessAllowed ? 'block' : 'none';\n",
              "\n",
              "      async function convertToInteractive(key) {\n",
              "        const element = document.querySelector('#df-aa366ffe-dee6-42c8-a1c8-877bf9afc249');\n",
              "        const dataTable =\n",
              "          await google.colab.kernel.invokeFunction('convertToInteractive',\n",
              "                                                    [key], {});\n",
              "        if (!dataTable) return;\n",
              "\n",
              "        const docLinkHtml = 'Like what you see? Visit the ' +\n",
              "          '<a target=\"_blank\" href=https://colab.research.google.com/notebooks/data_table.ipynb>data table notebook</a>'\n",
              "          + ' to learn more about interactive tables.';\n",
              "        element.innerHTML = '';\n",
              "        dataTable['output_type'] = 'display_data';\n",
              "        await google.colab.output.renderOutput(dataTable, element);\n",
              "        const docLink = document.createElement('div');\n",
              "        docLink.innerHTML = docLinkHtml;\n",
              "        element.appendChild(docLink);\n",
              "      }\n",
              "    </script>\n",
              "  </div>\n",
              "\n",
              "\n",
              "<div id=\"df-8f547859-f026-4a84-bedf-6fa9e1b2d946\">\n",
              "  <button class=\"colab-df-quickchart\" onclick=\"quickchart('df-8f547859-f026-4a84-bedf-6fa9e1b2d946')\"\n",
              "            title=\"Suggest charts\"\n",
              "            style=\"display:none;\">\n",
              "\n",
              "<svg xmlns=\"http://www.w3.org/2000/svg\" height=\"24px\"viewBox=\"0 0 24 24\"\n",
              "     width=\"24px\">\n",
              "    <g>\n",
              "        <path d=\"M19 3H5c-1.1 0-2 .9-2 2v14c0 1.1.9 2 2 2h14c1.1 0 2-.9 2-2V5c0-1.1-.9-2-2-2zM9 17H7v-7h2v7zm4 0h-2V7h2v10zm4 0h-2v-4h2v4z\"/>\n",
              "    </g>\n",
              "</svg>\n",
              "  </button>\n",
              "\n",
              "<style>\n",
              "  .colab-df-quickchart {\n",
              "      --bg-color: #E8F0FE;\n",
              "      --fill-color: #1967D2;\n",
              "      --hover-bg-color: #E2EBFA;\n",
              "      --hover-fill-color: #174EA6;\n",
              "      --disabled-fill-color: #AAA;\n",
              "      --disabled-bg-color: #DDD;\n",
              "  }\n",
              "\n",
              "  [theme=dark] .colab-df-quickchart {\n",
              "      --bg-color: #3B4455;\n",
              "      --fill-color: #D2E3FC;\n",
              "      --hover-bg-color: #434B5C;\n",
              "      --hover-fill-color: #FFFFFF;\n",
              "      --disabled-bg-color: #3B4455;\n",
              "      --disabled-fill-color: #666;\n",
              "  }\n",
              "\n",
              "  .colab-df-quickchart {\n",
              "    background-color: var(--bg-color);\n",
              "    border: none;\n",
              "    border-radius: 50%;\n",
              "    cursor: pointer;\n",
              "    display: none;\n",
              "    fill: var(--fill-color);\n",
              "    height: 32px;\n",
              "    padding: 0;\n",
              "    width: 32px;\n",
              "  }\n",
              "\n",
              "  .colab-df-quickchart:hover {\n",
              "    background-color: var(--hover-bg-color);\n",
              "    box-shadow: 0 1px 2px rgba(60, 64, 67, 0.3), 0 1px 3px 1px rgba(60, 64, 67, 0.15);\n",
              "    fill: var(--button-hover-fill-color);\n",
              "  }\n",
              "\n",
              "  .colab-df-quickchart-complete:disabled,\n",
              "  .colab-df-quickchart-complete:disabled:hover {\n",
              "    background-color: var(--disabled-bg-color);\n",
              "    fill: var(--disabled-fill-color);\n",
              "    box-shadow: none;\n",
              "  }\n",
              "\n",
              "  .colab-df-spinner {\n",
              "    border: 2px solid var(--fill-color);\n",
              "    border-color: transparent;\n",
              "    border-bottom-color: var(--fill-color);\n",
              "    animation:\n",
              "      spin 1s steps(1) infinite;\n",
              "  }\n",
              "\n",
              "  @keyframes spin {\n",
              "    0% {\n",
              "      border-color: transparent;\n",
              "      border-bottom-color: var(--fill-color);\n",
              "      border-left-color: var(--fill-color);\n",
              "    }\n",
              "    20% {\n",
              "      border-color: transparent;\n",
              "      border-left-color: var(--fill-color);\n",
              "      border-top-color: var(--fill-color);\n",
              "    }\n",
              "    30% {\n",
              "      border-color: transparent;\n",
              "      border-left-color: var(--fill-color);\n",
              "      border-top-color: var(--fill-color);\n",
              "      border-right-color: var(--fill-color);\n",
              "    }\n",
              "    40% {\n",
              "      border-color: transparent;\n",
              "      border-right-color: var(--fill-color);\n",
              "      border-top-color: var(--fill-color);\n",
              "    }\n",
              "    60% {\n",
              "      border-color: transparent;\n",
              "      border-right-color: var(--fill-color);\n",
              "    }\n",
              "    80% {\n",
              "      border-color: transparent;\n",
              "      border-right-color: var(--fill-color);\n",
              "      border-bottom-color: var(--fill-color);\n",
              "    }\n",
              "    90% {\n",
              "      border-color: transparent;\n",
              "      border-bottom-color: var(--fill-color);\n",
              "    }\n",
              "  }\n",
              "</style>\n",
              "\n",
              "  <script>\n",
              "    async function quickchart(key) {\n",
              "      const quickchartButtonEl =\n",
              "        document.querySelector('#' + key + ' button');\n",
              "      quickchartButtonEl.disabled = true;  // To prevent multiple clicks.\n",
              "      quickchartButtonEl.classList.add('colab-df-spinner');\n",
              "      try {\n",
              "        const charts = await google.colab.kernel.invokeFunction(\n",
              "            'suggestCharts', [key], {});\n",
              "      } catch (error) {\n",
              "        console.error('Error during call to suggestCharts:', error);\n",
              "      }\n",
              "      quickchartButtonEl.classList.remove('colab-df-spinner');\n",
              "      quickchartButtonEl.classList.add('colab-df-quickchart-complete');\n",
              "    }\n",
              "    (() => {\n",
              "      let quickchartButtonEl =\n",
              "        document.querySelector('#df-8f547859-f026-4a84-bedf-6fa9e1b2d946 button');\n",
              "      quickchartButtonEl.style.display =\n",
              "        google.colab.kernel.accessAllowed ? 'block' : 'none';\n",
              "    })();\n",
              "  </script>\n",
              "</div>\n",
              "    </div>\n",
              "  </div>\n"
            ],
            "application/vnd.google.colaboratory.intrinsic+json": {
              "type": "dataframe",
              "variable_name": "data",
              "summary": "{\n  \"name\": \"data\",\n  \"rows\": 3886,\n  \"fields\": [\n    {\n      \"column\": \"id\",\n      \"properties\": {\n        \"dtype\": \"number\",\n        \"std\": 1171,\n        \"min\": 623495513,\n        \"max\": 623517290,\n        \"num_unique_values\": 3886,\n        \"samples\": [\n          623495758,\n          623498613,\n          623497612\n        ],\n        \"semantic_type\": \"\",\n        \"description\": \"\"\n      }\n    },\n    {\n      \"column\": \"sentiment\",\n      \"properties\": {\n        \"dtype\": \"category\",\n        \"num_unique_values\": 4,\n        \"samples\": [\n          \"3\",\n          \"not_relevant\",\n          \"1\"\n        ],\n        \"semantic_type\": \"\",\n        \"description\": \"\"\n      }\n    },\n    {\n      \"column\": \"date\",\n      \"properties\": {\n        \"dtype\": \"object\",\n        \"num_unique_values\": 3795,\n        \"samples\": [\n          \"Wed Dec 03 18:04:42 +0000 2014\",\n          \"Tue Dec 09 03:19:42 +0000 2014\",\n          \"Tue Dec 02 14:58:31 +0000 2014\"\n        ],\n        \"semantic_type\": \"\",\n        \"description\": \"\"\n      }\n    },\n    {\n      \"column\": \"text\",\n      \"properties\": {\n        \"dtype\": \"string\",\n        \"num_unique_values\": 3219,\n        \"samples\": [\n          \"Julian Robertson Still Bullish On Apple Inc. http://t.co/TZR1tF5Gv6 #AAPL\",\n          \"@apple What do I need to do if my mac has been really slow lately ?\",\n          \"Apple Inc. price at close, December 04, 2014, is 115.4. #apple #AAPL\"\n        ],\n        \"semantic_type\": \"\",\n        \"description\": \"\"\n      }\n    },\n    {\n      \"column\": \"Unnamed: 4\",\n      \"properties\": {\n        \"dtype\": \"number\",\n        \"std\": null,\n        \"min\": null,\n        \"max\": null,\n        \"num_unique_values\": 0,\n        \"samples\": [],\n        \"semantic_type\": \"\",\n        \"description\": \"\"\n      }\n    },\n    {\n      \"column\": \"Unnamed: 5\",\n      \"properties\": {\n        \"dtype\": \"number\",\n        \"std\": null,\n        \"min\": null,\n        \"max\": null,\n        \"num_unique_values\": 0,\n        \"samples\": [],\n        \"semantic_type\": \"\",\n        \"description\": \"\"\n      }\n    }\n  ]\n}"
            }
          },
          "metadata": {},
          "execution_count": 2
        }
      ]
    },
    {
      "cell_type": "markdown",
      "source": [
        "# **Exploratory Data Analysis (EDA)**"
      ],
      "metadata": {
        "id": "lE6uybpBE6GU"
      }
    },
    {
      "cell_type": "code",
      "source": [
        "#distribution of sentiment labels\n",
        "counts = data['sentiment'].value_counts()\n",
        "\n",
        "plt.bar(counts.index, counts.values)\n",
        "plt.xlabel('Sentiment')\n",
        "plt.ylabel('Count')\n",
        "plt.title('Sentiment Distribution')\n",
        "plt.show()"
      ],
      "metadata": {
        "colab": {
          "base_uri": "https://localhost:8080/",
          "height": 472
        },
        "id": "yJ4uuXo4FCSP",
        "outputId": "fb978589-a444-4be5-f05c-7af394ff0433"
      },
      "execution_count": null,
      "outputs": [
        {
          "output_type": "display_data",
          "data": {
            "text/plain": [
              "<Figure size 640x480 with 1 Axes>"
            ],
            "image/png": "[encoded data removed]"
          },
          "metadata": {}
        }
      ]
    },
    {
      "cell_type": "code",
      "source": [
        "#checking NULL values\n",
        "print(data.isnull().sum())"
      ],
      "metadata": {
        "colab": {
          "base_uri": "https://localhost:8080/"
        },
        "id": "1aF0uDit_efx",
        "outputId": "8594d34a-e3db-479f-a460-33287ca6f79c"
      },
      "execution_count": null,
      "outputs": [
        {
          "output_type": "stream",
          "name": "stdout",
          "text": [
            "id               0\n",
            "sentiment        0\n",
            "date             0\n",
            "text             0\n",
            "Unnamed: 4    3886\n",
            "Unnamed: 5    3886\n",
            "dtype: int64\n"
          ]
        }
      ]
    },
    {
      "cell_type": "code",
      "source": [
        "data.info()"
      ],
      "metadata": {
        "colab": {
          "base_uri": "https://localhost:8080/"
        },
        "id": "hNToa6-2uaGX",
        "outputId": "0d37d905-8420-4169-cfe1-c8f648317f5f"
      },
      "execution_count": null,
      "outputs": [
        {
          "output_type": "stream",
          "name": "stdout",
          "text": [
            "<class 'pandas.core.frame.DataFrame'>\n",
            "RangeIndex: 3886 entries, 0 to 3885\n",
            "Data columns (total 6 columns):\n",
            " #   Column      Non-Null Count  Dtype  \n",
            "---  ------      --------------  -----  \n",
            " 0   id          3886 non-null   int64  \n",
            " 1   sentiment   3886 non-null   object \n",
            " 2   date        3886 non-null   object \n",
            " 3   text        3886 non-null   object \n",
            " 4   Unnamed: 4  0 non-null      float64\n",
            " 5   Unnamed: 5  0 non-null      float64\n",
            "dtypes: float64(2), int64(1), object(3)\n",
            "memory usage: 182.3+ KB\n"
          ]
        }
      ]
    },
    {
      "cell_type": "markdown",
      "source": [
        "# **Preprocessing**"
      ],
      "metadata": {
        "id": "FE9rh4jazjOT"
      }
    },
    {
      "cell_type": "code",
      "source": [
        "#encoding\n",
        "for i in range(len(data)):\n",
        "    if data['sentiment'][i] == 'not_relevant':\n",
        "        data['sentiment'][i] = '0'\n",
        "\n",
        "data['sentiment'].value_counts()"
      ],
      "metadata": {
        "colab": {
          "base_uri": "https://localhost:8080/"
        },
        "id": "xtZVrlXgzmva",
        "outputId": "1e5f528c-380f-492f-c3ce-d700580a0cd0"
      },
      "execution_count": null,
      "outputs": [
        {
          "output_type": "stream",
          "name": "stderr",
          "text": [
            "<ipython-input-6-eea1345e1f7f>:4: SettingWithCopyWarning: \n",
            "A value is trying to be set on a copy of a slice from a DataFrame\n",
            "\n",
            "See the caveats in the documentation: https://pandas.pydata.org/pandas-docs/stable/user_guide/indexing.html#returning-a-view-versus-a-copy\n",
            "  data['sentiment'][i] = '0'\n"
          ]
        },
        {
          "output_type": "execute_result",
          "data": {
            "text/plain": [
              "3    2162\n",
              "1    1219\n",
              "5     423\n",
              "0      82\n",
              "Name: sentiment, dtype: int64"
            ]
          },
          "metadata": {},
          "execution_count": 6
        }
      ]
    },
    {
      "cell_type": "markdown",
      "source": [
        "# **Text Preprocessing**"
      ],
      "metadata": {
        "id": "XIiADYkUJIJa"
      }
    },
    {
      "cell_type": "code",
      "source": [
        "data['text'] = data['text'].apply(lambda x: x.lower()) #lowercase conversion\n",
        "data['text'] = data['text'].apply((lambda x: re.sub(r'[^a-zA-Z\\s]', '', x))) #text cleaning\n",
        "data['text'] = data['text'].apply(lambda x: ' '.join(word for word in x.split() if word not in stopwords.words('english'))) #stopwords removal"
      ],
      "metadata": {
        "id": "cUiQWlZiB-G6"
      },
      "execution_count": null,
      "outputs": []
    },
    {
      "cell_type": "code",
      "source": [
        "lemmatizer = WordNetLemmatizer()\n",
        "\n",
        "def lemmatize_text(text):\n",
        "    tokens = text.split()\n",
        "    lemmatized_tokens = [lemmatizer.lemmatize(token) for token in tokens] #lemmatization\n",
        "    return ' '.join(lemmatized_tokens)\n",
        "\n",
        "data['text'] = data['text'].apply(lemmatize_text)"
      ],
      "metadata": {
        "id": "iOxNV4eCIt43"
      },
      "execution_count": null,
      "outputs": []
    },
    {
      "cell_type": "code",
      "source": [
        "data['text'].head(5)"
      ],
      "metadata": {
        "colab": {
          "base_uri": "https://localhost:8080/"
        },
        "id": "0eW7SrVhbBo-",
        "outputId": "899c9ba1-577e-47bd-ed34-74e7bdf31b21"
      },
      "execution_count": null,
      "outputs": [
        {
          "output_type": "execute_result",
          "data": {
            "text/plain": [
              "0                 wtf battery one second ago wtf apple\n",
              "1    apple contact sync yosemite io seriously screw...\n",
              "2    warning buy iphone unlocked apple iphone canno...\n",
              "3    apple love gawd center damn calendar app fixed...\n",
              "4    get storage almost full notification literally...\n",
              "Name: text, dtype: object"
            ]
          },
          "metadata": {},
          "execution_count": 9
        }
      ]
    },
    {
      "cell_type": "markdown",
      "source": [
        "# **Feature Extraction**"
      ],
      "metadata": {
        "id": "DtDmfPkhcPJS"
      }
    },
    {
      "cell_type": "code",
      "source": [
        "vectorizer = CountVectorizer()\n",
        "\n",
        "X_bow_rawcounts = vectorizer.fit_transform(data['text']) #Bag of words based on raw counts\n",
        "vectorizer.get_feature_names_out()"
      ],
      "metadata": {
        "colab": {
          "base_uri": "https://localhost:8080/"
        },
        "id": "RJ_z9yD2pqTu",
        "outputId": "ea281929-16d2-49d9-fd2a-69729e0df190"
      },
      "execution_count": null,
      "outputs": [
        {
          "output_type": "execute_result",
          "data": {
            "text/plain": [
              "array(['aa', 'aaaron', 'aapl', ..., 'zuckerberg', 'zuckerbergs', 'zum'],\n",
              "      dtype=object)"
            ]
          },
          "metadata": {},
          "execution_count": 10
        }
      ]
    },
    {
      "cell_type": "code",
      "source": [
        "X_bow_rawcounts.toarray()"
      ],
      "metadata": {
        "colab": {
          "base_uri": "https://localhost:8080/"
        },
        "id": "6y_3HUpcKCfa",
        "outputId": "95f22aaa-f998-4a2b-95a5-8b7b897c9eae"
      },
      "execution_count": null,
      "outputs": [
        {
          "output_type": "execute_result",
          "data": {
            "text/plain": [
              "array([[0, 0, 0, ..., 0, 0, 0],\n",
              "       [0, 0, 0, ..., 0, 0, 0],\n",
              "       [0, 0, 0, ..., 0, 0, 0],\n",
              "       ...,\n",
              "       [0, 0, 1, ..., 0, 0, 0],\n",
              "       [0, 0, 1, ..., 0, 0, 0],\n",
              "       [0, 0, 1, ..., 0, 0, 0]])"
            ]
          },
          "metadata": {},
          "execution_count": 11
        }
      ]
    },
    {
      "cell_type": "code",
      "source": [
        "transformer = TfidfTransformer()\n",
        "\n",
        "X_bow_tfidf = transformer.fit_transform(X_bow_rawcounts) #Bag of words based on TfIDF"
      ],
      "metadata": {
        "id": "Cxjo5Q-tMc2V"
      },
      "execution_count": null,
      "outputs": []
    },
    {
      "cell_type": "code",
      "source": [
        "X_bow_tfidf.toarray()"
      ],
      "metadata": {
        "colab": {
          "base_uri": "https://localhost:8080/"
        },
        "id": "jBKd5LVLPDZc",
        "outputId": "2d3b6652-6bab-4829-ce70-447007099545"
      },
      "execution_count": null,
      "outputs": [
        {
          "output_type": "execute_result",
          "data": {
            "text/plain": [
              "array([[0.        , 0.        , 0.        , ..., 0.        , 0.        ,\n",
              "        0.        ],\n",
              "       [0.        , 0.        , 0.        , ..., 0.        , 0.        ,\n",
              "        0.        ],\n",
              "       [0.        , 0.        , 0.        , ..., 0.        , 0.        ,\n",
              "        0.        ],\n",
              "       ...,\n",
              "       [0.        , 0.        , 0.21042171, ..., 0.        , 0.        ,\n",
              "        0.        ],\n",
              "       [0.        , 0.        , 0.13074216, ..., 0.        , 0.        ,\n",
              "        0.        ],\n",
              "       [0.        , 0.        , 0.10520791, ..., 0.        , 0.        ,\n",
              "        0.        ]])"
            ]
          },
          "metadata": {},
          "execution_count": 13
        }
      ]
    },
    {
      "cell_type": "code",
      "source": [
        "ngram_vectorizer = CountVectorizer(ngram_range=(1, 3), token_pattern=r'\\b\\w+\\b', min_df=1)\n",
        "\n",
        "X_ngrams = ngram_vectorizer.fit_transform(data['text']) #ngrams (unigrams, bigrams, trigrams)\n",
        "ngram_vectorizer.get_feature_names_out()"
      ],
      "metadata": {
        "colab": {
          "base_uri": "https://localhost:8080/"
        },
        "id": "4pbMnoD1kUKn",
        "outputId": "6dcf96aa-04d3-4834-acc1-dd085ba18f38"
      },
      "execution_count": null,
      "outputs": [
        {
          "output_type": "execute_result",
          "data": {
            "text/plain": [
              "array(['aa', 'aa credit', 'aa credit rating', ..., 'zum', 'zum apple',\n",
              "       'zum apple apple'], dtype=object)"
            ]
          },
          "metadata": {},
          "execution_count": 14
        }
      ]
    },
    {
      "cell_type": "code",
      "source": [
        "X_ngrams.toarray()"
      ],
      "metadata": {
        "colab": {
          "base_uri": "https://localhost:8080/"
        },
        "id": "fUM2N-Ovk-Xq",
        "outputId": "840f014d-1684-46eb-ce71-9ea258e62bba"
      },
      "execution_count": null,
      "outputs": [
        {
          "output_type": "execute_result",
          "data": {
            "text/plain": [
              "array([[0, 0, 0, ..., 0, 0, 0],\n",
              "       [0, 0, 0, ..., 0, 0, 0],\n",
              "       [0, 0, 0, ..., 0, 0, 0],\n",
              "       ...,\n",
              "       [0, 0, 0, ..., 0, 0, 0],\n",
              "       [0, 0, 0, ..., 0, 0, 0],\n",
              "       [0, 0, 0, ..., 0, 0, 0]])"
            ]
          },
          "metadata": {},
          "execution_count": 15
        }
      ]
    },
    {
      "cell_type": "markdown",
      "source": [
        "# **Model Training and Evaluation**"
      ],
      "metadata": {
        "id": "V-OITHVNWwwx"
      }
    },
    {
      "cell_type": "code",
      "source": [
        "def models_training(X_train, X_test, y_train, y_test):\n",
        "    classifiers = {\n",
        "        'Naive Bayes': MultinomialNB(),\n",
        "        'Logistic Regression': LogisticRegression(max_iter=10000),\n",
        "        'Random Forest': RandomForestClassifier(),\n",
        "        'SVM': SVC(max_iter=10000),\n",
        "        'Perceptron': Perceptron(max_iter=10000)\n",
        "    }\n",
        "\n",
        "    microAvg_results = {\n",
        "        'Classifier Name': [],\n",
        "        'Accuracy': [],\n",
        "        'Precision': [],\n",
        "        'Recall': [],\n",
        "        'F-score': []\n",
        "    }\n",
        "\n",
        "    macroAvg_results = {\n",
        "        'Classifier Name': [],\n",
        "        'Accuracy': [],\n",
        "        'Precision': [],\n",
        "        'Recall': [],\n",
        "        'F-score': []\n",
        "    }\n",
        "\n",
        "    for classifier_name, classifier in classifiers.items():\n",
        "        classifier.fit(X_train, y_train)\n",
        "        y_pred = classifier.predict(X_test)\n",
        "\n",
        "        #micro average results\n",
        "        accuracy = accuracy_score(y_test, y_pred)\n",
        "        precision = precision_score(y_test, y_pred, average = 'micro')\n",
        "        recall = recall_score(y_test, y_pred, average='micro')\n",
        "        fscore = f1_score(y_test, y_pred, average='micro')\n",
        "\n",
        "        microAvg_results['Classifier Name'].append(classifier_name)\n",
        "        microAvg_results['Accuracy'].append(accuracy)\n",
        "        microAvg_results['Precision'].append(precision)\n",
        "        microAvg_results['Recall'].append(recall)\n",
        "        microAvg_results['F-score'].append(fscore)\n",
        "\n",
        "        #macro average results\n",
        "        accuracy = accuracy_score(y_test, y_pred)\n",
        "        precision = precision_score(y_test, y_pred, average = 'macro')\n",
        "        recall = recall_score(y_test, y_pred, average='macro')\n",
        "        fscore = f1_score(y_test, y_pred, average='macro')\n",
        "\n",
        "        macroAvg_results['Classifier Name'].append(classifier_name)\n",
        "        macroAvg_results['Accuracy'].append(accuracy)\n",
        "        macroAvg_results['Precision'].append(precision)\n",
        "        macroAvg_results['Recall'].append(recall)\n",
        "        macroAvg_results['F-score'].append(fscore)\n",
        "\n",
        "    microAvg_df = pd.DataFrame(microAvg_results)\n",
        "    macroAvg_df = pd.DataFrame(macroAvg_results)\n",
        "\n",
        "    return microAvg_df, macroAvg_df"
      ],
      "metadata": {
        "id": "fasQfAtIW2w8"
      },
      "execution_count": null,
      "outputs": []
    },
    {
      "cell_type": "code",
      "source": [
        "X = X_bow_rawcounts\n",
        "y = data['sentiment'].astype(int)\n",
        "\n",
        "X_train, X_test, y_train, y_test = train_test_split(X, y, test_size=0.2, random_state=42)\n",
        "\n",
        "microAvg_df, macroAvg_df = models_training(X_train, X_test, y_train, y_test)\n",
        "\n",
        "print(microAvg_df) #micro average measures report of models trained using Bag of words based on raw counts"
      ],
      "metadata": {
        "colab": {
          "base_uri": "https://localhost:8080/"
        },
        "id": "6R7XegFHvEow",
        "outputId": "09f0998e-cd86-4e70-9bcd-380db54b0fdd"
      },
      "execution_count": null,
      "outputs": [
        {
          "output_type": "stream",
          "name": "stderr",
          "text": [
            "/usr/local/lib/python3.10/dist-packages/sklearn/metrics/_classification.py:1344: UndefinedMetricWarning: Precision is ill-defined and being set to 0.0 in labels with no predicted samples. Use `zero_division` parameter to control this behavior.\n",
            "  _warn_prf(average, modifier, msg_start, len(result))\n"
          ]
        },
        {
          "output_type": "stream",
          "name": "stdout",
          "text": [
            "       Classifier Name  Accuracy  Precision    Recall   F-score\n",
            "0          Naive Bayes  0.700514   0.700514  0.700514  0.700514\n",
            "1  Logistic Regression  0.751928   0.751928  0.751928  0.751928\n",
            "2        Random Forest  0.727506   0.727506  0.727506  0.727506\n",
            "3                  SVM  0.733933   0.733933  0.733933  0.733933\n",
            "4           Perceptron  0.640103   0.640103  0.640103  0.640103\n"
          ]
        },
        {
          "output_type": "stream",
          "name": "stderr",
          "text": [
            "/usr/local/lib/python3.10/dist-packages/sklearn/metrics/_classification.py:1344: UndefinedMetricWarning: Precision is ill-defined and being set to 0.0 in labels with no predicted samples. Use `zero_division` parameter to control this behavior.\n",
            "  _warn_prf(average, modifier, msg_start, len(result))\n"
          ]
        }
      ]
    },
    {
      "cell_type": "code",
      "source": [
        "print(macroAvg_df) #macro average measures report of models trained using Bag of words based on raw counts"
      ],
      "metadata": {
        "colab": {
          "base_uri": "https://localhost:8080/"
        },
        "id": "nOUV8HNL2H92",
        "outputId": "f996c284-5e83-43da-aa14-0dc3c5f8acbb"
      },
      "execution_count": null,
      "outputs": [
        {
          "output_type": "stream",
          "name": "stdout",
          "text": [
            "       Classifier Name  Accuracy  Precision    Recall   F-score\n",
            "0          Naive Bayes  0.700514   0.576769  0.469636  0.480771\n",
            "1  Logistic Regression  0.751928   0.546917  0.455672  0.473272\n",
            "2        Random Forest  0.727506   0.511642  0.434777  0.451225\n",
            "3                  SVM  0.733933   0.582471  0.414310  0.424145\n",
            "4           Perceptron  0.640103   0.574851  0.509333  0.512969\n"
          ]
        }
      ]
    },
    {
      "cell_type": "code",
      "source": [
        "X = X_bow_tfidf\n",
        "y = data['sentiment'].astype(int)\n",
        "\n",
        "X_train, X_test, y_train, y_test = train_test_split(X, y, test_size=0.2, random_state=42)\n",
        "\n",
        "microAvg_df, macroAvg_df = models_training(X_train, X_test, y_train, y_test)\n",
        "\n",
        "print(microAvg_df) #micro average measures report of models trained using Bag of words based on TfIDF"
      ],
      "metadata": {
        "colab": {
          "base_uri": "https://localhost:8080/"
        },
        "id": "UO_zUM8m3dTB",
        "outputId": "4b732060-6d62-44aa-980d-6980e52afe84"
      },
      "execution_count": null,
      "outputs": [
        {
          "output_type": "stream",
          "name": "stderr",
          "text": [
            "/usr/local/lib/python3.10/dist-packages/sklearn/metrics/_classification.py:1344: UndefinedMetricWarning: Precision is ill-defined and being set to 0.0 in labels with no predicted samples. Use `zero_division` parameter to control this behavior.\n",
            "  _warn_prf(average, modifier, msg_start, len(result))\n",
            "/usr/local/lib/python3.10/dist-packages/sklearn/metrics/_classification.py:1344: UndefinedMetricWarning: Precision is ill-defined and being set to 0.0 in labels with no predicted samples. Use `zero_division` parameter to control this behavior.\n",
            "  _warn_prf(average, modifier, msg_start, len(result))\n",
            "/usr/local/lib/python3.10/dist-packages/sklearn/metrics/_classification.py:1344: UndefinedMetricWarning: Precision is ill-defined and being set to 0.0 in labels with no predicted samples. Use `zero_division` parameter to control this behavior.\n",
            "  _warn_prf(average, modifier, msg_start, len(result))\n"
          ]
        },
        {
          "output_type": "stream",
          "name": "stdout",
          "text": [
            "       Classifier Name  Accuracy  Precision    Recall   F-score\n",
            "0          Naive Bayes  0.735219   0.735219  0.735219  0.735219\n",
            "1  Logistic Regression  0.735219   0.735219  0.735219  0.735219\n",
            "2        Random Forest  0.733933   0.733933  0.733933  0.733933\n",
            "3                  SVM  0.739075   0.739075  0.739075  0.739075\n",
            "4           Perceptron  0.667095   0.667095  0.667095  0.667095\n"
          ]
        },
        {
          "output_type": "stream",
          "name": "stderr",
          "text": [
            "/usr/local/lib/python3.10/dist-packages/sklearn/metrics/_classification.py:1344: UndefinedMetricWarning: Precision is ill-defined and being set to 0.0 in labels with no predicted samples. Use `zero_division` parameter to control this behavior.\n",
            "  _warn_prf(average, modifier, msg_start, len(result))\n"
          ]
        }
      ]
    },
    {
      "cell_type": "code",
      "source": [
        "print(macroAvg_df) #macro average measures report of models trained using Bag of words based on TfIDF"
      ],
      "metadata": {
        "colab": {
          "base_uri": "https://localhost:8080/"
        },
        "id": "PSo7ZLv63424",
        "outputId": "7d456368-1f30-4c64-adc8-8756c4c14ae1"
      },
      "execution_count": null,
      "outputs": [
        {
          "output_type": "stream",
          "name": "stdout",
          "text": [
            "       Classifier Name  Accuracy  Precision    Recall   F-score\n",
            "0          Naive Bayes  0.735219   0.582916  0.411452  0.411578\n",
            "1  Logistic Regression  0.735219   0.570970  0.423115  0.435726\n",
            "2        Random Forest  0.733933   0.584765  0.426698  0.445592\n",
            "3                  SVM  0.739075   0.594176  0.418761  0.431691\n",
            "4           Perceptron  0.667095   0.464197  0.463872  0.463602\n"
          ]
        }
      ]
    },
    {
      "cell_type": "code",
      "source": [
        "X = X_ngrams\n",
        "y = data['sentiment'].astype(int)\n",
        "\n",
        "X_train, X_test, y_train, y_test = train_test_split(X, y, test_size=0.2, random_state=42)\n",
        "\n",
        "microAvg_df, macroAvg_df = models_training(X_train, X_test, y_train, y_test)\n",
        "\n",
        "print(microAvg_df) #micro average measures report of models trained using ngrams (unigrams, bigrams, trigrams)"
      ],
      "metadata": {
        "colab": {
          "base_uri": "https://localhost:8080/"
        },
        "id": "NrwkY_rN4I_H",
        "outputId": "e55a151d-2a08-4589-a3c5-bf047969a1fa"
      },
      "execution_count": null,
      "outputs": [
        {
          "output_type": "stream",
          "name": "stderr",
          "text": [
            "/usr/local/lib/python3.10/dist-packages/sklearn/metrics/_classification.py:1344: UndefinedMetricWarning: Precision is ill-defined and being set to 0.0 in labels with no predicted samples. Use `zero_division` parameter to control this behavior.\n",
            "  _warn_prf(average, modifier, msg_start, len(result))\n",
            "/usr/local/lib/python3.10/dist-packages/sklearn/metrics/_classification.py:1344: UndefinedMetricWarning: Precision is ill-defined and being set to 0.0 in labels with no predicted samples. Use `zero_division` parameter to control this behavior.\n",
            "  _warn_prf(average, modifier, msg_start, len(result))\n",
            "/usr/local/lib/python3.10/dist-packages/sklearn/metrics/_classification.py:1344: UndefinedMetricWarning: Precision is ill-defined and being set to 0.0 in labels with no predicted samples. Use `zero_division` parameter to control this behavior.\n",
            "  _warn_prf(average, modifier, msg_start, len(result))\n"
          ]
        },
        {
          "output_type": "stream",
          "name": "stdout",
          "text": [
            "       Classifier Name  Accuracy  Precision    Recall   F-score\n",
            "0          Naive Bayes  0.655527   0.655527  0.655527  0.655527\n",
            "1  Logistic Regression  0.744216   0.744216  0.744216  0.744216\n",
            "2        Random Forest  0.717224   0.717224  0.717224  0.717224\n",
            "3                  SVM  0.713368   0.713368  0.713368  0.713368\n",
            "4           Perceptron  0.685090   0.685090  0.685090  0.685090\n"
          ]
        }
      ]
    },
    {
      "cell_type": "code",
      "source": [
        "print(macroAvg_df) #macro average measures report of models trained using ngrams (unigrams, bigrams, trigrams)"
      ],
      "metadata": {
        "colab": {
          "base_uri": "https://localhost:8080/"
        },
        "id": "RTTCZFkN41Fx",
        "outputId": "99f3add6-b951-4e98-d50f-3af2ba2d9180"
      },
      "execution_count": null,
      "outputs": [
        {
          "output_type": "stream",
          "name": "stdout",
          "text": [
            "       Classifier Name  Accuracy  Precision    Recall   F-score\n",
            "0          Naive Bayes  0.655527   0.563351  0.533323  0.520787\n",
            "1  Logistic Regression  0.744216   0.536218  0.441469  0.457035\n",
            "2        Random Forest  0.717224   0.514762  0.415476  0.431201\n",
            "3                  SVM  0.713368   0.596239  0.392388  0.399128\n",
            "4           Perceptron  0.685090   0.519557  0.485928  0.493341\n"
          ]
        }
      ]
    }
  ]
}