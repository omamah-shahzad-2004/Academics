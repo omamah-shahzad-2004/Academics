{
  "nbformat": 4,
  "nbformat_minor": 0,
  "metadata": {
    "colab": {
      "provenance": []
    },
    "kernelspec": {
      "name": "python3",
      "display_name": "Python 3"
    },
    "language_info": {
      "name": "python"
    }
  },
  "cells": [
    {
      "cell_type": "code",
      "execution_count": 1,
      "metadata": {
        "colab": {
          "base_uri": "https://localhost:8080/"
        },
        "id": "rgNRDNbEH7wS",
        "outputId": "34204688-1103-4356-e390-a8949ec8f352"
      },
      "outputs": [
        {
          "output_type": "stream",
          "name": "stdout",
          "text": [
            "Requirement already satisfied: nltk in /usr/local/lib/python3.10/dist-packages (3.8.1)\n",
            "Requirement already satisfied: click in /usr/local/lib/python3.10/dist-packages (from nltk) (8.1.7)\n",
            "Requirement already satisfied: joblib in /usr/local/lib/python3.10/dist-packages (from nltk) (1.3.2)\n",
            "Requirement already satisfied: regex>=2021.8.3 in /usr/local/lib/python3.10/dist-packages (from nltk) (2023.12.25)\n",
            "Requirement already satisfied: tqdm in /usr/local/lib/python3.10/dist-packages (from nltk) (4.66.1)\n"
          ]
        }
      ],
      "source": [
        "!pip install nltk"
      ]
    },
    {
      "cell_type": "code",
      "source": [
        "!pip install beautifulsoup4"
      ],
      "metadata": {
        "colab": {
          "base_uri": "https://localhost:8080/"
        },
        "id": "U3t6bN3gIMVR",
        "outputId": "0d59d2a7-fd7a-418a-e080-9a4f0e6bfb51"
      },
      "execution_count": 2,
      "outputs": [
        {
          "output_type": "stream",
          "name": "stdout",
          "text": [
            "Requirement already satisfied: beautifulsoup4 in /usr/local/lib/python3.10/dist-packages (4.12.3)\n",
            "Requirement already satisfied: soupsieve>1.2 in /usr/local/lib/python3.10/dist-packages (from beautifulsoup4) (2.5)\n"
          ]
        }
      ]
    },
    {
      "cell_type": "code",
      "source": [
        "import nltk, re, pprint\n",
        "nltk.download('punkt')"
      ],
      "metadata": {
        "id": "OZRYo-GWIprn",
        "colab": {
          "base_uri": "https://localhost:8080/"
        },
        "outputId": "bf61bce6-b82a-407b-b2a6-229027f6e6af"
      },
      "execution_count": 3,
      "outputs": [
        {
          "output_type": "stream",
          "name": "stderr",
          "text": [
            "[nltk_data] Downloading package punkt to /root/nltk_data...\n",
            "[nltk_data]   Package punkt is already up-to-date!\n"
          ]
        },
        {
          "output_type": "execute_result",
          "data": {
            "text/plain": [
              "True"
            ]
          },
          "metadata": {},
          "execution_count": 3
        }
      ]
    },
    {
      "cell_type": "markdown",
      "source": [
        "**Q01**"
      ],
      "metadata": {
        "id": "9VUjFSWW9JA2"
      }
    },
    {
      "cell_type": "markdown",
      "source": [
        "**[a-zA-Z]+** **=** Matches One or more occurrences of alphabets (either in Upper case or Lower case).\n",
        "\n",
        "**[A-Z][a-z]* =** Matches One Upper case letter followed by a Zero or more occurrences of Lower case letters.\n",
        "\n",
        "**p[aeiou]{,2}t** **=** Matches 'p' followed by upto 2 occurrences of vowels and then 't'.\n",
        "\n",
        "**\\d+(\\\\.\\d+)?** **=** Matches One or more occurrence of digits followed by optional decimal point and any number of digits.\n",
        "\n",
        "**([^aeiou][aeiou][^aeiou])* =** Matches Zero or more occurrence of consonant followed by vowel and then a consonant.\n",
        "\n",
        "**\\w+|[^\\w\\s]+** **=** Matches Either One or more occurrence of alphanumeric or underscore, Or One or more occurrence of characters that is not alphanumeric or underscore and not a whitespace."
      ],
      "metadata": {
        "id": "p5KPHPNw9OJd"
      }
    },
    {
      "cell_type": "code",
      "source": [
        "reg_expressions = [r'[a-zA-Z]+',r'[A-Z][a-z]*', r'p[aeiou]{,2}t', r'\\d+(\\.\\d+)?', r'([^aeiou][aeiou][^aeiou])*', r'\\w+|[^\\w\\s]+']\n",
        "string = '''Lorem ipsum dolor sit amet, consectetur adipiscing elit. Sed do eiusmod tempor incididunt ut labore et dolore magna aliqua. Ut enim ad\n",
        "minim veniam, quis nostrud exercitation ullamco laboris nisi ut aliquip ex ea commodo consequat. Duis aute irure dolor in reprehenderit in voluptate\n",
        "velit esse cillum dolore eu fugiat nulla pariatur. Excepteur sint occaecat cupidatat non proident, sunt in culpa qui officia deserunt mollit anim id\n",
        "est laborum. 1234 5678 90.12 3.14 42.0 007.007'''\n",
        "\n",
        "for regex in reg_expressions:\n",
        "    print('Regular Expression:', regex)\n",
        "    nltk.re_show(regex, string)\n",
        "    print('\\n')"
      ],
      "metadata": {
        "colab": {
          "base_uri": "https://localhost:8080/"
        },
        "id": "U0b2SfZNVoYA",
        "outputId": "abd7d479-28c7-49ec-b82d-c56c6af5b60b"
      },
      "execution_count": 4,
      "outputs": [
        {
          "output_type": "stream",
          "name": "stdout",
          "text": [
            "Regular Expression: [a-zA-Z]+\n",
            "{Lorem} {ipsum} {dolor} {sit} {amet}, {consectetur} {adipiscing} {elit}. {Sed} {do} {eiusmod} {tempor} {incididunt} {ut} {labore} {et} {dolore} {magna} {aliqua}. {Ut} {enim} {ad}\n",
            "{minim} {veniam}, {quis} {nostrud} {exercitation} {ullamco} {laboris} {nisi} {ut} {aliquip} {ex} {ea} {commodo} {consequat}. {Duis} {aute} {irure} {dolor} {in} {reprehenderit} {in} {voluptate}\n",
            "{velit} {esse} {cillum} {dolore} {eu} {fugiat} {nulla} {pariatur}. {Excepteur} {sint} {occaecat} {cupidatat} {non} {proident}, {sunt} {in} {culpa} {qui} {officia} {deserunt} {mollit} {anim} {id}\n",
            "{est} {laborum}. 1234 5678 90.12 3.14 42.0 007.007\n",
            "\n",
            "\n",
            "Regular Expression: [A-Z][a-z]*\n",
            "{Lorem} ipsum dolor sit amet, consectetur adipiscing elit. {Sed} do eiusmod tempor incididunt ut labore et dolore magna aliqua. {Ut} enim ad\n",
            "minim veniam, quis nostrud exercitation ullamco laboris nisi ut aliquip ex ea commodo consequat. {Duis} aute irure dolor in reprehenderit in voluptate\n",
            "velit esse cillum dolore eu fugiat nulla pariatur. {Excepteur} sint occaecat cupidatat non proident, sunt in culpa qui officia deserunt mollit anim id\n",
            "est laborum. 1234 5678 90.12 3.14 42.0 007.007\n",
            "\n",
            "\n",
            "Regular Expression: p[aeiou]{,2}t\n",
            "Lorem ipsum dolor sit amet, consectetur adipiscing elit. Sed do eiusmod tempor incididunt ut labore et dolore magna aliqua. Ut enim ad\n",
            "minim veniam, quis nostrud exercitation ullamco laboris nisi ut aliquip ex ea commodo consequat. Duis aute irure dolor in reprehenderit in volu{pt}ate\n",
            "velit esse cillum dolore eu fugiat nulla pariatur. Exce{pt}eur sint occaecat cupidatat non proident, sunt in culpa qui officia deserunt mollit anim id\n",
            "est laborum. 1234 5678 90.12 3.14 42.0 007.007\n",
            "\n",
            "\n",
            "Regular Expression: \\d+(\\.\\d+)?\n",
            "Lorem ipsum dolor sit amet, consectetur adipiscing elit. Sed do eiusmod tempor incididunt ut labore et dolore magna aliqua. Ut enim ad\n",
            "minim veniam, quis nostrud exercitation ullamco laboris nisi ut aliquip ex ea commodo consequat. Duis aute irure dolor in reprehenderit in voluptate\n",
            "velit esse cillum dolore eu fugiat nulla pariatur. Excepteur sint occaecat cupidatat non proident, sunt in culpa qui officia deserunt mollit anim id\n",
            "est laborum. {1234} {5678} {90.12} {3.14} {42.0} {007.007}\n",
            "\n",
            "\n",
            "Regular Expression: ([^aeiou][aeiou][^aeiou])*\n",
            "{Lor}{}e{}m{ ipsum}{} {dol}{}o{}r{} {sit am}{}e{}t{},{} {consectet}{}u{}r{ ad}{}i{piscin}{}g{ el}{}i{}t{}.{} {Sed}{} {do }{}e{}i{}u{}s{mod}{} {tempor incid}{}i{dun}{}t{ ut}{} {lab}{}o{re }{}e{}t{} {dol}{}o{re magna }{}a{liq}{}u{}a{}.{} {}U{}t{ en}{}i{}m{ ad}{}\n",
            "{min}{}i{}m{} {ven}{}i{}a{}m{},{} {}q{}u{}i{}s{} {nos}{}t{rud ex}{}e{}r{cit}{}a{}t{}i{}o{}n{ ullamco lab}{}o{ris}{} {nis}{}i{ ut al}{}i{}q{}u{}i{}p{ ex}{} {}e{}a{} {commod}{}o{} {conseq}{}u{}a{}t{}.{} {}D{}u{}i{}s{} {}a{}u{te }{}i{rur}{}e{} {dol}{}o{}r{ in}{} {repreh}{}e{}n{der}{}i{}t{ in}{} {vol}{}u{}p{tat}{}e{}\n",
            "{vel}{}i{}t{ esse cillum}{} {dol}{}o{re }{}e{}u{} {fug}{}i{}a{}t{} {nulla par}{}i{}a{tur}{}.{} {}E{}x{cep}{}t{}e{}u{}r{} {sin}{}t{ oc}{}c{}a{}e{cat}{} {cup}{}i{dat}{}a{}t{} {non}{} {}p{}r{}o{}i{den}{}t{},{} {sun}{}t{ in}{} {culpa }{}q{}u{}i{ offic}{}i{}a{} {des}{}e{run}{}t{} {mollit an}{}i{}m{ id\n",
            "es}{}t{} {lab}{}o{rum}{}.{} {}1{}2{}3{}4{} {}5{}6{}7{}8{} {}9{}0{}.{}1{}2{} {}3{}.{}1{}4{} {}4{}2{}.{}0{} {}0{}0{}7{}.{}0{}0{}7{}\n",
            "\n",
            "\n",
            "Regular Expression: \\w+|[^\\w\\s]+\n",
            "{Lorem} {ipsum} {dolor} {sit} {amet}{,} {consectetur} {adipiscing} {elit}{.} {Sed} {do} {eiusmod} {tempor} {incididunt} {ut} {labore} {et} {dolore} {magna} {aliqua}{.} {Ut} {enim} {ad}\n",
            "{minim} {veniam}{,} {quis} {nostrud} {exercitation} {ullamco} {laboris} {nisi} {ut} {aliquip} {ex} {ea} {commodo} {consequat}{.} {Duis} {aute} {irure} {dolor} {in} {reprehenderit} {in} {voluptate}\n",
            "{velit} {esse} {cillum} {dolore} {eu} {fugiat} {nulla} {pariatur}{.} {Excepteur} {sint} {occaecat} {cupidatat} {non} {proident}{,} {sunt} {in} {culpa} {qui} {officia} {deserunt} {mollit} {anim} {id}\n",
            "{est} {laborum}{.} {1234} {5678} {90}{.}{12} {3}{.}{14} {42}{.}{0} {007}{.}{007}\n",
            "\n",
            "\n"
          ]
        }
      ]
    },
    {
      "cell_type": "markdown",
      "source": [
        "**Q02**"
      ],
      "metadata": {
        "id": "rQKDrqmGaf5C"
      }
    },
    {
      "cell_type": "markdown",
      "source": [
        "**A single determiner (assume that a, an, and the are the only determiners)** **=** [aA] | [aA]n | [tT]he\n",
        "\n",
        "**An arithmetic expression using integers, addition, and multiplication, such as 2*3+8** **=** \\d+[*+]\\d+"
      ],
      "metadata": {
        "id": "Ev44KFIQbBK0"
      }
    },
    {
      "cell_type": "markdown",
      "source": [
        "**Q03**"
      ],
      "metadata": {
        "id": "NhT7ecqddE1E"
      }
    },
    {
      "cell_type": "code",
      "source": [
        "from urllib import request\n",
        "from bs4 import BeautifulSoup"
      ],
      "metadata": {
        "id": "_zCtCnA3kw0u"
      },
      "execution_count": 5,
      "outputs": []
    },
    {
      "cell_type": "code",
      "source": [
        "def HTML_markup_removal(url):\n",
        "    html = request.urlopen(url).read().decode('utf8')\n",
        "    text = BeautifulSoup(html, 'html.parser').get_text()\n",
        "    return text"
      ],
      "metadata": {
        "id": "a3SNV42t8rZk"
      },
      "execution_count": 6,
      "outputs": []
    },
    {
      "cell_type": "code",
      "source": [
        "url = 'https://www.dsu.edu.pk/contact-us/'\n",
        "text = HTML_markup_removal(url)\n",
        "print(text)"
      ],
      "metadata": {
        "colab": {
          "base_uri": "https://localhost:8080/"
        },
        "id": "PeId-7vH9KAP",
        "outputId": "87654051-979d-41bc-a177-1ba85e56f843"
      },
      "execution_count": 7,
      "outputs": [
        {
          "output_type": "stream",
          "name": "stdout",
          "text": [
            "\n",
            "\n",
            "\n",
            "\n",
            "\n",
            "\n",
            "\n",
            "Contact Us – DHA Suffa University\n",
            "\n",
            "\n",
            "\n",
            "\n",
            "\n",
            "\n",
            "\n",
            "\n",
            "\n",
            "\n",
            "\n",
            "\n",
            "\n",
            "\n",
            "\n",
            "\n",
            "\n",
            "\n",
            "\n",
            "\n",
            "\n",
            "\n",
            "\n",
            "\n",
            "\n",
            "\n",
            "\n",
            "\n",
            "\n",
            "\n",
            "\n",
            "\n",
            "\n",
            "\n",
            "\n",
            " \n",
            "\n",
            "\n",
            "\n",
            "\n",
            "\n",
            "\n",
            "\n",
            "\n",
            "\n",
            "TwitterLinkedInFacebookInstagramYoutubeRss   Online applications for Spring 2024 Semester for BE Electrical Engineering, BS Engineering Technology (computer), BS Computer Science (Superhighway campus), BS Cyber Security (Main campus), BBA, BS (Business Analytics and Programming), BS (Accounting & Finance), BS (International Relations), BS (English), BS (Psychology), MPhil (Psychology), MBA and Postgraduate programs are Open.  Last date to apply and pay the fee is 12th February 2024 and on-campus test will be held on 14th February 2024 (tentative) at MAIN CAMPUS DHA Phase 7ext. and Online test will be held on 15th February 2024 Tentative Note: Admit card will be issued to the registered candidates one day before test date on their provided email address  Apply now at: http://erp.dsu.edu.pk/web/signin  Merit Criteria: https://www.dsu.edu.pk/admission-merit-criteria/ Fee Structure: https://www.dsu.edu.pk/fees-structure/ Financial Assistance/Scholarships:  https://www.dsu.edu.pk/financial-assistance/ Sample Papers: https://www.dsu.edu.pk/wp-content/uploads/2023/01/SAMPLE-TEST-MERGE_compressed.pdf (Note: This sample paper is for an idea only not for preparation, you can prepare from SAT/NTS Sample papers). For details, please call 021 35244851-52 & 0324-2444595.  DHA Suffa University Main campus Location https://maps.app.goo.gl/B3gSTQvx3xa3v3Kw9  DHA Suffa University DCK Campus Location https://maps.app.goo.gl/TmhT3nRgx6Kfxcuy6  \n",
            "\n",
            "\n",
            "Admissions Spring 2024\n",
            "About\n",
            "\n",
            "Objectives\n",
            "Core Values\n",
            "Message from the Vice Chancellor\n",
            "Authorities of the University\n",
            "Recognition And Approvals by Regulatory Bodies\n",
            "Research And Academic Collaborations\n",
            "Chancellor’s Gallery\n",
            "Board of Governors\n",
            "Vision and Mission\n",
            "\n",
            "\n",
            "Academics\n",
            "\n",
            "Faculty of Management & Social Sciences\n",
            "\n",
            "Dean’s Profile\n",
            "Vision of MSS\n",
            "Mission of MSS\n",
            "Department of Management Sciences\n",
            "\n",
            "Mission\n",
            "Objectives\n",
            "BBA\n",
            "BS BAP\n",
            "BS AF\n",
            "MBA\n",
            "MS (MS)\n",
            "PhD\n",
            "\n",
            "\n",
            "Department of Humanities & Social Sciences\n",
            "\n",
            "Mission\n",
            "Objectives\n",
            "BS International Relations\n",
            "BS English\n",
            "Psychology\n",
            "MPhil (Psychology)\n",
            "\n",
            "\n",
            "\n",
            "\n",
            "Faculty of Engineering & Applied Sciences\n",
            "\n",
            "Message From Dean\n",
            "Mechanical Engineering\n",
            "Electrical Engineering\n",
            "BACHELORS OF ENGINEERING TECHNOLOGY (COMPUTER)\n",
            "Civil Engineering\n",
            "Computer Science\n",
            "\n",
            "Computer Science\n",
            "Data Science\n",
            "Software Engineering\n",
            "Artificial Intellegence\n",
            "Cyber Security\n",
            "\n",
            "\n",
            "\n",
            "\n",
            "Basic Sciences\n",
            "Academic Calendar\n",
            "VC  Honor List\n",
            "Dean Honor List\n",
            "\n",
            "\n",
            "Admissions\n",
            "\n",
            "Apply For Admission\n",
            "Admissions Regulations\n",
            "Financial Assistance\n",
            "Fee Structure\n",
            "Admission Merit Criteria\n",
            "Admission Process\n",
            "Sample Test Papers\n",
            "Prospectus\n",
            "Admission Query\n",
            "\n",
            "\n",
            "Faculty\n",
            "\n",
            "Faculty of Management & Social Sciences\n",
            "\n",
            "Humanities & Social Sciences\n",
            "International Relation\n",
            "Management Sciences\n",
            "Psychology\n",
            "English\n",
            "\n",
            "\n",
            "Faculty of Engineering & Applied Sciences\n",
            "\n",
            "Mechanical Engineering\n",
            "Electrical Engineering\n",
            "\n",
            "Civil Engineering\n",
            "\n",
            "\n",
            "Computer Science\n",
            "\n",
            "\n",
            "Basic Sciences\n",
            "\n",
            "\n",
            "Life at DSU\n",
            "\n",
            "News\n",
            "Events\n",
            "Facilities\n",
            "Library\n",
            "Student Societies\n",
            "\n",
            "\n",
            "ORIC\n",
            "Directorates\n",
            "\n",
            "IERC\n",
            "CSR\n",
            "CEID\n",
            "CS & CR\n",
            "\n",
            "\n",
            "QEC\n",
            "\n",
            "About QEC\n",
            "Assessments & Evaluations\n",
            "Accreditation of Programs\n",
            "Capacity Building\n",
            "Membership of DSU Statutory Bodies\n",
            "QEC Secretariat\n",
            "QEC News & Events\n",
            "\n",
            "\n",
            "PDC\n",
            "Alumni\n",
            "Tenders\n",
            "Research Journal\n",
            "\n",
            "SUJBM\n",
            "SJIP\n",
            "\n",
            "\n",
            "\n",
            "\n",
            "\n",
            "\n",
            "\n",
            "Menu\n",
            "\n",
            "\n",
            "Menu\n",
            "\n",
            " \n",
            "\n",
            "\n",
            "\n",
            "\n",
            "\n",
            "\n",
            "\n",
            " Senior Management\n",
            "Vice Chancellor’s Secretariat\n",
            "Engr. Prof. Dr. Muhammad Afzal Haque\r\n",
            "\n",
            " Email: vc@dsu.edu.pk\n",
            " Phone # 021-35244875\n",
            " Cell # 0345-2479903 (PA to VC)\n",
            "\n",
            "Pro-Vice Chancellor’s Office\n",
            "Brig Prof. Dr. Ahmed Saeed Minhas\r\n",
            "\n",
            " Email: ahmedsaeedminhas81@dsu.edu.pk, pvc@dsu.edu.pk\n",
            " Phone # 021-35244866 (PA to Pro VC)\n",
            "\n",
            "Registrar's Office\n",
            "Brig Prof. Dr. Muhammad Asif Iqbal SI(M) (Retd)\r\n",
            "\n",
            " Email: dr.asifiqqbal@dsu.edu.pk, registrar@dsu.edu.pk\n",
            " Phone # 021-35244855\n",
            " Cell # 0307-8594065 (PA to Registrar)\n",
            "\n",
            "Dean’s Secretariat (EAS)\n",
            "Engr. Prof. Dr. Ahmad Hussain\n",
            " Email: dean.eas@dsu.edu.pk\n",
            " Phone # 021-35244862\n",
            " Cell # 0323-2411025 (PA to Dean)\n",
            "\n",
            "Dean’s Secretariat (MSS)\n",
            "Prof. Dr Bashir Ahmad\n",
            " Email: dean.mss@dsu.edu.pk\n",
            " Phone # 021-35244874\n",
            " Cell # 0306-3048354 (PA to Dean)\n",
            " Departments’ Directory\n",
            "Admissions\n",
            "Mr. Muhammad Saad Asif, Assistant Registrar (Admissions)\n",
            " Email: saad.asif@dsu.edu.pk\n",
            " Phone # 021-35244851-2\n",
            " Cell # 0324-2444595 , 0345-2212938\n",
            "\n",
            "Postgraduate Programs\n",
            "Ms. Rabia Mumtaz, Manager Postgraduate Programs\n",
            " Email: rabia.mumtaz@dsu.edu.pk\n",
            " Phone # 021-35244851-2\n",
            " Cell # 0324-2444595\n",
            "\n",
            "Enrollment & Registration\n",
            "Ms. Arshia Haqqani, Assistant Registrar (Academics)\n",
            " Email: a.registrar.acad@dsu.edu.pk\n",
            " Phone # 021-35244858\n",
            " Cell # 0302-0241679\n",
            "\n",
            "Employment / HR \n",
            "Ms. Rubina Faiz, Assistant Registrar (HR)\n",
            " Email:hr@dsu.edu.pk\n",
            " Phone # 021-35244857\n",
            "\n",
            "Department of Mechanical Engineering\n",
            "Engr. Prof. Dr. Ahmad Hussain, HoD (Mechanical Engineering)\n",
            " Email:ahmad.hussain@dsu.edu.pk\n",
            " Phone # 021-35244870 (PA to HoD)\n",
            "\n",
            "Department of Electrical Engineering\n",
            "Engr. Prof. Dr. Ahamd Hussain, Dean & HoD (Electrical Engineering)\n",
            " Email: ahmad.hussain@dsu.edu.pk\n",
            " Phone # 021-35244859\n",
            " Cell # 0300-2595782 (PA to HoD)\n",
            "\n",
            "Department of Computer Science\n",
            "Mr. Noor Ali, HoD (Computer Science)\n",
            " Email: noor.ali@dsu.edu.pk \n",
            " Phone # 021-35244864\n",
            "\n",
            "Department of Civil Engineering\n",
            "Engr. Dr. Syed Fazal Abbas Baqueri,HoD (Civil Engineering)\n",
            "  Email: fazal.abbas@dsu.edu.pk\n",
            " Cell # 0334-2931646\n",
            "\n",
            "Department of Management Sciences\n",
            "Dr. Sobia Iqbal, Assistant Professor & HOD (Management Sciences)\n",
            "  Email: sobia.iqbal@dsu.edu.pk\n",
            " Phone # 021-35244853-4 Ext 137\n",
            "\n",
            "Department of Humanities and Social Sciences\n",
            "Dr. Razi Sultan Siddiqui, Assistant Professor & HOD (Humanities & Social Sciences) \n",
            "  Email: razi@dsu.edu.pk\n",
            " Phone # 021-35244853-4 Ext 174\n",
            "\n",
            "Department of Humanities and Social Sciences\n",
            "Dr. Rubina Israr, Assistant Professor & Program Manager, BS (English) \n",
            "  Email: rubina.israr@dsu.edu.pk\n",
            " Phone # 021-35244853-4 Ext 130\n",
            "\n",
            "Department of Humanities and Social Sciences\n",
            "Ms. Sidra Ahmed, Lecturer & Program Manager, BS (IR) \n",
            "  Email: sidra.ahmed@dsu.edu.pk\n",
            " Phone # 021-35244853-4 Ext 153\n",
            "\n",
            "Queries related to DCK Campus\n",
            "Muhammad Zaman, Admin Supervisor\n",
            "  Email: m.zaman@dsu.edu.pk\n",
            " Phone # 0344-2412896\n",
            "\n",
            "Quality Enhancement Cell \n",
            "Engr. Prof. Dr. Johar Khurshid Farooqi, Director QEC\n",
            " Email: johar@dsu.edu.pk\t\r\n",
            " Phone # 021-35244851 (Ext. 114)\n",
            "\n",
            "Professional Development Center  \n",
            "Mr. Iqbal Hashmi, Director Professional Development Center (PDC) & Acting Director Corporate Social Responsibility (CSR)\n",
            " Email: pdc@dsu.edu.pk\n",
            " Phone # 021-35244853-4 (Ext. 206)\n",
            "\n",
            "Student Societies Coordination Committee (SSCC)\n",
            "Ms. Saima Sardar Khan (Director)\n",
            " Email: saima@dsu.edu.pk\n",
            " Phone #  021-35244853-4 (Ext 217)\n",
            "\n",
            "Alumni Relations \n",
            "Ms. Tehseen Azhar\n",
            " Email: tehseen.azhar@dsu.edu.pk\n",
            " Phone # 021-35244865\n",
            "\n",
            "Career Services & Corporate Relations Department \n",
            "Ms. Subeika Fatima Ali, Director CS&CR\n",
            " Email: subeika.rizvi@dsu.edu.pk\n",
            " Phone # 021-35244869\n",
            "\n",
            "International Education Resource Center (IERC)\n",
            "Engr. M. Asadullah Siddiqui,  Director IERC \n",
            " Email: asadullah@dsu.edu.pk\n",
            " Phone # 021-35244853-4 (Ext 222)\n",
            "\n",
            "Center for Entrepreneurship & Innovation Development (CEID)\n",
            "Ms. Eram Abbasi (Director)\n",
            " Email: info.ceid@dsu.edu.pk\n",
            " Phone # 0321-2162719\n",
            "\n",
            "Marketing \n",
            "Ms. Saima Sardar Khan , Manager Marketing\n",
            " Email: saima@dsu.edu.pk\n",
            " Phone # 021-35244871\n",
            "\n",
            "Administration & Security \n",
            "Lt. Col. (Retd). Ghulam Dastagir, Admin & Security Officer\n",
            "  Email: aso@dsu.edu.pk\n",
            " Phone # 021-35244860\n",
            " Cell # 0321-3680021\n",
            "Fax # 021-35244855\n",
            " Cell # 0340-4864835 (PA to ASO)\n",
            "\n",
            "Finance \n",
            "Mr. Javed Ali Khan, Manager Finance\n",
            " Email:j.khan@dsu.edu.pk\n",
            " Phone # 021-35244861\n",
            "Cell # 0346-3244745 (Mr. Elwyn Mathews, Incharge Fee Billing)\n",
            "\n",
            "Procurement \n",
            " Maj. (Retd). Ahmed Faseeh Hussain, Procurement Officer\n",
            "  Email: ahmed.faseeh@dsu.edu.pk\n",
            " Phone # 021-35244872\n",
            " Cell # 0304-2274288\n",
            "\n",
            "Sports \n",
            " Mr. Moin-ul-Atiq (Ex-International Cricketer) , Director Sports\n",
            "  Email: \r\n",
            "moin.atiq@dsu.edu.pk\n",
            " Phone # 021-35244853-4 (Ext 209)\n",
            " Cell # 0322-2539007\n",
            "\n",
            "Information Technology \n",
            " Dr. Huma Jamshed (Director (Act))\n",
            "  Email: \r\n",
            "director.it@dsu.edu.pk\n",
            " Phone # 021-35244853-4 (Ext 142)\n",
            "\n",
            "IT (LMS/Faculty Queries) \n",
            "Mr. Hassan Raza, (Application Support)\n",
            " Email: hasan.raza@dsu.edu.pk\n",
            " Phone # 021-35244853-4 (Ext 144)\n",
            "\n",
            "IT (Administration) \n",
            "Mr. Noman Hai, Assistant Manager IT (Systems)\n",
            " Email: a.mit.sys@dsu.edu.pk\n",
            " Phone # 021-35244873\n",
            "\n",
            "Maintenance \n",
            "Engr. Riaz Ahmed       Maintenance Officer\n",
            " Email: engr.riaz@dsu.edu.pk\n",
            " Phone # 021-35858604\n",
            " MAIN CAMPUS MAP DHA CITY KARACHI (DCK) CAMPUS MAP\n",
            "   \n",
            "\n",
            "ABOUT US\n",
            " About DSU\n",
            " \r\n",
            "Vision and Mission\n",
            " \t\r\n",
            "Objectives\n",
            " Core Values\n",
            " Equal Opportunity Policy\n",
            " \r\n",
            "Privacy Policy\n",
            "\n",
            "\n",
            "\n",
            "\n",
            " \r\n",
            "COVID \r\n",
            "UPDATES\n",
            "ACADEMICS\n",
            " \n",
            "Mechanical Engineering\n",
            "  Electrical Engineering\n",
            " \n",
            "Civil Engineering\n",
            " \t\n",
            "  Computer Science\n",
            " \t\n",
            "  Software Engineering\n",
            " \t\n",
            "  Data Science\n",
            "   Management Sciences\n",
            "   Business Analytics & Programming \n",
            "   Accounting & Finance \n",
            " English\n",
            " International Relations\n",
            " Psychology\n",
            " \n",
            "    Academic Calendar \n",
            "\n",
            "Facilities & Services\n",
            "  Library\n",
            " Mechanical Labs\n",
            " Electrical Labs\n",
            " Computer Science Labs\n",
            " IT Infrastructure\n",
            " Facilities at DSU\n",
            " Career Services & Corporate Relations\n",
            "\n",
            "LIFE AT DSU\n",
            "    News\n",
            "  Events\n",
            "  Professional Societies\n",
            "  Student Societies\n",
            "  Student Handbook\n",
            "\n",
            "CONNECT DSU\n",
            " Apply\n",
            " DCK Hostel & Facilities\n",
            " Resources\n",
            "  Careers\n",
            " Downloads \n",
            " DACCE\n",
            "  Tenders \n",
            "  Alumni \n",
            "  Video Gallery \n",
            "  FAQ's \n",
            "  Contact Us \n",
            "  Policies \n",
            "  Newsletter \n",
            "\n",
            "\n",
            "\n",
            "\n",
            "\n",
            "\n",
            "\n",
            "© Copyright  - DHA Suffa University - Enfold Theme by Kriesi\n",
            "\n",
            "\n",
            "\n",
            "\n",
            "\n",
            "\n",
            "Scroll to top\n",
            "\n",
            "\n",
            "\n",
            "\n",
            "\n",
            "\n",
            "\n",
            "\n",
            "\n",
            "\n",
            "\n",
            "\n",
            "\n",
            "\n",
            "\n",
            "\n",
            "\n",
            "\n",
            "\n",
            "\n",
            "\n",
            "\n"
          ]
        }
      ]
    },
    {
      "cell_type": "markdown",
      "source": [
        "**Q04**"
      ],
      "metadata": {
        "id": "LZNFBOnADyS-"
      }
    },
    {
      "cell_type": "code",
      "source": [
        "phone_numbers = re.findall(r'\\b\\d{3,4}-\\d+(?:-\\d+)?\\b', text)\n",
        "print('Phone Numbers:', phone_numbers)"
      ],
      "metadata": {
        "colab": {
          "base_uri": "https://localhost:8080/"
        },
        "id": "y9v9SDHkihC3",
        "outputId": "8c2b66b0-5e2d-467b-9bd0-15ccfe6993f0"
      },
      "execution_count": 8,
      "outputs": [
        {
          "output_type": "stream",
          "name": "stdout",
          "text": [
            "Phone Numbers: ['0324-2444595', '021-35244875', '0345-2479903', '021-35244866', '021-35244855', '0307-8594065', '021-35244862', '0323-2411025', '021-35244874', '0306-3048354', '021-35244851-2', '0324-2444595', '0345-2212938', '021-35244851-2', '0324-2444595', '021-35244858', '0302-0241679', '021-35244857', '021-35244870', '021-35244859', '0300-2595782', '021-35244864', '0334-2931646', '021-35244853-4', '021-35244853-4', '021-35244853-4', '021-35244853-4', '0344-2412896', '021-35244851', '021-35244853-4', '021-35244853-4', '021-35244865', '021-35244869', '021-35244853-4', '0321-2162719', '021-35244871', '021-35244860', '0321-3680021', '021-35244855', '0340-4864835', '021-35244861', '0346-3244745', '021-35244872', '0304-2274288', '021-35244853-4', '0322-2539007', '021-35244853-4', '021-35244853-4', '021-35244873', '021-35858604']\n"
          ]
        }
      ]
    },
    {
      "cell_type": "code",
      "source": [
        "email_addresses = re.findall(r'(?:[A-Za-z]+\\.)?(?:[A-Za-z]+\\.)?[A-Za-z]+(?:[0-9]+)?@dsu\\.edu\\.pk', text)\n",
        "print('Email Addresses:', email_addresses)"
      ],
      "metadata": {
        "colab": {
          "base_uri": "https://localhost:8080/"
        },
        "id": "HdUMDxQCsFKi",
        "outputId": "8bbc8cf3-b81a-48db-82d7-be3828857d05"
      },
      "execution_count": 9,
      "outputs": [
        {
          "output_type": "stream",
          "name": "stdout",
          "text": [
            "Email Addresses: ['vc@dsu.edu.pk', 'ahmedsaeedminhas81@dsu.edu.pk', 'pvc@dsu.edu.pk', 'dr.asifiqqbal@dsu.edu.pk', 'registrar@dsu.edu.pk', 'dean.eas@dsu.edu.pk', 'dean.mss@dsu.edu.pk', 'saad.asif@dsu.edu.pk', 'rabia.mumtaz@dsu.edu.pk', 'a.registrar.acad@dsu.edu.pk', 'hr@dsu.edu.pk', 'ahmad.hussain@dsu.edu.pk', 'ahmad.hussain@dsu.edu.pk', 'noor.ali@dsu.edu.pk', 'fazal.abbas@dsu.edu.pk', 'sobia.iqbal@dsu.edu.pk', 'razi@dsu.edu.pk', 'rubina.israr@dsu.edu.pk', 'sidra.ahmed@dsu.edu.pk', 'm.zaman@dsu.edu.pk', 'johar@dsu.edu.pk', 'pdc@dsu.edu.pk', 'saima@dsu.edu.pk', 'tehseen.azhar@dsu.edu.pk', 'subeika.rizvi@dsu.edu.pk', 'asadullah@dsu.edu.pk', 'info.ceid@dsu.edu.pk', 'saima@dsu.edu.pk', 'aso@dsu.edu.pk', 'j.khan@dsu.edu.pk', 'ahmed.faseeh@dsu.edu.pk', 'moin.atiq@dsu.edu.pk', 'director.it@dsu.edu.pk', 'hasan.raza@dsu.edu.pk', 'a.mit.sys@dsu.edu.pk', 'engr.riaz@dsu.edu.pk']\n"
          ]
        }
      ]
    },
    {
      "cell_type": "code",
      "source": [
        "tokenized_text = nltk.tokenize.word_tokenize(text)\n",
        "print(tokenized_text)"
      ],
      "metadata": {
        "id": "etti5D6hOYkt",
        "colab": {
          "base_uri": "https://localhost:8080/"
        },
        "outputId": "5c19adf6-3b89-426f-babb-21e2f36f10fd"
      },
      "execution_count": 10,
      "outputs": [
        {
          "output_type": "stream",
          "name": "stdout",
          "text": [
            "['Contact', 'Us', '–', 'DHA', 'Suffa', 'University', 'TwitterLinkedInFacebookInstagramYoutubeRss', 'Online', 'applications', 'for', 'Spring', '2024', 'Semester', 'for', 'BE', 'Electrical', 'Engineering', ',', 'BS', 'Engineering', 'Technology', '(', 'computer', ')', ',', 'BS', 'Computer', 'Science', '(', 'Superhighway', 'campus', ')', ',', 'BS', 'Cyber', 'Security', '(', 'Main', 'campus', ')', ',', 'BBA', ',', 'BS', '(', 'Business', 'Analytics', 'and', 'Programming', ')', ',', 'BS', '(', 'Accounting', '&', 'Finance', ')', ',', 'BS', '(', 'International', 'Relations', ')', ',', 'BS', '(', 'English', ')', ',', 'BS', '(', 'Psychology', ')', ',', 'MPhil', '(', 'Psychology', ')', ',', 'MBA', 'and', 'Postgraduate', 'programs', 'are', 'Open', '.', 'Last', 'date', 'to', 'apply', 'and', 'pay', 'the', 'fee', 'is', '12th', 'February', '2024', 'and', 'on-campus', 'test', 'will', 'be', 'held', 'on', '14th', 'February', '2024', '(', 'tentative', ')', 'at', 'MAIN', 'CAMPUS', 'DHA', 'Phase', '7ext', '.', 'and', 'Online', 'test', 'will', 'be', 'held', 'on', '15th', 'February', '2024', 'Tentative', 'Note', ':', 'Admit', 'card', 'will', 'be', 'issued', 'to', 'the', 'registered', 'candidates', 'one', 'day', 'before', 'test', 'date', 'on', 'their', 'provided', 'email', 'address', 'Apply', 'now', 'at', ':', 'http', ':', '//erp.dsu.edu.pk/web/signin', 'Merit', 'Criteria', ':', 'https', ':', '//www.dsu.edu.pk/admission-merit-criteria/', 'Fee', 'Structure', ':', 'https', ':', '//www.dsu.edu.pk/fees-structure/', 'Financial', 'Assistance/Scholarships', ':', 'https', ':', '//www.dsu.edu.pk/financial-assistance/', 'Sample', 'Papers', ':', 'https', ':', '//www.dsu.edu.pk/wp-content/uploads/2023/01/SAMPLE-TEST-MERGE_compressed.pdf', '(', 'Note', ':', 'This', 'sample', 'paper', 'is', 'for', 'an', 'idea', 'only', 'not', 'for', 'preparation', ',', 'you', 'can', 'prepare', 'from', 'SAT/NTS', 'Sample', 'papers', ')', '.', 'For', 'details', ',', 'please', 'call', '021', '35244851-52', '&', '0324-2444595', '.', 'DHA', 'Suffa', 'University', 'Main', 'campus', 'Location', 'https', ':', '//maps.app.goo.gl/B3gSTQvx3xa3v3Kw9', 'DHA', 'Suffa', 'University', 'DCK', 'Campus', 'Location', 'https', ':', '//maps.app.goo.gl/TmhT3nRgx6Kfxcuy6', 'Admissions', 'Spring', '2024', 'About', 'Objectives', 'Core', 'Values', 'Message', 'from', 'the', 'Vice', 'Chancellor', 'Authorities', 'of', 'the', 'University', 'Recognition', 'And', 'Approvals', 'by', 'Regulatory', 'Bodies', 'Research', 'And', 'Academic', 'Collaborations', 'Chancellor', '’', 's', 'Gallery', 'Board', 'of', 'Governors', 'Vision', 'and', 'Mission', 'Academics', 'Faculty', 'of', 'Management', '&', 'Social', 'Sciences', 'Dean', '’', 's', 'Profile', 'Vision', 'of', 'MSS', 'Mission', 'of', 'MSS', 'Department', 'of', 'Management', 'Sciences', 'Mission', 'Objectives', 'BBA', 'BS', 'BAP', 'BS', 'AF', 'MBA', 'MS', '(', 'MS', ')', 'PhD', 'Department', 'of', 'Humanities', '&', 'Social', 'Sciences', 'Mission', 'Objectives', 'BS', 'International', 'Relations', 'BS', 'English', 'Psychology', 'MPhil', '(', 'Psychology', ')', 'Faculty', 'of', 'Engineering', '&', 'Applied', 'Sciences', 'Message', 'From', 'Dean', 'Mechanical', 'Engineering', 'Electrical', 'Engineering', 'BACHELORS', 'OF', 'ENGINEERING', 'TECHNOLOGY', '(', 'COMPUTER', ')', 'Civil', 'Engineering', 'Computer', 'Science', 'Computer', 'Science', 'Data', 'Science', 'Software', 'Engineering', 'Artificial', 'Intellegence', 'Cyber', 'Security', 'Basic', 'Sciences', 'Academic', 'Calendar', 'VC', 'Honor', 'List', 'Dean', 'Honor', 'List', 'Admissions', 'Apply', 'For', 'Admission', 'Admissions', 'Regulations', 'Financial', 'Assistance', 'Fee', 'Structure', 'Admission', 'Merit', 'Criteria', 'Admission', 'Process', 'Sample', 'Test', 'Papers', 'Prospectus', 'Admission', 'Query', 'Faculty', 'Faculty', 'of', 'Management', '&', 'Social', 'Sciences', 'Humanities', '&', 'Social', 'Sciences', 'International', 'Relation', 'Management', 'Sciences', 'Psychology', 'English', 'Faculty', 'of', 'Engineering', '&', 'Applied', 'Sciences', 'Mechanical', 'Engineering', 'Electrical', 'Engineering', 'Civil', 'Engineering', 'Computer', 'Science', 'Basic', 'Sciences', 'Life', 'at', 'DSU', 'News', 'Events', 'Facilities', 'Library', 'Student', 'Societies', 'ORIC', 'Directorates', 'IERC', 'CSR', 'CEID', 'CS', '&', 'CR', 'QEC', 'About', 'QEC', 'Assessments', '&', 'Evaluations', 'Accreditation', 'of', 'Programs', 'Capacity', 'Building', 'Membership', 'of', 'DSU', 'Statutory', 'Bodies', 'QEC', 'Secretariat', 'QEC', 'News', '&', 'Events', 'PDC', 'Alumni', 'Tenders', 'Research', 'Journal', 'SUJBM', 'SJIP', 'Menu', 'Menu', 'Senior', 'Management', 'Vice', 'Chancellor', '’', 's', 'Secretariat', 'Engr', '.', 'Prof.', 'Dr.', 'Muhammad', 'Afzal', 'Haque', 'Email', ':', 'vc', '@', 'dsu.edu.pk', 'Phone', '#', '021-35244875', 'Cell', '#', '0345-2479903', '(', 'PA', 'to', 'VC', ')', 'Pro-Vice', 'Chancellor', '’', 's', 'Office', 'Brig', 'Prof.', 'Dr.', 'Ahmed', 'Saeed', 'Minhas', 'Email', ':', 'ahmedsaeedminhas81', '@', 'dsu.edu.pk', ',', 'pvc', '@', 'dsu.edu.pk', 'Phone', '#', '021-35244866', '(', 'PA', 'to', 'Pro', 'VC', ')', 'Registrar', \"'s\", 'Office', 'Brig', 'Prof.', 'Dr.', 'Muhammad', 'Asif', 'Iqbal', 'SI', '(', 'M', ')', '(', 'Retd', ')', 'Email', ':', 'dr.asifiqqbal', '@', 'dsu.edu.pk', ',', 'registrar', '@', 'dsu.edu.pk', 'Phone', '#', '021-35244855', 'Cell', '#', '0307-8594065', '(', 'PA', 'to', 'Registrar', ')', 'Dean', '’', 's', 'Secretariat', '(', 'EAS', ')', 'Engr', '.', 'Prof.', 'Dr.', 'Ahmad', 'Hussain', 'Email', ':', 'dean.eas', '@', 'dsu.edu.pk', 'Phone', '#', '021-35244862', 'Cell', '#', '0323-2411025', '(', 'PA', 'to', 'Dean', ')', 'Dean', '’', 's', 'Secretariat', '(', 'MSS', ')', 'Prof.', 'Dr', 'Bashir', 'Ahmad', 'Email', ':', 'dean.mss', '@', 'dsu.edu.pk', 'Phone', '#', '021-35244874', 'Cell', '#', '0306-3048354', '(', 'PA', 'to', 'Dean', ')', 'Departments', '’', 'Directory', 'Admissions', 'Mr.', 'Muhammad', 'Saad', 'Asif', ',', 'Assistant', 'Registrar', '(', 'Admissions', ')', 'Email', ':', 'saad.asif', '@', 'dsu.edu.pk', 'Phone', '#', '021-35244851-2', 'Cell', '#', '0324-2444595', ',', '0345-2212938', 'Postgraduate', 'Programs', 'Ms.', 'Rabia', 'Mumtaz', ',', 'Manager', 'Postgraduate', 'Programs', 'Email', ':', 'rabia.mumtaz', '@', 'dsu.edu.pk', 'Phone', '#', '021-35244851-2', 'Cell', '#', '0324-2444595', 'Enrollment', '&', 'Registration', 'Ms.', 'Arshia', 'Haqqani', ',', 'Assistant', 'Registrar', '(', 'Academics', ')', 'Email', ':', 'a.registrar.acad', '@', 'dsu.edu.pk', 'Phone', '#', '021-35244858', 'Cell', '#', '0302-0241679', 'Employment', '/', 'HR', 'Ms.', 'Rubina', 'Faiz', ',', 'Assistant', 'Registrar', '(', 'HR', ')', 'Email', ':', 'hr', '@', 'dsu.edu.pk', 'Phone', '#', '021-35244857', 'Department', 'of', 'Mechanical', 'Engineering', 'Engr', '.', 'Prof.', 'Dr.', 'Ahmad', 'Hussain', ',', 'HoD', '(', 'Mechanical', 'Engineering', ')', 'Email', ':', 'ahmad.hussain', '@', 'dsu.edu.pk', 'Phone', '#', '021-35244870', '(', 'PA', 'to', 'HoD', ')', 'Department', 'of', 'Electrical', 'Engineering', 'Engr', '.', 'Prof.', 'Dr.', 'Ahamd', 'Hussain', ',', 'Dean', '&', 'HoD', '(', 'Electrical', 'Engineering', ')', 'Email', ':', 'ahmad.hussain', '@', 'dsu.edu.pk', 'Phone', '#', '021-35244859', 'Cell', '#', '0300-2595782', '(', 'PA', 'to', 'HoD', ')', 'Department', 'of', 'Computer', 'Science', 'Mr.', 'Noor', 'Ali', ',', 'HoD', '(', 'Computer', 'Science', ')', 'Email', ':', 'noor.ali', '@', 'dsu.edu.pk', 'Phone', '#', '021-35244864', 'Department', 'of', 'Civil', 'Engineering', 'Engr', '.', 'Dr.', 'Syed', 'Fazal', 'Abbas', 'Baqueri', ',', 'HoD', '(', 'Civil', 'Engineering', ')', 'Email', ':', 'fazal.abbas', '@', 'dsu.edu.pk', 'Cell', '#', '0334-2931646', 'Department', 'of', 'Management', 'Sciences', 'Dr.', 'Sobia', 'Iqbal', ',', 'Assistant', 'Professor', '&', 'HOD', '(', 'Management', 'Sciences', ')', 'Email', ':', 'sobia.iqbal', '@', 'dsu.edu.pk', 'Phone', '#', '021-35244853-4', 'Ext', '137', 'Department', 'of', 'Humanities', 'and', 'Social', 'Sciences', 'Dr.', 'Razi', 'Sultan', 'Siddiqui', ',', 'Assistant', 'Professor', '&', 'HOD', '(', 'Humanities', '&', 'Social', 'Sciences', ')', 'Email', ':', 'razi', '@', 'dsu.edu.pk', 'Phone', '#', '021-35244853-4', 'Ext', '174', 'Department', 'of', 'Humanities', 'and', 'Social', 'Sciences', 'Dr.', 'Rubina', 'Israr', ',', 'Assistant', 'Professor', '&', 'Program', 'Manager', ',', 'BS', '(', 'English', ')', 'Email', ':', 'rubina.israr', '@', 'dsu.edu.pk', 'Phone', '#', '021-35244853-4', 'Ext', '130', 'Department', 'of', 'Humanities', 'and', 'Social', 'Sciences', 'Ms.', 'Sidra', 'Ahmed', ',', 'Lecturer', '&', 'Program', 'Manager', ',', 'BS', '(', 'IR', ')', 'Email', ':', 'sidra.ahmed', '@', 'dsu.edu.pk', 'Phone', '#', '021-35244853-4', 'Ext', '153', 'Queries', 'related', 'to', 'DCK', 'Campus', 'Muhammad', 'Zaman', ',', 'Admin', 'Supervisor', 'Email', ':', 'm.zaman', '@', 'dsu.edu.pk', 'Phone', '#', '0344-2412896', 'Quality', 'Enhancement', 'Cell', 'Engr', '.', 'Prof.', 'Dr.', 'Johar', 'Khurshid', 'Farooqi', ',', 'Director', 'QEC', 'Email', ':', 'johar', '@', 'dsu.edu.pk', 'Phone', '#', '021-35244851', '(', 'Ext', '.', '114', ')', 'Professional', 'Development', 'Center', 'Mr.', 'Iqbal', 'Hashmi', ',', 'Director', 'Professional', 'Development', 'Center', '(', 'PDC', ')', '&', 'Acting', 'Director', 'Corporate', 'Social', 'Responsibility', '(', 'CSR', ')', 'Email', ':', 'pdc', '@', 'dsu.edu.pk', 'Phone', '#', '021-35244853-4', '(', 'Ext', '.', '206', ')', 'Student', 'Societies', 'Coordination', 'Committee', '(', 'SSCC', ')', 'Ms.', 'Saima', 'Sardar', 'Khan', '(', 'Director', ')', 'Email', ':', 'saima', '@', 'dsu.edu.pk', 'Phone', '#', '021-35244853-4', '(', 'Ext', '217', ')', 'Alumni', 'Relations', 'Ms.', 'Tehseen', 'Azhar', 'Email', ':', 'tehseen.azhar', '@', 'dsu.edu.pk', 'Phone', '#', '021-35244865', 'Career', 'Services', '&', 'Corporate', 'Relations', 'Department', 'Ms.', 'Subeika', 'Fatima', 'Ali', ',', 'Director', 'CS', '&', 'CR', 'Email', ':', 'subeika.rizvi', '@', 'dsu.edu.pk', 'Phone', '#', '021-35244869', 'International', 'Education', 'Resource', 'Center', '(', 'IERC', ')', 'Engr', '.', 'M.', 'Asadullah', 'Siddiqui', ',', 'Director', 'IERC', 'Email', ':', 'asadullah', '@', 'dsu.edu.pk', 'Phone', '#', '021-35244853-4', '(', 'Ext', '222', ')', 'Center', 'for', 'Entrepreneurship', '&', 'Innovation', 'Development', '(', 'CEID', ')', 'Ms.', 'Eram', 'Abbasi', '(', 'Director', ')', 'Email', ':', 'info.ceid', '@', 'dsu.edu.pk', 'Phone', '#', '0321-2162719', 'Marketing', 'Ms.', 'Saima', 'Sardar', 'Khan', ',', 'Manager', 'Marketing', 'Email', ':', 'saima', '@', 'dsu.edu.pk', 'Phone', '#', '021-35244871', 'Administration', '&', 'Security', 'Lt.', 'Col.', '(', 'Retd', ')', '.', 'Ghulam', 'Dastagir', ',', 'Admin', '&', 'Security', 'Officer', 'Email', ':', 'aso', '@', 'dsu.edu.pk', 'Phone', '#', '021-35244860', 'Cell', '#', '0321-3680021', 'Fax', '#', '021-35244855', 'Cell', '#', '0340-4864835', '(', 'PA', 'to', 'ASO', ')', 'Finance', 'Mr.', 'Javed', 'Ali', 'Khan', ',', 'Manager', 'Finance', 'Email', ':', 'j.khan', '@', 'dsu.edu.pk', 'Phone', '#', '021-35244861', 'Cell', '#', '0346-3244745', '(', 'Mr.', 'Elwyn', 'Mathews', ',', 'Incharge', 'Fee', 'Billing', ')', 'Procurement', 'Maj.', '(', 'Retd', ')', '.', 'Ahmed', 'Faseeh', 'Hussain', ',', 'Procurement', 'Officer', 'Email', ':', 'ahmed.faseeh', '@', 'dsu.edu.pk', 'Phone', '#', '021-35244872', 'Cell', '#', '0304-2274288', 'Sports', 'Mr.', 'Moin-ul-Atiq', '(', 'Ex-International', 'Cricketer', ')', ',', 'Director', 'Sports', 'Email', ':', 'moin.atiq', '@', 'dsu.edu.pk', 'Phone', '#', '021-35244853-4', '(', 'Ext', '209', ')', 'Cell', '#', '0322-2539007', 'Information', 'Technology', 'Dr.', 'Huma', 'Jamshed', '(', 'Director', '(', 'Act', ')', ')', 'Email', ':', 'director.it', '@', 'dsu.edu.pk', 'Phone', '#', '021-35244853-4', '(', 'Ext', '142', ')', 'IT', '(', 'LMS/Faculty', 'Queries', ')', 'Mr.', 'Hassan', 'Raza', ',', '(', 'Application', 'Support', ')', 'Email', ':', 'hasan.raza', '@', 'dsu.edu.pk', 'Phone', '#', '021-35244853-4', '(', 'Ext', '144', ')', 'IT', '(', 'Administration', ')', 'Mr.', 'Noman', 'Hai', ',', 'Assistant', 'Manager', 'IT', '(', 'Systems', ')', 'Email', ':', 'a.mit.sys', '@', 'dsu.edu.pk', 'Phone', '#', '021-35244873', 'Maintenance', 'Engr', '.', 'Riaz', 'Ahmed', 'Maintenance', 'Officer', 'Email', ':', 'engr.riaz', '@', 'dsu.edu.pk', 'Phone', '#', '021-35858604', 'MAIN', 'CAMPUS', 'MAP', 'DHA', 'CITY', 'KARACHI', '(', 'DCK', ')', 'CAMPUS', 'MAP', 'ABOUT', 'US', 'About', 'DSU', 'Vision', 'and', 'Mission', 'Objectives', 'Core', 'Values', 'Equal', 'Opportunity', 'Policy', 'Privacy', 'Policy', 'COVID', 'UPDATES', 'ACADEMICS', 'Mechanical', 'Engineering', 'Electrical', 'Engineering', 'Civil', 'Engineering', 'Computer', 'Science', 'Software', 'Engineering', 'Data', 'Science', 'Management', 'Sciences', 'Business', 'Analytics', '&', 'Programming', 'Accounting', '&', 'Finance', 'English', 'International', 'Relations', 'Psychology', 'Academic', 'Calendar', 'Facilities', '&', 'Services', 'Library', 'Mechanical', 'Labs', 'Electrical', 'Labs', 'Computer', 'Science', 'Labs', 'IT', 'Infrastructure', 'Facilities', 'at', 'DSU', 'Career', 'Services', '&', 'Corporate', 'Relations', 'LIFE', 'AT', 'DSU', 'News', 'Events', 'Professional', 'Societies', 'Student', 'Societies', 'Student', 'Handbook', 'CONNECT', 'DSU', 'Apply', 'DCK', 'Hostel', '&', 'Facilities', 'Resources', 'Careers', 'Downloads', 'DACCE', 'Tenders', 'Alumni', 'Video', 'Gallery', 'FAQ', \"'s\", 'Contact', 'Us', 'Policies', 'Newsletter', '©', 'Copyright', '-', 'DHA', 'Suffa', 'University', '-', 'Enfold', 'Theme', 'by', 'Kriesi', 'Scroll', 'to', 'top']\n"
          ]
        }
      ]
    },
    {
      "cell_type": "markdown",
      "source": [
        "**Q05**"
      ],
      "metadata": {
        "id": "YGNffBZXcvjR"
      }
    },
    {
      "cell_type": "code",
      "source": [
        "#Porter Stemming\n",
        "\n",
        "from nltk.stem import PorterStemmer\n",
        "ps = PorterStemmer()\n",
        "porter_stem = []\n",
        "\n",
        "for text in tokenized_text:\n",
        "    porter_stem.append(ps.stem(text))\n",
        "\n",
        "print(porter_stem)"
      ],
      "metadata": {
        "colab": {
          "base_uri": "https://localhost:8080/"
        },
        "id": "L7CSMEZDzfCm",
        "outputId": "1bda0db2-94fb-468c-b606-a92cff5e2d21"
      },
      "execution_count": 11,
      "outputs": [
        {
          "output_type": "stream",
          "name": "stdout",
          "text": [
            "['contact', 'us', '–', 'dha', 'suffa', 'univers', 'twitterlinkedinfacebookinstagramyoutuberss', 'onlin', 'applic', 'for', 'spring', '2024', 'semest', 'for', 'be', 'electr', 'engin', ',', 'bs', 'engin', 'technolog', '(', 'comput', ')', ',', 'bs', 'comput', 'scienc', '(', 'superhighway', 'campu', ')', ',', 'bs', 'cyber', 'secur', '(', 'main', 'campu', ')', ',', 'bba', ',', 'bs', '(', 'busi', 'analyt', 'and', 'program', ')', ',', 'bs', '(', 'account', '&', 'financ', ')', ',', 'bs', '(', 'intern', 'relat', ')', ',', 'bs', '(', 'english', ')', ',', 'bs', '(', 'psycholog', ')', ',', 'mphil', '(', 'psycholog', ')', ',', 'mba', 'and', 'postgradu', 'program', 'are', 'open', '.', 'last', 'date', 'to', 'appli', 'and', 'pay', 'the', 'fee', 'is', '12th', 'februari', '2024', 'and', 'on-campu', 'test', 'will', 'be', 'held', 'on', '14th', 'februari', '2024', '(', 'tent', ')', 'at', 'main', 'campu', 'dha', 'phase', '7ext', '.', 'and', 'onlin', 'test', 'will', 'be', 'held', 'on', '15th', 'februari', '2024', 'tent', 'note', ':', 'admit', 'card', 'will', 'be', 'issu', 'to', 'the', 'regist', 'candid', 'one', 'day', 'befor', 'test', 'date', 'on', 'their', 'provid', 'email', 'address', 'appli', 'now', 'at', ':', 'http', ':', '//erp.dsu.edu.pk/web/signin', 'merit', 'criteria', ':', 'http', ':', '//www.dsu.edu.pk/admission-merit-criteria/', 'fee', 'structur', ':', 'http', ':', '//www.dsu.edu.pk/fees-structure/', 'financi', 'assistance/scholarship', ':', 'http', ':', '//www.dsu.edu.pk/financial-assistance/', 'sampl', 'paper', ':', 'http', ':', '//www.dsu.edu.pk/wp-content/uploads/2023/01/sample-test-merge_compressed.pdf', '(', 'note', ':', 'thi', 'sampl', 'paper', 'is', 'for', 'an', 'idea', 'onli', 'not', 'for', 'prepar', ',', 'you', 'can', 'prepar', 'from', 'sat/nt', 'sampl', 'paper', ')', '.', 'for', 'detail', ',', 'pleas', 'call', '021', '35244851-52', '&', '0324-2444595', '.', 'dha', 'suffa', 'univers', 'main', 'campu', 'locat', 'http', ':', '//maps.app.goo.gl/b3gstqvx3xa3v3kw9', 'dha', 'suffa', 'univers', 'dck', 'campu', 'locat', 'http', ':', '//maps.app.goo.gl/tmht3nrgx6kfxcuy6', 'admiss', 'spring', '2024', 'about', 'object', 'core', 'valu', 'messag', 'from', 'the', 'vice', 'chancellor', 'author', 'of', 'the', 'univers', 'recognit', 'and', 'approv', 'by', 'regulatori', 'bodi', 'research', 'and', 'academ', 'collabor', 'chancellor', '’', 's', 'galleri', 'board', 'of', 'governor', 'vision', 'and', 'mission', 'academ', 'faculti', 'of', 'manag', '&', 'social', 'scienc', 'dean', '’', 's', 'profil', 'vision', 'of', 'mss', 'mission', 'of', 'mss', 'depart', 'of', 'manag', 'scienc', 'mission', 'object', 'bba', 'bs', 'bap', 'bs', 'af', 'mba', 'ms', '(', 'ms', ')', 'phd', 'depart', 'of', 'human', '&', 'social', 'scienc', 'mission', 'object', 'bs', 'intern', 'relat', 'bs', 'english', 'psycholog', 'mphil', '(', 'psycholog', ')', 'faculti', 'of', 'engin', '&', 'appli', 'scienc', 'messag', 'from', 'dean', 'mechan', 'engin', 'electr', 'engin', 'bachelor', 'of', 'engin', 'technolog', '(', 'comput', ')', 'civil', 'engin', 'comput', 'scienc', 'comput', 'scienc', 'data', 'scienc', 'softwar', 'engin', 'artifici', 'intelleg', 'cyber', 'secur', 'basic', 'scienc', 'academ', 'calendar', 'vc', 'honor', 'list', 'dean', 'honor', 'list', 'admiss', 'appli', 'for', 'admiss', 'admiss', 'regul', 'financi', 'assist', 'fee', 'structur', 'admiss', 'merit', 'criteria', 'admiss', 'process', 'sampl', 'test', 'paper', 'prospectu', 'admiss', 'queri', 'faculti', 'faculti', 'of', 'manag', '&', 'social', 'scienc', 'human', '&', 'social', 'scienc', 'intern', 'relat', 'manag', 'scienc', 'psycholog', 'english', 'faculti', 'of', 'engin', '&', 'appli', 'scienc', 'mechan', 'engin', 'electr', 'engin', 'civil', 'engin', 'comput', 'scienc', 'basic', 'scienc', 'life', 'at', 'dsu', 'new', 'event', 'facil', 'librari', 'student', 'societi', 'oric', 'director', 'ierc', 'csr', 'ceid', 'cs', '&', 'cr', 'qec', 'about', 'qec', 'assess', '&', 'evalu', 'accredit', 'of', 'program', 'capac', 'build', 'membership', 'of', 'dsu', 'statutori', 'bodi', 'qec', 'secretariat', 'qec', 'new', '&', 'event', 'pdc', 'alumni', 'tender', 'research', 'journal', 'sujbm', 'sjip', 'menu', 'menu', 'senior', 'manag', 'vice', 'chancellor', '’', 's', 'secretariat', 'engr', '.', 'prof.', 'dr.', 'muhammad', 'afzal', 'haqu', 'email', ':', 'vc', '@', 'dsu.edu.pk', 'phone', '#', '021-35244875', 'cell', '#', '0345-2479903', '(', 'pa', 'to', 'vc', ')', 'pro-vic', 'chancellor', '’', 's', 'offic', 'brig', 'prof.', 'dr.', 'ahm', 'saeed', 'minha', 'email', ':', 'ahmedsaeedminhas81', '@', 'dsu.edu.pk', ',', 'pvc', '@', 'dsu.edu.pk', 'phone', '#', '021-35244866', '(', 'pa', 'to', 'pro', 'vc', ')', 'registrar', \"'s\", 'offic', 'brig', 'prof.', 'dr.', 'muhammad', 'asif', 'iqbal', 'si', '(', 'm', ')', '(', 'retd', ')', 'email', ':', 'dr.asifiqqb', '@', 'dsu.edu.pk', ',', 'registrar', '@', 'dsu.edu.pk', 'phone', '#', '021-35244855', 'cell', '#', '0307-8594065', '(', 'pa', 'to', 'registrar', ')', 'dean', '’', 's', 'secretariat', '(', 'ea', ')', 'engr', '.', 'prof.', 'dr.', 'ahmad', 'hussain', 'email', ':', 'dean.ea', '@', 'dsu.edu.pk', 'phone', '#', '021-35244862', 'cell', '#', '0323-2411025', '(', 'pa', 'to', 'dean', ')', 'dean', '’', 's', 'secretariat', '(', 'mss', ')', 'prof.', 'dr', 'bashir', 'ahmad', 'email', ':', 'dean.mss', '@', 'dsu.edu.pk', 'phone', '#', '021-35244874', 'cell', '#', '0306-3048354', '(', 'pa', 'to', 'dean', ')', 'depart', '’', 'directori', 'admiss', 'mr.', 'muhammad', 'saad', 'asif', ',', 'assist', 'registrar', '(', 'admiss', ')', 'email', ':', 'saad.asif', '@', 'dsu.edu.pk', 'phone', '#', '021-35244851-2', 'cell', '#', '0324-2444595', ',', '0345-2212938', 'postgradu', 'program', 'ms.', 'rabia', 'mumtaz', ',', 'manag', 'postgradu', 'program', 'email', ':', 'rabia.mumtaz', '@', 'dsu.edu.pk', 'phone', '#', '021-35244851-2', 'cell', '#', '0324-2444595', 'enrol', '&', 'registr', 'ms.', 'arshia', 'haqqani', ',', 'assist', 'registrar', '(', 'academ', ')', 'email', ':', 'a.registrar.acad', '@', 'dsu.edu.pk', 'phone', '#', '021-35244858', 'cell', '#', '0302-0241679', 'employ', '/', 'hr', 'ms.', 'rubina', 'faiz', ',', 'assist', 'registrar', '(', 'hr', ')', 'email', ':', 'hr', '@', 'dsu.edu.pk', 'phone', '#', '021-35244857', 'depart', 'of', 'mechan', 'engin', 'engr', '.', 'prof.', 'dr.', 'ahmad', 'hussain', ',', 'hod', '(', 'mechan', 'engin', ')', 'email', ':', 'ahmad.hussain', '@', 'dsu.edu.pk', 'phone', '#', '021-35244870', '(', 'pa', 'to', 'hod', ')', 'depart', 'of', 'electr', 'engin', 'engr', '.', 'prof.', 'dr.', 'ahamd', 'hussain', ',', 'dean', '&', 'hod', '(', 'electr', 'engin', ')', 'email', ':', 'ahmad.hussain', '@', 'dsu.edu.pk', 'phone', '#', '021-35244859', 'cell', '#', '0300-2595782', '(', 'pa', 'to', 'hod', ')', 'depart', 'of', 'comput', 'scienc', 'mr.', 'noor', 'ali', ',', 'hod', '(', 'comput', 'scienc', ')', 'email', ':', 'noor.ali', '@', 'dsu.edu.pk', 'phone', '#', '021-35244864', 'depart', 'of', 'civil', 'engin', 'engr', '.', 'dr.', 'sy', 'fazal', 'abba', 'baqueri', ',', 'hod', '(', 'civil', 'engin', ')', 'email', ':', 'fazal.abba', '@', 'dsu.edu.pk', 'cell', '#', '0334-2931646', 'depart', 'of', 'manag', 'scienc', 'dr.', 'sobia', 'iqbal', ',', 'assist', 'professor', '&', 'hod', '(', 'manag', 'scienc', ')', 'email', ':', 'sobia.iqb', '@', 'dsu.edu.pk', 'phone', '#', '021-35244853-4', 'ext', '137', 'depart', 'of', 'human', 'and', 'social', 'scienc', 'dr.', 'razi', 'sultan', 'siddiqui', ',', 'assist', 'professor', '&', 'hod', '(', 'human', '&', 'social', 'scienc', ')', 'email', ':', 'razi', '@', 'dsu.edu.pk', 'phone', '#', '021-35244853-4', 'ext', '174', 'depart', 'of', 'human', 'and', 'social', 'scienc', 'dr.', 'rubina', 'israr', ',', 'assist', 'professor', '&', 'program', 'manag', ',', 'bs', '(', 'english', ')', 'email', ':', 'rubina.israr', '@', 'dsu.edu.pk', 'phone', '#', '021-35244853-4', 'ext', '130', 'depart', 'of', 'human', 'and', 'social', 'scienc', 'ms.', 'sidra', 'ahm', ',', 'lectur', '&', 'program', 'manag', ',', 'bs', '(', 'ir', ')', 'email', ':', 'sidra.ahm', '@', 'dsu.edu.pk', 'phone', '#', '021-35244853-4', 'ext', '153', 'queri', 'relat', 'to', 'dck', 'campu', 'muhammad', 'zaman', ',', 'admin', 'supervisor', 'email', ':', 'm.zaman', '@', 'dsu.edu.pk', 'phone', '#', '0344-2412896', 'qualiti', 'enhanc', 'cell', 'engr', '.', 'prof.', 'dr.', 'johar', 'khurshid', 'farooqi', ',', 'director', 'qec', 'email', ':', 'johar', '@', 'dsu.edu.pk', 'phone', '#', '021-35244851', '(', 'ext', '.', '114', ')', 'profession', 'develop', 'center', 'mr.', 'iqbal', 'hashmi', ',', 'director', 'profession', 'develop', 'center', '(', 'pdc', ')', '&', 'act', 'director', 'corpor', 'social', 'respons', '(', 'csr', ')', 'email', ':', 'pdc', '@', 'dsu.edu.pk', 'phone', '#', '021-35244853-4', '(', 'ext', '.', '206', ')', 'student', 'societi', 'coordin', 'committe', '(', 'sscc', ')', 'ms.', 'saima', 'sardar', 'khan', '(', 'director', ')', 'email', ':', 'saima', '@', 'dsu.edu.pk', 'phone', '#', '021-35244853-4', '(', 'ext', '217', ')', 'alumni', 'relat', 'ms.', 'tehseen', 'azhar', 'email', ':', 'tehseen.azhar', '@', 'dsu.edu.pk', 'phone', '#', '021-35244865', 'career', 'servic', '&', 'corpor', 'relat', 'depart', 'ms.', 'subeika', 'fatima', 'ali', ',', 'director', 'cs', '&', 'cr', 'email', ':', 'subeika.rizvi', '@', 'dsu.edu.pk', 'phone', '#', '021-35244869', 'intern', 'educ', 'resourc', 'center', '(', 'ierc', ')', 'engr', '.', 'm.', 'asadullah', 'siddiqui', ',', 'director', 'ierc', 'email', ':', 'asadullah', '@', 'dsu.edu.pk', 'phone', '#', '021-35244853-4', '(', 'ext', '222', ')', 'center', 'for', 'entrepreneurship', '&', 'innov', 'develop', '(', 'ceid', ')', 'ms.', 'eram', 'abbasi', '(', 'director', ')', 'email', ':', 'info.ceid', '@', 'dsu.edu.pk', 'phone', '#', '0321-2162719', 'market', 'ms.', 'saima', 'sardar', 'khan', ',', 'manag', 'market', 'email', ':', 'saima', '@', 'dsu.edu.pk', 'phone', '#', '021-35244871', 'administr', '&', 'secur', 'lt.', 'col.', '(', 'retd', ')', '.', 'ghulam', 'dastagir', ',', 'admin', '&', 'secur', 'offic', 'email', ':', 'aso', '@', 'dsu.edu.pk', 'phone', '#', '021-35244860', 'cell', '#', '0321-3680021', 'fax', '#', '021-35244855', 'cell', '#', '0340-4864835', '(', 'pa', 'to', 'aso', ')', 'financ', 'mr.', 'jave', 'ali', 'khan', ',', 'manag', 'financ', 'email', ':', 'j.khan', '@', 'dsu.edu.pk', 'phone', '#', '021-35244861', 'cell', '#', '0346-3244745', '(', 'mr.', 'elwyn', 'mathew', ',', 'incharg', 'fee', 'bill', ')', 'procur', 'maj.', '(', 'retd', ')', '.', 'ahm', 'faseeh', 'hussain', ',', 'procur', 'offic', 'email', ':', 'ahmed.faseeh', '@', 'dsu.edu.pk', 'phone', '#', '021-35244872', 'cell', '#', '0304-2274288', 'sport', 'mr.', 'moin-ul-atiq', '(', 'ex-intern', 'cricket', ')', ',', 'director', 'sport', 'email', ':', 'moin.atiq', '@', 'dsu.edu.pk', 'phone', '#', '021-35244853-4', '(', 'ext', '209', ')', 'cell', '#', '0322-2539007', 'inform', 'technolog', 'dr.', 'huma', 'jamsh', '(', 'director', '(', 'act', ')', ')', 'email', ':', 'director.it', '@', 'dsu.edu.pk', 'phone', '#', '021-35244853-4', '(', 'ext', '142', ')', 'it', '(', 'lms/faculti', 'queri', ')', 'mr.', 'hassan', 'raza', ',', '(', 'applic', 'support', ')', 'email', ':', 'hasan.raza', '@', 'dsu.edu.pk', 'phone', '#', '021-35244853-4', '(', 'ext', '144', ')', 'it', '(', 'administr', ')', 'mr.', 'noman', 'hai', ',', 'assist', 'manag', 'it', '(', 'system', ')', 'email', ':', 'a.mit.si', '@', 'dsu.edu.pk', 'phone', '#', '021-35244873', 'mainten', 'engr', '.', 'riaz', 'ahm', 'mainten', 'offic', 'email', ':', 'engr.riaz', '@', 'dsu.edu.pk', 'phone', '#', '021-35858604', 'main', 'campu', 'map', 'dha', 'citi', 'karachi', '(', 'dck', ')', 'campu', 'map', 'about', 'us', 'about', 'dsu', 'vision', 'and', 'mission', 'object', 'core', 'valu', 'equal', 'opportun', 'polici', 'privaci', 'polici', 'covid', 'updat', 'academ', 'mechan', 'engin', 'electr', 'engin', 'civil', 'engin', 'comput', 'scienc', 'softwar', 'engin', 'data', 'scienc', 'manag', 'scienc', 'busi', 'analyt', '&', 'program', 'account', '&', 'financ', 'english', 'intern', 'relat', 'psycholog', 'academ', 'calendar', 'facil', '&', 'servic', 'librari', 'mechan', 'lab', 'electr', 'lab', 'comput', 'scienc', 'lab', 'it', 'infrastructur', 'facil', 'at', 'dsu', 'career', 'servic', '&', 'corpor', 'relat', 'life', 'at', 'dsu', 'new', 'event', 'profession', 'societi', 'student', 'societi', 'student', 'handbook', 'connect', 'dsu', 'appli', 'dck', 'hostel', '&', 'facil', 'resourc', 'career', 'download', 'dacc', 'tender', 'alumni', 'video', 'galleri', 'faq', \"'s\", 'contact', 'us', 'polici', 'newslett', '©', 'copyright', '-', 'dha', 'suffa', 'univers', '-', 'enfold', 'theme', 'by', 'kriesi', 'scroll', 'to', 'top']\n"
          ]
        }
      ]
    },
    {
      "cell_type": "code",
      "source": [
        "#Lancaster Stemming\n",
        "\n",
        "from nltk.stem import LancasterStemmer\n",
        "ls = LancasterStemmer()\n",
        "lancaster_stem = []\n",
        "\n",
        "for text in tokenized_text:\n",
        "    lancaster_stem.append(ls.stem(text))\n",
        "\n",
        "print(lancaster_stem)"
      ],
      "metadata": {
        "colab": {
          "base_uri": "https://localhost:8080/"
        },
        "id": "TtrweD6D12Rs",
        "outputId": "a0d5de04-46bf-4c72-d653-ac39ffca73e8"
      },
      "execution_count": 12,
      "outputs": [
        {
          "output_type": "stream",
          "name": "stdout",
          "text": [
            "['contact', 'us', '–', 'dha', 'suff', 'univers', 'twitterlinkedinfacebookinstagramyoutuberss', 'onlin', 'apply', 'for', 'spring', '2024', 'semest', 'for', 'be', 'elect', 'engin', ',', 'bs', 'engin', 'technolog', '(', 'comput', ')', ',', 'bs', 'comput', 'sci', '(', 'superhighway', 'camp', ')', ',', 'bs', 'cyb', 'sec', '(', 'main', 'camp', ')', ',', 'bba', ',', 'bs', '(', 'busy', 'analys', 'and', 'program', ')', ',', 'bs', '(', 'account', '&', 'fin', ')', ',', 'bs', '(', 'intern', 'rel', ')', ',', 'bs', '(', 'engl', ')', ',', 'bs', '(', 'psycholog', ')', ',', 'mphil', '(', 'psycholog', ')', ',', 'mba', 'and', 'postgradu', 'program', 'ar', 'op', '.', 'last', 'dat', 'to', 'apply', 'and', 'pay', 'the', 'fee', 'is', '12th', 'febru', '2024', 'and', 'on-campus', 'test', 'wil', 'be', 'held', 'on', '14th', 'febru', '2024', '(', 'tent', ')', 'at', 'main', 'camp', 'dha', 'phas', '7ext', '.', 'and', 'onlin', 'test', 'wil', 'be', 'held', 'on', '15th', 'febru', '2024', 'tent', 'not', ':', 'admit', 'card', 'wil', 'be', 'issu', 'to', 'the', 'reg', 'candid', 'on', 'day', 'bef', 'test', 'dat', 'on', 'their', 'provid', 'email', 'address', 'apply', 'now', 'at', ':', 'http', ':', '//erp.dsu.edu.pk/web/signin', 'merit', 'criter', ':', 'https', ':', '//www.dsu.edu.pk/admission-merit-criteria/', 'fee', 'structure', ':', 'https', ':', '//www.dsu.edu.pk/fees-structure/', 'fin', 'assistance/scholarships', ':', 'https', ':', '//www.dsu.edu.pk/financial-assistance/', 'sampl', 'pap', ':', 'https', ':', '//www.dsu.edu.pk/wp-content/uploads/2023/01/sample-test-merge_compressed.pdf', '(', 'not', ':', 'thi', 'sampl', 'pap', 'is', 'for', 'an', 'ide', 'on', 'not', 'for', 'prep', ',', 'you', 'can', 'prep', 'from', 'sat/nts', 'sampl', 'pap', ')', '.', 'for', 'detail', ',', 'pleas', 'cal', '021', '35244851-52', '&', '0324-2444595', '.', 'dha', 'suff', 'univers', 'main', 'camp', 'loc', 'https', ':', '//maps.app.goo.gl/b3gstqvx3xa3v3kw9', 'dha', 'suff', 'univers', 'dck', 'camp', 'loc', 'https', ':', '//maps.app.goo.gl/tmht3nrgx6kfxcuy6', 'admit', 'spring', '2024', 'about', 'object', 'cor', 'valu', 'mess', 'from', 'the', 'vic', 'chancel', 'auth', 'of', 'the', 'univers', 'recognit', 'and', 'approv', 'by', 'reg', 'body', 'research', 'and', 'academ', 'collab', 'chancel', '’', 's', 'gallery', 'board', 'of', 'govern', 'vis', 'and', 'miss', 'academ', 'facul', 'of', 'man', '&', 'soc', 'sci', 'dean', '’', 's', 'profil', 'vis', 'of', 'mss', 'miss', 'of', 'mss', 'depart', 'of', 'man', 'sci', 'miss', 'object', 'bba', 'bs', 'bap', 'bs', 'af', 'mba', 'ms', '(', 'ms', ')', 'phd', 'depart', 'of', 'hum', '&', 'soc', 'sci', 'miss', 'object', 'bs', 'intern', 'rel', 'bs', 'engl', 'psycholog', 'mphil', '(', 'psycholog', ')', 'facul', 'of', 'engin', '&', 'apply', 'sci', 'mess', 'from', 'dean', 'mech', 'engin', 'elect', 'engin', 'bachel', 'of', 'engin', 'technolog', '(', 'comput', ')', 'civil', 'engin', 'comput', 'sci', 'comput', 'sci', 'dat', 'sci', 'softw', 'engin', 'art', 'intelleg', 'cyb', 'sec', 'bas', 'sci', 'academ', 'calend', 'vc', 'hon', 'list', 'dean', 'hon', 'list', 'admit', 'apply', 'for', 'admit', 'admit', 'reg', 'fin', 'assist', 'fee', 'structure', 'admit', 'merit', 'criter', 'admit', 'process', 'sampl', 'test', 'pap', 'prospect', 'admit', 'query', 'facul', 'facul', 'of', 'man', '&', 'soc', 'sci', 'hum', '&', 'soc', 'sci', 'intern', 'rel', 'man', 'sci', 'psycholog', 'engl', 'facul', 'of', 'engin', '&', 'apply', 'sci', 'mech', 'engin', 'elect', 'engin', 'civil', 'engin', 'comput', 'sci', 'bas', 'sci', 'lif', 'at', 'dsu', 'new', 'ev', 'facil', 'libr', 'stud', 'socy', 'or', 'direct', 'ierc', 'csr', 'ceid', 'cs', '&', 'cr', 'qec', 'about', 'qec', 'assess', '&', 'evalu', 'accredit', 'of', 'program', 'capac', 'build', 'memb', 'of', 'dsu', 'statut', 'body', 'qec', 'secret', 'qec', 'new', '&', 'ev', 'pdc', 'alumn', 'tend', 'research', 'journ', 'sujbm', 'sjip', 'menu', 'menu', 'seny', 'man', 'vic', 'chancel', '’', 's', 'secret', 'engr', '.', 'prof.', 'dr.', 'muhammad', 'afz', 'haqu', 'email', ':', 'vc', '@', 'dsu.edu.pk', 'phon', '#', '021-35244875', 'cel', '#', '0345-2479903', '(', 'pa', 'to', 'vc', ')', 'pro-vice', 'chancel', '’', 's', 'off', 'brig', 'prof.', 'dr.', 'ahm', 'saee', 'minha', 'email', ':', 'ahmedsaeedminhas81', '@', 'dsu.edu.pk', ',', 'pvc', '@', 'dsu.edu.pk', 'phon', '#', '021-35244866', '(', 'pa', 'to', 'pro', 'vc', ')', 'registr', \"'s\", 'off', 'brig', 'prof.', 'dr.', 'muhammad', 'as', 'iqb', 'si', '(', 'm', ')', '(', 'retd', ')', 'email', ':', 'dr.asifiqqbal', '@', 'dsu.edu.pk', ',', 'registr', '@', 'dsu.edu.pk', 'phon', '#', '021-35244855', 'cel', '#', '0307-8594065', '(', 'pa', 'to', 'registr', ')', 'dean', '’', 's', 'secret', '(', 'ea', ')', 'engr', '.', 'prof.', 'dr.', 'ahmad', 'hussain', 'email', ':', 'dean.eas', '@', 'dsu.edu.pk', 'phon', '#', '021-35244862', 'cel', '#', '0323-2411025', '(', 'pa', 'to', 'dean', ')', 'dean', '’', 's', 'secret', '(', 'mss', ')', 'prof.', 'dr', 'bashir', 'ahmad', 'email', ':', 'dean.mss', '@', 'dsu.edu.pk', 'phon', '#', '021-35244874', 'cel', '#', '0306-3048354', '(', 'pa', 'to', 'dean', ')', 'depart', '’', 'direct', 'admit', 'mr.', 'muhammad', 'saad', 'as', ',', 'assist', 'registr', '(', 'admit', ')', 'email', ':', 'saad.asif', '@', 'dsu.edu.pk', 'phon', '#', '021-35244851-2', 'cel', '#', '0324-2444595', ',', '0345-2212938', 'postgradu', 'program', 'ms.', 'rab', 'mumtaz', ',', 'man', 'postgradu', 'program', 'email', ':', 'rabia.mumtaz', '@', 'dsu.edu.pk', 'phon', '#', '021-35244851-2', 'cel', '#', '0324-2444595', 'enrol', '&', 'reg', 'ms.', 'arsh', 'haqqan', ',', 'assist', 'registr', '(', 'academ', ')', 'email', ':', 'a.registrar.acad', '@', 'dsu.edu.pk', 'phon', '#', '021-35244858', 'cel', '#', '0302-0241679', 'employ', '/', 'hr', 'ms.', 'rubin', 'faiz', ',', 'assist', 'registr', '(', 'hr', ')', 'email', ':', 'hr', '@', 'dsu.edu.pk', 'phon', '#', '021-35244857', 'depart', 'of', 'mech', 'engin', 'engr', '.', 'prof.', 'dr.', 'ahmad', 'hussain', ',', 'hod', '(', 'mech', 'engin', ')', 'email', ':', 'ahmad.hussain', '@', 'dsu.edu.pk', 'phon', '#', '021-35244870', '(', 'pa', 'to', 'hod', ')', 'depart', 'of', 'elect', 'engin', 'engr', '.', 'prof.', 'dr.', 'ahamd', 'hussain', ',', 'dean', '&', 'hod', '(', 'elect', 'engin', ')', 'email', ':', 'ahmad.hussain', '@', 'dsu.edu.pk', 'phon', '#', '021-35244859', 'cel', '#', '0300-2595782', '(', 'pa', 'to', 'hod', ')', 'depart', 'of', 'comput', 'sci', 'mr.', 'noor', 'al', ',', 'hod', '(', 'comput', 'sci', ')', 'email', ':', 'noor.ali', '@', 'dsu.edu.pk', 'phon', '#', '021-35244864', 'depart', 'of', 'civil', 'engin', 'engr', '.', 'dr.', 'syed', 'faz', 'abba', 'baquer', ',', 'hod', '(', 'civil', 'engin', ')', 'email', ':', 'fazal.abbas', '@', 'dsu.edu.pk', 'cel', '#', '0334-2931646', 'depart', 'of', 'man', 'sci', 'dr.', 'sob', 'iqb', ',', 'assist', 'profess', '&', 'hod', '(', 'man', 'sci', ')', 'email', ':', 'sobia.iqbal', '@', 'dsu.edu.pk', 'phon', '#', '021-35244853-4', 'ext', '137', 'depart', 'of', 'hum', 'and', 'soc', 'sci', 'dr.', 'raz', 'sult', 'siddiqu', ',', 'assist', 'profess', '&', 'hod', '(', 'hum', '&', 'soc', 'sci', ')', 'email', ':', 'raz', '@', 'dsu.edu.pk', 'phon', '#', '021-35244853-4', 'ext', '174', 'depart', 'of', 'hum', 'and', 'soc', 'sci', 'dr.', 'rubin', 'isr', ',', 'assist', 'profess', '&', 'program', 'man', ',', 'bs', '(', 'engl', ')', 'email', ':', 'rubina.israr', '@', 'dsu.edu.pk', 'phon', '#', '021-35244853-4', 'ext', '130', 'depart', 'of', 'hum', 'and', 'soc', 'sci', 'ms.', 'sidr', 'ahm', ',', 'lect', '&', 'program', 'man', ',', 'bs', '(', 'ir', ')', 'email', ':', 'sidra.ahmed', '@', 'dsu.edu.pk', 'phon', '#', '021-35244853-4', 'ext', '153', 'query', 'rel', 'to', 'dck', 'camp', 'muhammad', 'zam', ',', 'admin', 'superv', 'email', ':', 'm.zaman', '@', 'dsu.edu.pk', 'phon', '#', '0344-2412896', 'qual', 'enh', 'cel', 'engr', '.', 'prof.', 'dr.', 'joh', 'khurshid', 'farooq', ',', 'direct', 'qec', 'email', ':', 'joh', '@', 'dsu.edu.pk', 'phon', '#', '021-35244851', '(', 'ext', '.', '114', ')', 'profess', 'develop', 'cent', 'mr.', 'iqb', 'hashm', ',', 'direct', 'profess', 'develop', 'cent', '(', 'pdc', ')', '&', 'act', 'direct', 'corp', 'soc', 'respons', '(', 'csr', ')', 'email', ':', 'pdc', '@', 'dsu.edu.pk', 'phon', '#', '021-35244853-4', '(', 'ext', '.', '206', ')', 'stud', 'socy', 'coordin', 'commit', '(', 'sscc', ')', 'ms.', 'saim', 'sard', 'khan', '(', 'direct', ')', 'email', ':', 'saim', '@', 'dsu.edu.pk', 'phon', '#', '021-35244853-4', '(', 'ext', '217', ')', 'alumn', 'rel', 'ms.', 'tehseen', 'azh', 'email', ':', 'tehseen.azhar', '@', 'dsu.edu.pk', 'phon', '#', '021-35244865', 'car', 'serv', '&', 'corp', 'rel', 'depart', 'ms.', 'subeik', 'fatim', 'al', ',', 'direct', 'cs', '&', 'cr', 'email', ':', 'subeika.rizvi', '@', 'dsu.edu.pk', 'phon', '#', '021-35244869', 'intern', 'educ', 'resourc', 'cent', '(', 'ierc', ')', 'engr', '.', 'm.', 'asadullah', 'siddiqu', ',', 'direct', 'ierc', 'email', ':', 'asadullah', '@', 'dsu.edu.pk', 'phon', '#', '021-35244853-4', '(', 'ext', '222', ')', 'cent', 'for', 'entrepr', '&', 'innov', 'develop', '(', 'ceid', ')', 'ms.', 'eram', 'abbas', '(', 'direct', ')', 'email', ':', 'info.ceid', '@', 'dsu.edu.pk', 'phon', '#', '0321-2162719', 'market', 'ms.', 'saim', 'sard', 'khan', ',', 'man', 'market', 'email', ':', 'saim', '@', 'dsu.edu.pk', 'phon', '#', '021-35244871', 'admin', '&', 'sec', 'lt.', 'col.', '(', 'retd', ')', '.', 'ghulam', 'dastagir', ',', 'admin', '&', 'sec', 'off', 'email', ':', 'aso', '@', 'dsu.edu.pk', 'phon', '#', '021-35244860', 'cel', '#', '0321-3680021', 'fax', '#', '021-35244855', 'cel', '#', '0340-4864835', '(', 'pa', 'to', 'aso', ')', 'fin', 'mr.', 'jav', 'al', 'khan', ',', 'man', 'fin', 'email', ':', 'j.khan', '@', 'dsu.edu.pk', 'phon', '#', '021-35244861', 'cel', '#', '0346-3244745', '(', 'mr.', 'elwyn', 'mathew', ',', 'incharg', 'fee', 'bil', ')', 'proc', 'maj.', '(', 'retd', ')', '.', 'ahm', 'faseeh', 'hussain', ',', 'proc', 'off', 'email', ':', 'ahmed.faseeh', '@', 'dsu.edu.pk', 'phon', '#', '021-35244872', 'cel', '#', '0304-2274288', 'sport', 'mr.', 'moin-ul-atiq', '(', 'ex-international', 'cricket', ')', ',', 'direct', 'sport', 'email', ':', 'moin.atiq', '@', 'dsu.edu.pk', 'phon', '#', '021-35244853-4', '(', 'ext', '209', ')', 'cel', '#', '0322-2539007', 'inform', 'technolog', 'dr.', 'hum', 'jamsh', '(', 'direct', '(', 'act', ')', ')', 'email', ':', 'director.it', '@', 'dsu.edu.pk', 'phon', '#', '021-35244853-4', '(', 'ext', '142', ')', 'it', '(', 'lms/faculty', 'query', ')', 'mr.', 'hass', 'raz', ',', '(', 'apply', 'support', ')', 'email', ':', 'hasan.raza', '@', 'dsu.edu.pk', 'phon', '#', '021-35244853-4', '(', 'ext', '144', ')', 'it', '(', 'admin', ')', 'mr.', 'nom', 'hai', ',', 'assist', 'man', 'it', '(', 'system', ')', 'email', ':', 'a.mit.sys', '@', 'dsu.edu.pk', 'phon', '#', '021-35244873', 'maint', 'engr', '.', 'riaz', 'ahm', 'maint', 'off', 'email', ':', 'engr.riaz', '@', 'dsu.edu.pk', 'phon', '#', '021-35858604', 'main', 'camp', 'map', 'dha', 'city', 'karach', '(', 'dck', ')', 'camp', 'map', 'about', 'us', 'about', 'dsu', 'vis', 'and', 'miss', 'object', 'cor', 'valu', 'eq', 'opportun', 'policy', 'priv', 'policy', 'covid', 'upd', 'academ', 'mech', 'engin', 'elect', 'engin', 'civil', 'engin', 'comput', 'sci', 'softw', 'engin', 'dat', 'sci', 'man', 'sci', 'busy', 'analys', '&', 'program', 'account', '&', 'fin', 'engl', 'intern', 'rel', 'psycholog', 'academ', 'calend', 'facil', '&', 'serv', 'libr', 'mech', 'lab', 'elect', 'lab', 'comput', 'sci', 'lab', 'it', 'infrastruct', 'facil', 'at', 'dsu', 'car', 'serv', '&', 'corp', 'rel', 'lif', 'at', 'dsu', 'new', 'ev', 'profess', 'socy', 'stud', 'socy', 'stud', 'handbook', 'connect', 'dsu', 'apply', 'dck', 'hostel', '&', 'facil', 'resourc', 'car', 'download', 'dacc', 'tend', 'alumn', 'video', 'gallery', 'faq', \"'s\", 'contact', 'us', 'policy', 'newslet', '©', 'copyright', '-', 'dha', 'suff', 'univers', '-', 'enfold', 'them', 'by', 'kries', 'scroll', 'to', 'top']\n"
          ]
        }
      ]
    },
    {
      "cell_type": "markdown",
      "source": [
        "**Q06**"
      ],
      "metadata": {
        "id": "fVAxYVdC3jl_"
      }
    },
    {
      "cell_type": "code",
      "source": [
        "text = '''Pila Forfeited you engrossed but 1kometimes explained. Another 1kacokaco1 as studied it to evident. Merry sense 9given he be arisepila.\n",
        "Conduct at an replied removal an amongst. Remainingzalima 0determine few her two cordially Zalima admitting old. Sometimes ctra*nger his pisdsdla\n",
        "ourselves her co*la depending you boy. Eat discretion cultivated possession far comparison projection pila considered. And few fat interested\n",
        "discovered inquietude insensible unsatiable increasing zalima eat.'''"
      ],
      "metadata": {
        "id": "ICf4dnPN_UDC"
      },
      "execution_count": 13,
      "outputs": []
    },
    {
      "cell_type": "code",
      "source": [
        "#For First Word"
      ],
      "metadata": {
        "id": "ObE5lG3kBhUY"
      },
      "execution_count": 14,
      "outputs": []
    },
    {
      "cell_type": "code",
      "source": [
        "regex4_first_word = r'[zZ][a-z]*a'\n",
        "\n",
        "print('Regular Expression to extract first word is:', regex4_first_word)"
      ],
      "metadata": {
        "colab": {
          "base_uri": "https://localhost:8080/"
        },
        "id": "aQ6uBRut_OGE",
        "outputId": "2b637be3-6d54-4710-8aeb-aa3998f77961"
      },
      "execution_count": 15,
      "outputs": [
        {
          "output_type": "stream",
          "name": "stdout",
          "text": [
            "Regular Expression to extract first word is: [zZ][a-z]*a\n"
          ]
        }
      ]
    },
    {
      "cell_type": "code",
      "source": [
        "first_word = re.findall(regex4_first_word, text)\n",
        "\n",
        "print('Frequency (Count) of first word in random text:', len(first_word))"
      ],
      "metadata": {
        "colab": {
          "base_uri": "https://localhost:8080/"
        },
        "id": "jpNues7iBkWM",
        "outputId": "9c5916dd-1e97-4657-d100-26ea35901b3f"
      },
      "execution_count": 16,
      "outputs": [
        {
          "output_type": "stream",
          "name": "stdout",
          "text": [
            "Frequency (Count) of first word in random text: 3\n"
          ]
        }
      ]
    },
    {
      "cell_type": "code",
      "source": [
        "print('First Word is:', first_word[1])"
      ],
      "metadata": {
        "colab": {
          "base_uri": "https://localhost:8080/"
        },
        "id": "cfmQdx3YCXBZ",
        "outputId": "4d4bbb0d-d7cf-420a-a1ea-2c15bbb3b045"
      },
      "execution_count": 17,
      "outputs": [
        {
          "output_type": "stream",
          "name": "stdout",
          "text": [
            "First Word is: Zalima\n"
          ]
        }
      ]
    },
    {
      "cell_type": "code",
      "source": [
        "#For Second Word"
      ],
      "metadata": {
        "id": "nmxbCs7TC2cn"
      },
      "execution_count": 18,
      "outputs": []
    },
    {
      "cell_type": "code",
      "source": [
        "regex4_second_word = r'\\dk[a-z]*\\d'\n",
        "\n",
        "print('Regular Expression to extract second word is:', regex4_second_word)"
      ],
      "metadata": {
        "colab": {
          "base_uri": "https://localhost:8080/"
        },
        "id": "1CW5tmAtDKsT",
        "outputId": "3d49694a-2773-47d4-8ee1-057a4795f84c"
      },
      "execution_count": 19,
      "outputs": [
        {
          "output_type": "stream",
          "name": "stdout",
          "text": [
            "Regular Expression to extract second word is: \\dk[a-z]*\\d\n"
          ]
        }
      ]
    },
    {
      "cell_type": "code",
      "source": [
        "second_word = re.findall(regex4_second_word, text)\n",
        "\n",
        "print('Second Word is:', second_word[0])"
      ],
      "metadata": {
        "colab": {
          "base_uri": "https://localhost:8080/"
        },
        "id": "3zynQF7oFqyU",
        "outputId": "89b74864-77ec-4a80-dd44-8b4a5cdaf0ed"
      },
      "execution_count": 20,
      "outputs": [
        {
          "output_type": "stream",
          "name": "stdout",
          "text": [
            "Second Word is: 1kacokaco1\n"
          ]
        }
      ]
    },
    {
      "cell_type": "code",
      "source": [
        "actual_second_word = second_word[0][3:-3]\n",
        "\n",
        "print('Actual second word is:', actual_second_word)"
      ],
      "metadata": {
        "colab": {
          "base_uri": "https://localhost:8080/"
        },
        "id": "AiP7oZq4Gv2J",
        "outputId": "c0f9441b-a138-4524-c307-e3197c3e696d"
      },
      "execution_count": 21,
      "outputs": [
        {
          "output_type": "stream",
          "name": "stdout",
          "text": [
            "Actual second word is: coka\n"
          ]
        }
      ]
    },
    {
      "cell_type": "code",
      "source": [
        "#For Third Word"
      ],
      "metadata": {
        "id": "u3TkEhX4Oi66"
      },
      "execution_count": 22,
      "outputs": []
    },
    {
      "cell_type": "code",
      "source": [
        "regex4_third_word = r'c[a-z]*\\*[a-z]+a'\n",
        "\n",
        "print('Regular Expression to extract third word is:', regex4_third_word)"
      ],
      "metadata": {
        "colab": {
          "base_uri": "https://localhost:8080/"
        },
        "id": "CoJwckvPP081",
        "outputId": "5e89a7e5-ea5a-4805-944e-765cb4b4de49"
      },
      "execution_count": 23,
      "outputs": [
        {
          "output_type": "stream",
          "name": "stdout",
          "text": [
            "Regular Expression to extract third word is: c[a-z]*\\*[a-z]+a\n"
          ]
        }
      ]
    },
    {
      "cell_type": "code",
      "source": [
        "third_word = re.findall(regex4_third_word, text)\n",
        "\n",
        "print('Third Word is:', third_word[0])"
      ],
      "metadata": {
        "colab": {
          "base_uri": "https://localhost:8080/"
        },
        "id": "Ws70a1i9Q9T-",
        "outputId": "5e305766-b85b-4c3c-a43e-c12e386d23a4"
      },
      "execution_count": 24,
      "outputs": [
        {
          "output_type": "stream",
          "name": "stdout",
          "text": [
            "Third Word is: co*la\n"
          ]
        }
      ]
    },
    {
      "cell_type": "code",
      "source": [
        "actual_third_word = third_word[0].replace('*', '')\n",
        "\n",
        "print('Actual third word is:', actual_third_word)"
      ],
      "metadata": {
        "colab": {
          "base_uri": "https://localhost:8080/"
        },
        "id": "MO-mlj6DRG0J",
        "outputId": "5d07d0ff-5cc3-4ed9-c4d2-ab1d81d81913"
      },
      "execution_count": 25,
      "outputs": [
        {
          "output_type": "stream",
          "name": "stdout",
          "text": [
            "Actual third word is: cola\n"
          ]
        }
      ]
    },
    {
      "cell_type": "code",
      "source": [
        "#For Fourth Word"
      ],
      "metadata": {
        "id": "qSEqzkbnT96W"
      },
      "execution_count": 26,
      "outputs": []
    },
    {
      "cell_type": "code",
      "source": [
        "regex4_fourth_word = r'[pP][a-z]{2}a'\n",
        "\n",
        "print('Regular Expression to extract fourth word is:', regex4_fourth_word)"
      ],
      "metadata": {
        "colab": {
          "base_uri": "https://localhost:8080/"
        },
        "id": "He8YH-UqUCaY",
        "outputId": "2bdf6298-391a-4dd0-d7e6-9e76296bd234"
      },
      "execution_count": 27,
      "outputs": [
        {
          "output_type": "stream",
          "name": "stdout",
          "text": [
            "Regular Expression to extract fourth word is: [pP][a-z]{2}a\n"
          ]
        }
      ]
    },
    {
      "cell_type": "code",
      "source": [
        "fourth_word = re.findall(regex4_fourth_word, text)\n",
        "\n",
        "print('Frequency (Count) of fourth word in random text:', len(fourth_word))"
      ],
      "metadata": {
        "colab": {
          "base_uri": "https://localhost:8080/"
        },
        "id": "RYvJzdl_bcKT",
        "outputId": "e1e0cf1b-3871-4495-fe76-720b5aa35ac2"
      },
      "execution_count": 28,
      "outputs": [
        {
          "output_type": "stream",
          "name": "stdout",
          "text": [
            "Frequency (Count) of fourth word in random text: 3\n"
          ]
        }
      ]
    },
    {
      "cell_type": "code",
      "source": [
        "print('Fourth Word is:', fourth_word[1])"
      ],
      "metadata": {
        "colab": {
          "base_uri": "https://localhost:8080/"
        },
        "id": "PxMEKlnUbtgR",
        "outputId": "010e8b42-da14-474c-b4e8-46a56d83f37e"
      },
      "execution_count": 29,
      "outputs": [
        {
          "output_type": "stream",
          "name": "stdout",
          "text": [
            "Fourth Word is: pila\n"
          ]
        }
      ]
    },
    {
      "cell_type": "code",
      "source": [
        "#For Fifth Word"
      ],
      "metadata": {
        "id": "WVtnrXx8n-6Q"
      },
      "execution_count": 30,
      "outputs": []
    },
    {
      "cell_type": "code",
      "source": [
        "fifth_word = 'de'"
      ],
      "metadata": {
        "id": "NdisZ1XzgF5V"
      },
      "execution_count": 31,
      "outputs": []
    },
    {
      "cell_type": "code",
      "source": [
        "#Final Message"
      ],
      "metadata": {
        "id": "uL66x_xzoCkw"
      },
      "execution_count": 32,
      "outputs": []
    },
    {
      "cell_type": "code",
      "source": [
        "message = first_word[1] + ' ' + actual_second_word + ' ' + actual_third_word + ' ' + fourth_word[1] + ' ' + fifth_word\n",
        "\n",
        "print(message)"
      ],
      "metadata": {
        "colab": {
          "base_uri": "https://localhost:8080/"
        },
        "id": "8WQf-b0Vn4ZV",
        "outputId": "b162b620-778c-4200-bdcd-c244741a8686"
      },
      "execution_count": 33,
      "outputs": [
        {
          "output_type": "stream",
          "name": "stdout",
          "text": [
            "Zalima coka cola pila de\n"
          ]
        }
      ]
    }
  ]
}